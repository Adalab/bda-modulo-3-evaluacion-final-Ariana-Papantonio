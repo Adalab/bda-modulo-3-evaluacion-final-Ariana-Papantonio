{
 "cells": [
  {
   "cell_type": "code",
   "execution_count": 2,
   "metadata": {},
   "outputs": [],
   "source": [
    "##Importamos librerias \n",
    "\n",
    "import pandas as pd\n",
    "import numpy as np\n",
    "import scipy.stats as stats\n",
    "from scipy import stats \n",
    "from scipy.stats import shapiro, levene\n",
    "from scipy.stats import ttest_ind\n",
    "from scipy.stats import mannwhitneyu\n",
    "from scipy.stats import chi2_contingency\n",
    "from scipy.stats import f_oneway\n",
    "from src import soporte_funciones as spt\n",
    "# Visualización\n",
    "# ------------------------------------------------------------------------------\n",
    "import matplotlib.pyplot as plt\n",
    "import seaborn as sns"
   ]
  },
  {
   "cell_type": "code",
   "execution_count": 3,
   "metadata": {},
   "outputs": [
    {
     "data": {
      "text/html": [
       "<div>\n",
       "<style scoped>\n",
       "    .dataframe tbody tr th:only-of-type {\n",
       "        vertical-align: middle;\n",
       "    }\n",
       "\n",
       "    .dataframe tbody tr th {\n",
       "        vertical-align: top;\n",
       "    }\n",
       "\n",
       "    .dataframe thead th {\n",
       "        text-align: right;\n",
       "    }\n",
       "</style>\n",
       "<table border=\"1\" class=\"dataframe\">\n",
       "  <thead>\n",
       "    <tr style=\"text-align: right;\">\n",
       "      <th></th>\n",
       "      <th>loyalty_number</th>\n",
       "      <th>year</th>\n",
       "      <th>month</th>\n",
       "      <th>flights_booked</th>\n",
       "      <th>flights_with_companions</th>\n",
       "      <th>total_flights</th>\n",
       "      <th>distance</th>\n",
       "      <th>points_accumulated</th>\n",
       "      <th>points_redeemed</th>\n",
       "      <th>dollar_cost_points_redeemed</th>\n",
       "      <th>...</th>\n",
       "      <th>education</th>\n",
       "      <th>marital_status</th>\n",
       "      <th>loyalty_card</th>\n",
       "      <th>clv</th>\n",
       "      <th>enrollment_type</th>\n",
       "      <th>enrollment_year</th>\n",
       "      <th>enrollment_month</th>\n",
       "      <th>cancellation_year</th>\n",
       "      <th>cancellation_month</th>\n",
       "      <th>salary</th>\n",
       "    </tr>\n",
       "  </thead>\n",
       "  <tbody>\n",
       "    <tr>\n",
       "      <th>0</th>\n",
       "      <td>100018</td>\n",
       "      <td>2017</td>\n",
       "      <td>1</td>\n",
       "      <td>3</td>\n",
       "      <td>0</td>\n",
       "      <td>3</td>\n",
       "      <td>1521</td>\n",
       "      <td>152.0</td>\n",
       "      <td>0</td>\n",
       "      <td>0</td>\n",
       "      <td>...</td>\n",
       "      <td>Bachelor</td>\n",
       "      <td>Married</td>\n",
       "      <td>Aurora</td>\n",
       "      <td>7919.2</td>\n",
       "      <td>Standard</td>\n",
       "      <td>2016</td>\n",
       "      <td>8</td>\n",
       "      <td>NaN</td>\n",
       "      <td>NaN</td>\n",
       "      <td>92552.0</td>\n",
       "    </tr>\n",
       "  </tbody>\n",
       "</table>\n",
       "<p>1 rows × 25 columns</p>\n",
       "</div>"
      ],
      "text/plain": [
       "   loyalty_number  year  month  flights_booked  flights_with_companions  \\\n",
       "0          100018  2017      1               3                        0   \n",
       "\n",
       "   total_flights  distance  points_accumulated  points_redeemed  \\\n",
       "0              3      1521               152.0                0   \n",
       "\n",
       "   dollar_cost_points_redeemed  ... education marital_status loyalty_card  \\\n",
       "0                            0  ...  Bachelor        Married       Aurora   \n",
       "\n",
       "      clv enrollment_type enrollment_year enrollment_month cancellation_year  \\\n",
       "0  7919.2        Standard            2016                8               NaN   \n",
       "\n",
       "   cancellation_month   salary  \n",
       "0                 NaN  92552.0  \n",
       "\n",
       "[1 rows x 25 columns]"
      ]
     },
     "execution_count": 3,
     "metadata": {},
     "output_type": "execute_result"
    }
   ],
   "source": [
    "df = pd.read_csv('files/df_final.csv')\n",
    "df.head(1)"
   ]
  },
  {
   "cell_type": "code",
   "execution_count": 4,
   "metadata": {},
   "outputs": [
    {
     "data": {
      "text/html": [
       "<div>\n",
       "<style scoped>\n",
       "    .dataframe tbody tr th:only-of-type {\n",
       "        vertical-align: middle;\n",
       "    }\n",
       "\n",
       "    .dataframe tbody tr th {\n",
       "        vertical-align: top;\n",
       "    }\n",
       "\n",
       "    .dataframe thead th {\n",
       "        text-align: right;\n",
       "    }\n",
       "</style>\n",
       "<table border=\"1\" class=\"dataframe\">\n",
       "  <thead>\n",
       "    <tr style=\"text-align: right;\">\n",
       "      <th></th>\n",
       "      <th>flights_booked</th>\n",
       "      <th>education</th>\n",
       "    </tr>\n",
       "  </thead>\n",
       "  <tbody>\n",
       "    <tr>\n",
       "      <th>0</th>\n",
       "      <td>3</td>\n",
       "      <td>Bachelor</td>\n",
       "    </tr>\n",
       "    <tr>\n",
       "      <th>1</th>\n",
       "      <td>10</td>\n",
       "      <td>College</td>\n",
       "    </tr>\n",
       "    <tr>\n",
       "      <th>2</th>\n",
       "      <td>6</td>\n",
       "      <td>College</td>\n",
       "    </tr>\n",
       "    <tr>\n",
       "      <th>3</th>\n",
       "      <td>0</td>\n",
       "      <td>Bachelor</td>\n",
       "    </tr>\n",
       "    <tr>\n",
       "      <th>4</th>\n",
       "      <td>0</td>\n",
       "      <td>Bachelor</td>\n",
       "    </tr>\n",
       "  </tbody>\n",
       "</table>\n",
       "</div>"
      ],
      "text/plain": [
       "   flights_booked education\n",
       "0               3  Bachelor\n",
       "1              10   College\n",
       "2               6   College\n",
       "3               0  Bachelor\n",
       "4               0  Bachelor"
      ]
     },
     "execution_count": 4,
     "metadata": {},
     "output_type": "execute_result"
    }
   ],
   "source": [
    "## Filtramos el conjunto de datos para incluir únicamente las columnas relevantes: 'Flights Booked' y 'Education'\n",
    "\n",
    "df_filtrado = df[['flights_booked', 'education']]\n",
    "df_filtrado.head()"
   ]
  },
  {
   "cell_type": "markdown",
   "metadata": {},
   "source": [
    "#### Análisis descriptivo: "
   ]
  },
  {
   "cell_type": "code",
   "execution_count": 5,
   "metadata": {},
   "outputs": [
    {
     "data": {
      "text/plain": [
       "education\n",
       "Bachelor                4.110288\n",
       "College                 4.169744\n",
       "Doctor                  4.175512\n",
       "High School or Below    4.176209\n",
       "Master                  4.200700\n",
       "Name: flights_booked, dtype: float64"
      ]
     },
     "execution_count": 5,
     "metadata": {},
     "output_type": "execute_result"
    }
   ],
   "source": [
    "#Promedio de vuelos reservados por nivel educativo\n",
    "df.groupby('education')['flights_booked'].mean()"
   ]
  },
  {
   "cell_type": "code",
   "execution_count": 6,
   "metadata": {},
   "outputs": [
    {
     "data": {
      "text/plain": [
       "education\n",
       "Bachelor                252567\n",
       "College                 102260\n",
       "Doctor                   17731\n",
       "High School or Below     18915\n",
       "Master                   12287\n",
       "Name: flights_booked, dtype: int64"
      ]
     },
     "execution_count": 6,
     "metadata": {},
     "output_type": "execute_result"
    }
   ],
   "source": [
    "#Conteo de vuelos reservados por nivel educativo\n",
    "df_filtrado.groupby(\"education\")[\"flights_booked\"].count()"
   ]
  },
  {
   "cell_type": "code",
   "execution_count": 7,
   "metadata": {},
   "outputs": [
    {
     "data": {
      "text/html": [
       "<div>\n",
       "<style scoped>\n",
       "    .dataframe tbody tr th:only-of-type {\n",
       "        vertical-align: middle;\n",
       "    }\n",
       "\n",
       "    .dataframe tbody tr th {\n",
       "        vertical-align: top;\n",
       "    }\n",
       "\n",
       "    .dataframe thead th {\n",
       "        text-align: right;\n",
       "    }\n",
       "</style>\n",
       "<table border=\"1\" class=\"dataframe\">\n",
       "  <thead>\n",
       "    <tr style=\"text-align: right;\">\n",
       "      <th>education</th>\n",
       "      <th>Bachelor</th>\n",
       "      <th>College</th>\n",
       "      <th>Doctor</th>\n",
       "      <th>High School or Below</th>\n",
       "      <th>Master</th>\n",
       "    </tr>\n",
       "  </thead>\n",
       "  <tbody>\n",
       "    <tr>\n",
       "      <th>count</th>\n",
       "      <td>252567.000000</td>\n",
       "      <td>102260.000000</td>\n",
       "      <td>17731.000000</td>\n",
       "      <td>18915.000000</td>\n",
       "      <td>12287.000000</td>\n",
       "    </tr>\n",
       "    <tr>\n",
       "      <th>mean</th>\n",
       "      <td>4.110288</td>\n",
       "      <td>4.169744</td>\n",
       "      <td>4.175512</td>\n",
       "      <td>4.176209</td>\n",
       "      <td>4.200700</td>\n",
       "    </tr>\n",
       "    <tr>\n",
       "      <th>std</th>\n",
       "      <td>5.221671</td>\n",
       "      <td>5.246040</td>\n",
       "      <td>5.256971</td>\n",
       "      <td>5.239267</td>\n",
       "      <td>5.213956</td>\n",
       "    </tr>\n",
       "    <tr>\n",
       "      <th>min</th>\n",
       "      <td>0.000000</td>\n",
       "      <td>0.000000</td>\n",
       "      <td>0.000000</td>\n",
       "      <td>0.000000</td>\n",
       "      <td>0.000000</td>\n",
       "    </tr>\n",
       "    <tr>\n",
       "      <th>25%</th>\n",
       "      <td>0.000000</td>\n",
       "      <td>0.000000</td>\n",
       "      <td>0.000000</td>\n",
       "      <td>0.000000</td>\n",
       "      <td>0.000000</td>\n",
       "    </tr>\n",
       "    <tr>\n",
       "      <th>50%</th>\n",
       "      <td>1.000000</td>\n",
       "      <td>1.000000</td>\n",
       "      <td>1.000000</td>\n",
       "      <td>1.000000</td>\n",
       "      <td>1.000000</td>\n",
       "    </tr>\n",
       "    <tr>\n",
       "      <th>75%</th>\n",
       "      <td>8.000000</td>\n",
       "      <td>8.000000</td>\n",
       "      <td>8.000000</td>\n",
       "      <td>8.000000</td>\n",
       "      <td>8.000000</td>\n",
       "    </tr>\n",
       "    <tr>\n",
       "      <th>max</th>\n",
       "      <td>21.000000</td>\n",
       "      <td>21.000000</td>\n",
       "      <td>21.000000</td>\n",
       "      <td>21.000000</td>\n",
       "      <td>21.000000</td>\n",
       "    </tr>\n",
       "  </tbody>\n",
       "</table>\n",
       "</div>"
      ],
      "text/plain": [
       "education       Bachelor        College        Doctor  High School or Below  \\\n",
       "count      252567.000000  102260.000000  17731.000000          18915.000000   \n",
       "mean            4.110288       4.169744      4.175512              4.176209   \n",
       "std             5.221671       5.246040      5.256971              5.239267   \n",
       "min             0.000000       0.000000      0.000000              0.000000   \n",
       "25%             0.000000       0.000000      0.000000              0.000000   \n",
       "50%             1.000000       1.000000      1.000000              1.000000   \n",
       "75%             8.000000       8.000000      8.000000              8.000000   \n",
       "max            21.000000      21.000000     21.000000             21.000000   \n",
       "\n",
       "education        Master  \n",
       "count      12287.000000  \n",
       "mean           4.200700  \n",
       "std            5.213956  \n",
       "min            0.000000  \n",
       "25%            0.000000  \n",
       "50%            1.000000  \n",
       "75%            8.000000  \n",
       "max           21.000000  "
      ]
     },
     "execution_count": 7,
     "metadata": {},
     "output_type": "execute_result"
    }
   ],
   "source": [
    "#Descripción de estadísticas generales: \n",
    "df_filtrado.groupby(\"education\")[\"flights_booked\"].describe().T\n"
   ]
  },
  {
   "cell_type": "code",
   "execution_count": 8,
   "metadata": {},
   "outputs": [],
   "source": [
    "#Analisis: \n",
    "#Count: la mayor cantidad de registros es de Bachelor y la menor es Master\n",
    "#Mean: el promedio de vuelos es bastante similar \n",
    "#Desviación estandar: también es consistente (no se alejan tanto del mean)\n",
    "#Tanto min, median, 3er cuartil y max son consistentes.  "
   ]
  },
  {
   "cell_type": "code",
   "execution_count": 9,
   "metadata": {},
   "outputs": [],
   "source": [
    "## Verificamos la moda de vuelos reservados por grupo: \n",
    "\n",
    "moda_por_educacion = df_filtrado.groupby('education')['flights_booked'].apply(pd.Series.mode).reset_index()"
   ]
  },
  {
   "cell_type": "code",
   "execution_count": 10,
   "metadata": {},
   "outputs": [
    {
     "data": {
      "text/html": [
       "<div>\n",
       "<style scoped>\n",
       "    .dataframe tbody tr th:only-of-type {\n",
       "        vertical-align: middle;\n",
       "    }\n",
       "\n",
       "    .dataframe tbody tr th {\n",
       "        vertical-align: top;\n",
       "    }\n",
       "\n",
       "    .dataframe thead th {\n",
       "        text-align: right;\n",
       "    }\n",
       "</style>\n",
       "<table border=\"1\" class=\"dataframe\">\n",
       "  <thead>\n",
       "    <tr style=\"text-align: right;\">\n",
       "      <th></th>\n",
       "      <th>education</th>\n",
       "      <th>level_1</th>\n",
       "      <th>flights_booked</th>\n",
       "    </tr>\n",
       "  </thead>\n",
       "  <tbody>\n",
       "    <tr>\n",
       "      <th>0</th>\n",
       "      <td>Bachelor</td>\n",
       "      <td>0</td>\n",
       "      <td>0</td>\n",
       "    </tr>\n",
       "    <tr>\n",
       "      <th>1</th>\n",
       "      <td>College</td>\n",
       "      <td>0</td>\n",
       "      <td>0</td>\n",
       "    </tr>\n",
       "    <tr>\n",
       "      <th>2</th>\n",
       "      <td>Doctor</td>\n",
       "      <td>0</td>\n",
       "      <td>0</td>\n",
       "    </tr>\n",
       "    <tr>\n",
       "      <th>3</th>\n",
       "      <td>High School or Below</td>\n",
       "      <td>0</td>\n",
       "      <td>0</td>\n",
       "    </tr>\n",
       "    <tr>\n",
       "      <th>4</th>\n",
       "      <td>Master</td>\n",
       "      <td>0</td>\n",
       "      <td>0</td>\n",
       "    </tr>\n",
       "  </tbody>\n",
       "</table>\n",
       "</div>"
      ],
      "text/plain": [
       "              education  level_1  flights_booked\n",
       "0              Bachelor        0               0\n",
       "1               College        0               0\n",
       "2                Doctor        0               0\n",
       "3  High School or Below        0               0\n",
       "4                Master        0               0"
      ]
     },
     "execution_count": 10,
     "metadata": {},
     "output_type": "execute_result"
    }
   ],
   "source": [
    "moda_por_educacion"
   ]
  },
  {
   "cell_type": "code",
   "execution_count": 11,
   "metadata": {},
   "outputs": [],
   "source": [
    "# Analizamos porque es 0"
   ]
  },
  {
   "cell_type": "code",
   "execution_count": 12,
   "metadata": {},
   "outputs": [
    {
     "data": {
      "text/plain": [
       "(403760, 2)"
      ]
     },
     "execution_count": 12,
     "metadata": {},
     "output_type": "execute_result"
    }
   ],
   "source": [
    "df_filtrado.shape"
   ]
  },
  {
   "cell_type": "code",
   "execution_count": 13,
   "metadata": {},
   "outputs": [
    {
     "data": {
      "text/html": [
       "<div>\n",
       "<style scoped>\n",
       "    .dataframe tbody tr th:only-of-type {\n",
       "        vertical-align: middle;\n",
       "    }\n",
       "\n",
       "    .dataframe tbody tr th {\n",
       "        vertical-align: top;\n",
       "    }\n",
       "\n",
       "    .dataframe thead th {\n",
       "        text-align: right;\n",
       "    }\n",
       "</style>\n",
       "<table border=\"1\" class=\"dataframe\">\n",
       "  <thead>\n",
       "    <tr style=\"text-align: right;\">\n",
       "      <th></th>\n",
       "      <th>flights_booked</th>\n",
       "      <th>education</th>\n",
       "    </tr>\n",
       "  </thead>\n",
       "  <tbody>\n",
       "    <tr>\n",
       "      <th>3</th>\n",
       "      <td>0</td>\n",
       "      <td>Bachelor</td>\n",
       "    </tr>\n",
       "    <tr>\n",
       "      <th>4</th>\n",
       "      <td>0</td>\n",
       "      <td>Bachelor</td>\n",
       "    </tr>\n",
       "    <tr>\n",
       "      <th>5</th>\n",
       "      <td>0</td>\n",
       "      <td>Bachelor</td>\n",
       "    </tr>\n",
       "    <tr>\n",
       "      <th>6</th>\n",
       "      <td>0</td>\n",
       "      <td>Bachelor</td>\n",
       "    </tr>\n",
       "    <tr>\n",
       "      <th>7</th>\n",
       "      <td>0</td>\n",
       "      <td>Bachelor</td>\n",
       "    </tr>\n",
       "    <tr>\n",
       "      <th>...</th>\n",
       "      <td>...</td>\n",
       "      <td>...</td>\n",
       "    </tr>\n",
       "    <tr>\n",
       "      <th>403754</th>\n",
       "      <td>0</td>\n",
       "      <td>Bachelor</td>\n",
       "    </tr>\n",
       "    <tr>\n",
       "      <th>403755</th>\n",
       "      <td>0</td>\n",
       "      <td>College</td>\n",
       "    </tr>\n",
       "    <tr>\n",
       "      <th>403756</th>\n",
       "      <td>0</td>\n",
       "      <td>Doctor</td>\n",
       "    </tr>\n",
       "    <tr>\n",
       "      <th>403758</th>\n",
       "      <td>0</td>\n",
       "      <td>College</td>\n",
       "    </tr>\n",
       "    <tr>\n",
       "      <th>403759</th>\n",
       "      <td>0</td>\n",
       "      <td>Bachelor</td>\n",
       "    </tr>\n",
       "  </tbody>\n",
       "</table>\n",
       "<p>196128 rows × 2 columns</p>\n",
       "</div>"
      ],
      "text/plain": [
       "        flights_booked education\n",
       "3                    0  Bachelor\n",
       "4                    0  Bachelor\n",
       "5                    0  Bachelor\n",
       "6                    0  Bachelor\n",
       "7                    0  Bachelor\n",
       "...                ...       ...\n",
       "403754               0  Bachelor\n",
       "403755               0   College\n",
       "403756               0    Doctor\n",
       "403758               0   College\n",
       "403759               0  Bachelor\n",
       "\n",
       "[196128 rows x 2 columns]"
      ]
     },
     "execution_count": 13,
     "metadata": {},
     "output_type": "execute_result"
    }
   ],
   "source": [
    "df_sin_vuelos = df_filtrado[df_filtrado['flights_booked'] == 0]\n",
    "df_sin_vuelos"
   ]
  },
  {
   "cell_type": "code",
   "execution_count": 14,
   "metadata": {},
   "outputs": [
    {
     "data": {
      "text/html": [
       "<div>\n",
       "<style scoped>\n",
       "    .dataframe tbody tr th:only-of-type {\n",
       "        vertical-align: middle;\n",
       "    }\n",
       "\n",
       "    .dataframe tbody tr th {\n",
       "        vertical-align: top;\n",
       "    }\n",
       "\n",
       "    .dataframe thead th {\n",
       "        text-align: right;\n",
       "    }\n",
       "</style>\n",
       "<table border=\"1\" class=\"dataframe\">\n",
       "  <thead>\n",
       "    <tr style=\"text-align: right;\">\n",
       "      <th></th>\n",
       "      <th>flights_booked</th>\n",
       "      <th>education</th>\n",
       "    </tr>\n",
       "  </thead>\n",
       "  <tbody>\n",
       "    <tr>\n",
       "      <th>0</th>\n",
       "      <td>3</td>\n",
       "      <td>Bachelor</td>\n",
       "    </tr>\n",
       "    <tr>\n",
       "      <th>1</th>\n",
       "      <td>10</td>\n",
       "      <td>College</td>\n",
       "    </tr>\n",
       "    <tr>\n",
       "      <th>2</th>\n",
       "      <td>6</td>\n",
       "      <td>College</td>\n",
       "    </tr>\n",
       "    <tr>\n",
       "      <th>8</th>\n",
       "      <td>6</td>\n",
       "      <td>Bachelor</td>\n",
       "    </tr>\n",
       "    <tr>\n",
       "      <th>10</th>\n",
       "      <td>3</td>\n",
       "      <td>Bachelor</td>\n",
       "    </tr>\n",
       "    <tr>\n",
       "      <th>...</th>\n",
       "      <td>...</td>\n",
       "      <td>...</td>\n",
       "    </tr>\n",
       "    <tr>\n",
       "      <th>403748</th>\n",
       "      <td>15</td>\n",
       "      <td>Doctor</td>\n",
       "    </tr>\n",
       "    <tr>\n",
       "      <th>403749</th>\n",
       "      <td>14</td>\n",
       "      <td>College</td>\n",
       "    </tr>\n",
       "    <tr>\n",
       "      <th>403750</th>\n",
       "      <td>11</td>\n",
       "      <td>Bachelor</td>\n",
       "    </tr>\n",
       "    <tr>\n",
       "      <th>403752</th>\n",
       "      <td>1</td>\n",
       "      <td>College</td>\n",
       "    </tr>\n",
       "    <tr>\n",
       "      <th>403757</th>\n",
       "      <td>3</td>\n",
       "      <td>Bachelor</td>\n",
       "    </tr>\n",
       "  </tbody>\n",
       "</table>\n",
       "<p>207632 rows × 2 columns</p>\n",
       "</div>"
      ],
      "text/plain": [
       "        flights_booked education\n",
       "0                    3  Bachelor\n",
       "1                   10   College\n",
       "2                    6   College\n",
       "8                    6  Bachelor\n",
       "10                   3  Bachelor\n",
       "...                ...       ...\n",
       "403748              15    Doctor\n",
       "403749              14   College\n",
       "403750              11  Bachelor\n",
       "403752               1   College\n",
       "403757               3  Bachelor\n",
       "\n",
       "[207632 rows x 2 columns]"
      ]
     },
     "execution_count": 14,
     "metadata": {},
     "output_type": "execute_result"
    }
   ],
   "source": [
    "df_con_vuelos = df_filtrado[df_filtrado['flights_booked'] > 0]\n",
    "df_con_vuelos"
   ]
  },
  {
   "cell_type": "code",
   "execution_count": 15,
   "metadata": {},
   "outputs": [],
   "source": [
    "## Conclusión: casi la mitad de los registros es 0, por lo que la moda nos devuelve ese número. \n",
    "## Filtramos los ceros para ver si cambia la moda: "
   ]
  },
  {
   "cell_type": "code",
   "execution_count": 16,
   "metadata": {},
   "outputs": [
    {
     "data": {
      "text/html": [
       "<div>\n",
       "<style scoped>\n",
       "    .dataframe tbody tr th:only-of-type {\n",
       "        vertical-align: middle;\n",
       "    }\n",
       "\n",
       "    .dataframe tbody tr th {\n",
       "        vertical-align: top;\n",
       "    }\n",
       "\n",
       "    .dataframe thead th {\n",
       "        text-align: right;\n",
       "    }\n",
       "</style>\n",
       "<table border=\"1\" class=\"dataframe\">\n",
       "  <thead>\n",
       "    <tr style=\"text-align: right;\">\n",
       "      <th></th>\n",
       "      <th>education</th>\n",
       "      <th>level_1</th>\n",
       "      <th>flights_booked</th>\n",
       "    </tr>\n",
       "  </thead>\n",
       "  <tbody>\n",
       "    <tr>\n",
       "      <th>0</th>\n",
       "      <td>Bachelor</td>\n",
       "      <td>0</td>\n",
       "      <td>3</td>\n",
       "    </tr>\n",
       "    <tr>\n",
       "      <th>1</th>\n",
       "      <td>College</td>\n",
       "      <td>0</td>\n",
       "      <td>3</td>\n",
       "    </tr>\n",
       "    <tr>\n",
       "      <th>2</th>\n",
       "      <td>Doctor</td>\n",
       "      <td>0</td>\n",
       "      <td>3</td>\n",
       "    </tr>\n",
       "    <tr>\n",
       "      <th>3</th>\n",
       "      <td>High School or Below</td>\n",
       "      <td>0</td>\n",
       "      <td>3</td>\n",
       "    </tr>\n",
       "    <tr>\n",
       "      <th>4</th>\n",
       "      <td>Master</td>\n",
       "      <td>0</td>\n",
       "      <td>3</td>\n",
       "    </tr>\n",
       "  </tbody>\n",
       "</table>\n",
       "</div>"
      ],
      "text/plain": [
       "              education  level_1  flights_booked\n",
       "0              Bachelor        0               3\n",
       "1               College        0               3\n",
       "2                Doctor        0               3\n",
       "3  High School or Below        0               3\n",
       "4                Master        0               3"
      ]
     },
     "execution_count": 16,
     "metadata": {},
     "output_type": "execute_result"
    }
   ],
   "source": [
    "\n",
    "# Recalcular la moda \n",
    "moda_por_educacion_vuelos = df_con_vuelos.groupby('education')['flights_booked'].apply(pd.Series.mode).reset_index()\n",
    "moda_por_educacion_vuelos"
   ]
  },
  {
   "cell_type": "code",
   "execution_count": 17,
   "metadata": {},
   "outputs": [
    {
     "data": {
      "text/html": [
       "<div>\n",
       "<style scoped>\n",
       "    .dataframe tbody tr th:only-of-type {\n",
       "        vertical-align: middle;\n",
       "    }\n",
       "\n",
       "    .dataframe tbody tr th {\n",
       "        vertical-align: top;\n",
       "    }\n",
       "\n",
       "    .dataframe thead th {\n",
       "        text-align: right;\n",
       "    }\n",
       "</style>\n",
       "<table border=\"1\" class=\"dataframe\">\n",
       "  <thead>\n",
       "    <tr style=\"text-align: right;\">\n",
       "      <th>education</th>\n",
       "      <th>Bachelor</th>\n",
       "      <th>College</th>\n",
       "      <th>Doctor</th>\n",
       "      <th>High School or Below</th>\n",
       "      <th>Master</th>\n",
       "    </tr>\n",
       "  </thead>\n",
       "  <tbody>\n",
       "    <tr>\n",
       "      <th>count</th>\n",
       "      <td>129303.000000</td>\n",
       "      <td>52834.000000</td>\n",
       "      <td>9193.000000</td>\n",
       "      <td>9855.000000</td>\n",
       "      <td>6447.000000</td>\n",
       "    </tr>\n",
       "    <tr>\n",
       "      <th>mean</th>\n",
       "      <td>8.028607</td>\n",
       "      <td>8.070523</td>\n",
       "      <td>8.053519</td>\n",
       "      <td>8.015525</td>\n",
       "      <td>8.005894</td>\n",
       "    </tr>\n",
       "    <tr>\n",
       "      <th>std</th>\n",
       "      <td>4.669000</td>\n",
       "      <td>4.667465</td>\n",
       "      <td>4.697898</td>\n",
       "      <td>4.680893</td>\n",
       "      <td>4.620198</td>\n",
       "    </tr>\n",
       "    <tr>\n",
       "      <th>min</th>\n",
       "      <td>1.000000</td>\n",
       "      <td>1.000000</td>\n",
       "      <td>1.000000</td>\n",
       "      <td>1.000000</td>\n",
       "      <td>1.000000</td>\n",
       "    </tr>\n",
       "    <tr>\n",
       "      <th>25%</th>\n",
       "      <td>4.000000</td>\n",
       "      <td>4.000000</td>\n",
       "      <td>4.000000</td>\n",
       "      <td>4.000000</td>\n",
       "      <td>4.000000</td>\n",
       "    </tr>\n",
       "    <tr>\n",
       "      <th>50%</th>\n",
       "      <td>8.000000</td>\n",
       "      <td>8.000000</td>\n",
       "      <td>8.000000</td>\n",
       "      <td>8.000000</td>\n",
       "      <td>8.000000</td>\n",
       "    </tr>\n",
       "    <tr>\n",
       "      <th>75%</th>\n",
       "      <td>11.000000</td>\n",
       "      <td>11.000000</td>\n",
       "      <td>11.000000</td>\n",
       "      <td>11.000000</td>\n",
       "      <td>11.000000</td>\n",
       "    </tr>\n",
       "    <tr>\n",
       "      <th>max</th>\n",
       "      <td>21.000000</td>\n",
       "      <td>21.000000</td>\n",
       "      <td>21.000000</td>\n",
       "      <td>21.000000</td>\n",
       "      <td>21.000000</td>\n",
       "    </tr>\n",
       "  </tbody>\n",
       "</table>\n",
       "</div>"
      ],
      "text/plain": [
       "education       Bachelor       College       Doctor  High School or Below  \\\n",
       "count      129303.000000  52834.000000  9193.000000           9855.000000   \n",
       "mean            8.028607      8.070523     8.053519              8.015525   \n",
       "std             4.669000      4.667465     4.697898              4.680893   \n",
       "min             1.000000      1.000000     1.000000              1.000000   \n",
       "25%             4.000000      4.000000     4.000000              4.000000   \n",
       "50%             8.000000      8.000000     8.000000              8.000000   \n",
       "75%            11.000000     11.000000    11.000000             11.000000   \n",
       "max            21.000000     21.000000    21.000000             21.000000   \n",
       "\n",
       "education       Master  \n",
       "count      6447.000000  \n",
       "mean          8.005894  \n",
       "std           4.620198  \n",
       "min           1.000000  \n",
       "25%           4.000000  \n",
       "50%           8.000000  \n",
       "75%          11.000000  \n",
       "max          21.000000  "
      ]
     },
     "execution_count": 17,
     "metadata": {},
     "output_type": "execute_result"
    }
   ],
   "source": [
    "df_con_vuelos.groupby(\"education\")[\"flights_booked\"].describe().T\n"
   ]
  },
  {
   "cell_type": "markdown",
   "metadata": {},
   "source": [
    "### Pruebas estadísticas: "
   ]
  },
  {
   "cell_type": "code",
   "execution_count": 18,
   "metadata": {},
   "outputs": [],
   "source": [
    "## Orden educativo en Canadá:\n",
    "#High School or Below\n",
    "#College (programas técnicos o diplomas)\n",
    "#Bachelor (grado universitario)\n",
    "#Master (posgrado)\n",
    "#Doctor (PhD) (doctorado)"
   ]
  },
  {
   "cell_type": "code",
   "execution_count": 19,
   "metadata": {},
   "outputs": [],
   "source": [
    "##Analizamos si hay diferencia significativa en el número de vuelos reservados entre los grupos universitario y no universitario."
   ]
  },
  {
   "cell_type": "code",
   "execution_count": 20,
   "metadata": {},
   "outputs": [],
   "source": [
    "## 1) Utilizando el DF entero (que incluye 0 en la columna de vuelos reservados)"
   ]
  },
  {
   "cell_type": "code",
   "execution_count": 21,
   "metadata": {},
   "outputs": [],
   "source": [
    "## Separamos grupos según orden educativo, para obtener 2 grupos: \n",
    "\n",
    "grupo_no_universitario = df_filtrado[df_filtrado['education'].isin(['High School or Below', 'College'])]['flights_booked']\n",
    "grupo_universitario = df_filtrado[df_filtrado['education'].isin(['Bachelor', 'Master', 'Doctor'])]['flights_booked']"
   ]
  },
  {
   "cell_type": "code",
   "execution_count": 22,
   "metadata": {},
   "outputs": [
    {
     "data": {
      "text/html": [
       "<div>\n",
       "<style scoped>\n",
       "    .dataframe tbody tr th:only-of-type {\n",
       "        vertical-align: middle;\n",
       "    }\n",
       "\n",
       "    .dataframe tbody tr th {\n",
       "        vertical-align: top;\n",
       "    }\n",
       "\n",
       "    .dataframe thead th {\n",
       "        text-align: right;\n",
       "    }\n",
       "</style>\n",
       "<table border=\"1\" class=\"dataframe\">\n",
       "  <thead>\n",
       "    <tr style=\"text-align: right;\">\n",
       "      <th>flights_booked</th>\n",
       "      <th>0</th>\n",
       "      <th>1</th>\n",
       "      <th>2</th>\n",
       "      <th>3</th>\n",
       "      <th>4</th>\n",
       "      <th>5</th>\n",
       "      <th>6</th>\n",
       "      <th>7</th>\n",
       "      <th>8</th>\n",
       "      <th>9</th>\n",
       "      <th>...</th>\n",
       "      <th>12</th>\n",
       "      <th>13</th>\n",
       "      <th>14</th>\n",
       "      <th>15</th>\n",
       "      <th>16</th>\n",
       "      <th>17</th>\n",
       "      <th>18</th>\n",
       "      <th>19</th>\n",
       "      <th>20</th>\n",
       "      <th>21</th>\n",
       "    </tr>\n",
       "    <tr>\n",
       "      <th>education</th>\n",
       "      <th></th>\n",
       "      <th></th>\n",
       "      <th></th>\n",
       "      <th></th>\n",
       "      <th></th>\n",
       "      <th></th>\n",
       "      <th></th>\n",
       "      <th></th>\n",
       "      <th></th>\n",
       "      <th></th>\n",
       "      <th></th>\n",
       "      <th></th>\n",
       "      <th></th>\n",
       "      <th></th>\n",
       "      <th></th>\n",
       "      <th></th>\n",
       "      <th></th>\n",
       "      <th></th>\n",
       "      <th></th>\n",
       "      <th></th>\n",
       "      <th></th>\n",
       "    </tr>\n",
       "  </thead>\n",
       "  <tbody>\n",
       "    <tr>\n",
       "      <th>Bachelor</th>\n",
       "      <td>123264</td>\n",
       "      <td>7949</td>\n",
       "      <td>8423</td>\n",
       "      <td>11436</td>\n",
       "      <td>8033</td>\n",
       "      <td>9444</td>\n",
       "      <td>8606</td>\n",
       "      <td>9050</td>\n",
       "      <td>8958</td>\n",
       "      <td>8790</td>\n",
       "      <td>...</td>\n",
       "      <td>6492</td>\n",
       "      <td>6789</td>\n",
       "      <td>4358</td>\n",
       "      <td>4081</td>\n",
       "      <td>2678</td>\n",
       "      <td>2392</td>\n",
       "      <td>1813</td>\n",
       "      <td>962</td>\n",
       "      <td>708</td>\n",
       "      <td>347</td>\n",
       "    </tr>\n",
       "    <tr>\n",
       "      <th>College</th>\n",
       "      <td>49426</td>\n",
       "      <td>3115</td>\n",
       "      <td>3508</td>\n",
       "      <td>4612</td>\n",
       "      <td>3209</td>\n",
       "      <td>3881</td>\n",
       "      <td>3505</td>\n",
       "      <td>3687</td>\n",
       "      <td>3613</td>\n",
       "      <td>3614</td>\n",
       "      <td>...</td>\n",
       "      <td>2677</td>\n",
       "      <td>2698</td>\n",
       "      <td>1814</td>\n",
       "      <td>1696</td>\n",
       "      <td>1145</td>\n",
       "      <td>1023</td>\n",
       "      <td>766</td>\n",
       "      <td>354</td>\n",
       "      <td>308</td>\n",
       "      <td>121</td>\n",
       "    </tr>\n",
       "    <tr>\n",
       "      <th>Doctor</th>\n",
       "      <td>8538</td>\n",
       "      <td>579</td>\n",
       "      <td>589</td>\n",
       "      <td>818</td>\n",
       "      <td>586</td>\n",
       "      <td>605</td>\n",
       "      <td>608</td>\n",
       "      <td>662</td>\n",
       "      <td>665</td>\n",
       "      <td>614</td>\n",
       "      <td>...</td>\n",
       "      <td>426</td>\n",
       "      <td>464</td>\n",
       "      <td>326</td>\n",
       "      <td>286</td>\n",
       "      <td>207</td>\n",
       "      <td>158</td>\n",
       "      <td>142</td>\n",
       "      <td>79</td>\n",
       "      <td>52</td>\n",
       "      <td>25</td>\n",
       "    </tr>\n",
       "    <tr>\n",
       "      <th>High School or Below</th>\n",
       "      <td>9060</td>\n",
       "      <td>634</td>\n",
       "      <td>715</td>\n",
       "      <td>794</td>\n",
       "      <td>580</td>\n",
       "      <td>722</td>\n",
       "      <td>636</td>\n",
       "      <td>701</td>\n",
       "      <td>686</td>\n",
       "      <td>693</td>\n",
       "      <td>...</td>\n",
       "      <td>485</td>\n",
       "      <td>499</td>\n",
       "      <td>336</td>\n",
       "      <td>330</td>\n",
       "      <td>186</td>\n",
       "      <td>194</td>\n",
       "      <td>139</td>\n",
       "      <td>65</td>\n",
       "      <td>65</td>\n",
       "      <td>18</td>\n",
       "    </tr>\n",
       "    <tr>\n",
       "      <th>Master</th>\n",
       "      <td>5840</td>\n",
       "      <td>390</td>\n",
       "      <td>406</td>\n",
       "      <td>568</td>\n",
       "      <td>413</td>\n",
       "      <td>432</td>\n",
       "      <td>492</td>\n",
       "      <td>461</td>\n",
       "      <td>435</td>\n",
       "      <td>453</td>\n",
       "      <td>...</td>\n",
       "      <td>302</td>\n",
       "      <td>332</td>\n",
       "      <td>223</td>\n",
       "      <td>189</td>\n",
       "      <td>138</td>\n",
       "      <td>132</td>\n",
       "      <td>98</td>\n",
       "      <td>36</td>\n",
       "      <td>23</td>\n",
       "      <td>17</td>\n",
       "    </tr>\n",
       "  </tbody>\n",
       "</table>\n",
       "<p>5 rows × 22 columns</p>\n",
       "</div>"
      ],
      "text/plain": [
       "flights_booked            0     1     2      3     4     5     6     7     8   \\\n",
       "education                                                                       \n",
       "Bachelor              123264  7949  8423  11436  8033  9444  8606  9050  8958   \n",
       "College                49426  3115  3508   4612  3209  3881  3505  3687  3613   \n",
       "Doctor                  8538   579   589    818   586   605   608   662   665   \n",
       "High School or Below    9060   634   715    794   580   722   636   701   686   \n",
       "Master                  5840   390   406    568   413   432   492   461   435   \n",
       "\n",
       "flights_booked          9   ...    12    13    14    15    16    17    18  \\\n",
       "education                   ...                                             \n",
       "Bachelor              8790  ...  6492  6789  4358  4081  2678  2392  1813   \n",
       "College               3614  ...  2677  2698  1814  1696  1145  1023   766   \n",
       "Doctor                 614  ...   426   464   326   286   207   158   142   \n",
       "High School or Below   693  ...   485   499   336   330   186   194   139   \n",
       "Master                 453  ...   302   332   223   189   138   132    98   \n",
       "\n",
       "flights_booked         19   20   21  \n",
       "education                            \n",
       "Bachelor              962  708  347  \n",
       "College               354  308  121  \n",
       "Doctor                 79   52   25  \n",
       "High School or Below   65   65   18  \n",
       "Master                 36   23   17  \n",
       "\n",
       "[5 rows x 22 columns]"
      ]
     },
     "execution_count": 22,
     "metadata": {},
     "output_type": "execute_result"
    }
   ],
   "source": [
    "## Hacemos crosstable \n",
    "\n",
    "pd.crosstab(df_filtrado['education'], df_filtrado['flights_booked'])"
   ]
  },
  {
   "cell_type": "code",
   "execution_count": 23,
   "metadata": {},
   "outputs": [],
   "source": [
    "## La tabla de contingencia no nos da información valiosa. Entonces: es un problema de medias. "
   ]
  },
  {
   "cell_type": "code",
   "execution_count": 24,
   "metadata": {},
   "outputs": [
    {
     "name": "stdout",
     "output_type": "stream",
     "text": [
      "Para la columna flights_booked los datos no siguen una distribución normal.\n"
     ]
    },
    {
     "name": "stderr",
     "output_type": "stream",
     "text": [
      "/home/ariana91/anaconda4/lib/python3.12/site-packages/scipy/stats/_axis_nan_policy.py:531: UserWarning: scipy.stats.shapiro: For N > 5000, computed p-value may not be accurate. Current N is 403760.\n",
      "  res = hypotest_fun_out(*samples, **kwds)\n"
     ]
    }
   ],
   "source": [
    "## Verificamos normalidad de los datos: \n",
    "\n",
    "spt.normalidad(df_filtrado, 'flights_booked')"
   ]
  },
  {
   "cell_type": "code",
   "execution_count": 25,
   "metadata": {},
   "outputs": [],
   "source": [
    "## Los datos no son normales, por lo que hacemos el test MW: "
   ]
  },
  {
   "cell_type": "code",
   "execution_count": 26,
   "metadata": {},
   "outputs": [
    {
     "data": {
      "text/plain": [
       "MannwhitneyuResult(statistic=17216065553.0, pvalue=0.002942081262120518)"
      ]
     },
     "execution_count": 26,
     "metadata": {},
     "output_type": "execute_result"
    }
   ],
   "source": [
    "mannwhitneyu(grupo_no_universitario, grupo_universitario)"
   ]
  },
  {
   "cell_type": "code",
   "execution_count": 27,
   "metadata": {},
   "outputs": [],
   "source": [
    "## definimos P value\n",
    "_, p_value = mannwhitneyu(grupo_no_universitario,grupo_universitario)"
   ]
  },
  {
   "cell_type": "code",
   "execution_count": 28,
   "metadata": {},
   "outputs": [
    {
     "data": {
      "text/plain": [
       "True"
      ]
     },
     "execution_count": 28,
     "metadata": {},
     "output_type": "execute_result"
    }
   ],
   "source": [
    "p_value < 0.05"
   ]
  },
  {
   "cell_type": "code",
   "execution_count": 29,
   "metadata": {},
   "outputs": [],
   "source": [
    "## Conclusión: el p_value es true, por lo que hay una diferencia significativa entre los grupos. Al separar los niveles educativos por 'Universitario' vs 'No universitarios', incluyendo el total de vuelos reservados tanto \n",
    "## como los registros que no reservaron ningún vuelo, el análisis indica que si existe una diferencia significativa entre los vuelos reservados \n",
    "## por ambos grupos. Es decir que el número de vuelos reservados no se distribuye de manera uniforme entre los grupos."
   ]
  },
  {
   "cell_type": "code",
   "execution_count": 30,
   "metadata": {},
   "outputs": [],
   "source": [
    "## 2) Utilizando el DF que solo tiene valores mayores a 0 en la columna de vuelos reservados:"
   ]
  },
  {
   "cell_type": "code",
   "execution_count": 31,
   "metadata": {},
   "outputs": [],
   "source": [
    "## Separamos grupos según orden educativo, para obtener 2 grupos: \n",
    "\n",
    "grupo_no_universitario_1 = df_con_vuelos[df_con_vuelos['education'].isin(['High School or Below', 'College'])]['flights_booked']\n",
    "grupo_universitario_1 = df_con_vuelos[df_con_vuelos['education'].isin(['Bachelor', 'Master', 'Doctor'])]['flights_booked']"
   ]
  },
  {
   "cell_type": "code",
   "execution_count": 32,
   "metadata": {},
   "outputs": [
    {
     "data": {
      "text/plain": [
       "MannwhitneyuResult(statistic=4562361209.0, pvalue=0.12501068282706929)"
      ]
     },
     "execution_count": 32,
     "metadata": {},
     "output_type": "execute_result"
    }
   ],
   "source": [
    "## Hacemos MW: \n",
    "mannwhitneyu(grupo_no_universitario_1, grupo_universitario_1)"
   ]
  },
  {
   "cell_type": "code",
   "execution_count": 33,
   "metadata": {},
   "outputs": [],
   "source": [
    "## definimos P value\n",
    "_, p_value_1 = mannwhitneyu(grupo_no_universitario_1,grupo_universitario_1)"
   ]
  },
  {
   "cell_type": "code",
   "execution_count": 34,
   "metadata": {},
   "outputs": [
    {
     "data": {
      "text/plain": [
       "False"
      ]
     },
     "execution_count": 34,
     "metadata": {},
     "output_type": "execute_result"
    }
   ],
   "source": [
    "p_value_1< 0.05"
   ]
  },
  {
   "cell_type": "code",
   "execution_count": null,
   "metadata": {},
   "outputs": [],
   "source": [
    "## Conclusión: el p_value es false, por lo que no hay una diferencia significativa entre los grupos. Al separar los niveles educativos por 'Universitario' vs 'No universitarios', excluyendo los casos en los que los registros de vuelos reservados eran 0,\n",
    "# el análisis indica que no existe una diferencia significativa entre los vuelos reservados por ambos grupos. \n",
    "# Es decir que el número de vuelos efectivamente reservados se distribuye de manera uniforme entre los grupos."
   ]
  }
 ],
 "metadata": {
  "kernelspec": {
   "display_name": "base",
   "language": "python",
   "name": "python3"
  },
  "language_info": {
   "codemirror_mode": {
    "name": "ipython",
    "version": 3
   },
   "file_extension": ".py",
   "mimetype": "text/x-python",
   "name": "python",
   "nbconvert_exporter": "python",
   "pygments_lexer": "ipython3",
   "version": "3.12.4"
  }
 },
 "nbformat": 4,
 "nbformat_minor": 2
}
