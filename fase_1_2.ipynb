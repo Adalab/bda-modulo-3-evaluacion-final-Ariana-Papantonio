{
 "cells": [
  {
   "cell_type": "code",
   "execution_count": 1,
   "metadata": {},
   "outputs": [],
   "source": [
    "## Importacíón librerias\n",
    "\n",
    "import pandas as pd\n",
    "import numpy as np\n",
    "from src import soporte_funciones as spt\n",
    "\n",
    "# Visualización\n",
    "# ------------------------------------------------------------------------------\n",
    "import matplotlib.pyplot as plt\n",
    "import seaborn as sns\n",
    "\n",
    "# Evaluar linealidad de las relaciones entre las variables\n",
    "# y la distribución de las variables\n",
    "# ------------------------------------------------------------------------------\n",
    "#from scipy.stats import shapiro, kstest, poisson, chisquare, ttest_ind, levene, bartlett, sem, ppf\n",
    "import scipy.stats as stats\n",
    "from scipy.stats import shapiro, levene\n",
    "from scipy.stats import ttest_ind\n",
    "from scipy.stats import mannwhitneyu\n",
    "from scipy.stats import chi2_contingency\n",
    "\n",
    "# Configuración\n",
    "# -----------------------------------------------------------------------\n",
    "pd.set_option('display.max_columns', None) # para poder visualizar todas las columnas de los DataFrames\n",
    "\n",
    "# Gestión de los warnings\n",
    "# -----------------------------------------------------------------------\n",
    "import warnings\n",
    "warnings.filterwarnings(\"ignore\")"
   ]
  },
  {
   "cell_type": "code",
   "execution_count": 2,
   "metadata": {},
   "outputs": [],
   "source": [
    "## Creación dataframes: "
   ]
  },
  {
   "cell_type": "code",
   "execution_count": 3,
   "metadata": {},
   "outputs": [
    {
     "data": {
      "text/html": [
       "<div>\n",
       "<style scoped>\n",
       "    .dataframe tbody tr th:only-of-type {\n",
       "        vertical-align: middle;\n",
       "    }\n",
       "\n",
       "    .dataframe tbody tr th {\n",
       "        vertical-align: top;\n",
       "    }\n",
       "\n",
       "    .dataframe thead th {\n",
       "        text-align: right;\n",
       "    }\n",
       "</style>\n",
       "<table border=\"1\" class=\"dataframe\">\n",
       "  <thead>\n",
       "    <tr style=\"text-align: right;\">\n",
       "      <th></th>\n",
       "      <th>Loyalty Number</th>\n",
       "      <th>Year</th>\n",
       "      <th>Month</th>\n",
       "      <th>Flights Booked</th>\n",
       "      <th>Flights with Companions</th>\n",
       "      <th>Total Flights</th>\n",
       "      <th>Distance</th>\n",
       "      <th>Points Accumulated</th>\n",
       "      <th>Points Redeemed</th>\n",
       "      <th>Dollar Cost Points Redeemed</th>\n",
       "    </tr>\n",
       "  </thead>\n",
       "  <tbody>\n",
       "    <tr>\n",
       "      <th>0</th>\n",
       "      <td>100018</td>\n",
       "      <td>2017</td>\n",
       "      <td>1</td>\n",
       "      <td>3</td>\n",
       "      <td>0</td>\n",
       "      <td>3</td>\n",
       "      <td>1521</td>\n",
       "      <td>152.0</td>\n",
       "      <td>0</td>\n",
       "      <td>0</td>\n",
       "    </tr>\n",
       "    <tr>\n",
       "      <th>1</th>\n",
       "      <td>100102</td>\n",
       "      <td>2017</td>\n",
       "      <td>1</td>\n",
       "      <td>10</td>\n",
       "      <td>4</td>\n",
       "      <td>14</td>\n",
       "      <td>2030</td>\n",
       "      <td>203.0</td>\n",
       "      <td>0</td>\n",
       "      <td>0</td>\n",
       "    </tr>\n",
       "  </tbody>\n",
       "</table>\n",
       "</div>"
      ],
      "text/plain": [
       "   Loyalty Number  Year  Month  Flights Booked  Flights with Companions  \\\n",
       "0          100018  2017      1               3                        0   \n",
       "1          100102  2017      1              10                        4   \n",
       "\n",
       "   Total Flights  Distance  Points Accumulated  Points Redeemed  \\\n",
       "0              3      1521               152.0                0   \n",
       "1             14      2030               203.0                0   \n",
       "\n",
       "   Dollar Cost Points Redeemed  \n",
       "0                            0  \n",
       "1                            0  "
      ]
     },
     "execution_count": 3,
     "metadata": {},
     "output_type": "execute_result"
    }
   ],
   "source": [
    "df_activity = pd.read_csv('files/Customer Flight Activity.csv')\n",
    "df_activity.head(2)"
   ]
  },
  {
   "cell_type": "code",
   "execution_count": 4,
   "metadata": {},
   "outputs": [
    {
     "data": {
      "text/html": [
       "<div>\n",
       "<style scoped>\n",
       "    .dataframe tbody tr th:only-of-type {\n",
       "        vertical-align: middle;\n",
       "    }\n",
       "\n",
       "    .dataframe tbody tr th {\n",
       "        vertical-align: top;\n",
       "    }\n",
       "\n",
       "    .dataframe thead th {\n",
       "        text-align: right;\n",
       "    }\n",
       "</style>\n",
       "<table border=\"1\" class=\"dataframe\">\n",
       "  <thead>\n",
       "    <tr style=\"text-align: right;\">\n",
       "      <th></th>\n",
       "      <th>Loyalty Number</th>\n",
       "      <th>Country</th>\n",
       "      <th>Province</th>\n",
       "      <th>City</th>\n",
       "      <th>Postal Code</th>\n",
       "      <th>Gender</th>\n",
       "      <th>Education</th>\n",
       "      <th>Salary</th>\n",
       "      <th>Marital Status</th>\n",
       "      <th>Loyalty Card</th>\n",
       "      <th>CLV</th>\n",
       "      <th>Enrollment Type</th>\n",
       "      <th>Enrollment Year</th>\n",
       "      <th>Enrollment Month</th>\n",
       "      <th>Cancellation Year</th>\n",
       "      <th>Cancellation Month</th>\n",
       "    </tr>\n",
       "  </thead>\n",
       "  <tbody>\n",
       "    <tr>\n",
       "      <th>0</th>\n",
       "      <td>480934</td>\n",
       "      <td>Canada</td>\n",
       "      <td>Ontario</td>\n",
       "      <td>Toronto</td>\n",
       "      <td>M2Z 4K1</td>\n",
       "      <td>Female</td>\n",
       "      <td>Bachelor</td>\n",
       "      <td>83236.0</td>\n",
       "      <td>Married</td>\n",
       "      <td>Star</td>\n",
       "      <td>3839.14</td>\n",
       "      <td>Standard</td>\n",
       "      <td>2016</td>\n",
       "      <td>2</td>\n",
       "      <td>NaN</td>\n",
       "      <td>NaN</td>\n",
       "    </tr>\n",
       "    <tr>\n",
       "      <th>1</th>\n",
       "      <td>549612</td>\n",
       "      <td>Canada</td>\n",
       "      <td>Alberta</td>\n",
       "      <td>Edmonton</td>\n",
       "      <td>T3G 6Y6</td>\n",
       "      <td>Male</td>\n",
       "      <td>College</td>\n",
       "      <td>NaN</td>\n",
       "      <td>Divorced</td>\n",
       "      <td>Star</td>\n",
       "      <td>3839.61</td>\n",
       "      <td>Standard</td>\n",
       "      <td>2016</td>\n",
       "      <td>3</td>\n",
       "      <td>NaN</td>\n",
       "      <td>NaN</td>\n",
       "    </tr>\n",
       "  </tbody>\n",
       "</table>\n",
       "</div>"
      ],
      "text/plain": [
       "   Loyalty Number Country Province      City Postal Code  Gender Education  \\\n",
       "0          480934  Canada  Ontario   Toronto     M2Z 4K1  Female  Bachelor   \n",
       "1          549612  Canada  Alberta  Edmonton     T3G 6Y6    Male   College   \n",
       "\n",
       "    Salary Marital Status Loyalty Card      CLV Enrollment Type  \\\n",
       "0  83236.0        Married         Star  3839.14        Standard   \n",
       "1      NaN       Divorced         Star  3839.61        Standard   \n",
       "\n",
       "   Enrollment Year  Enrollment Month  Cancellation Year  Cancellation Month  \n",
       "0             2016                 2                NaN                 NaN  \n",
       "1             2016                 3                NaN                 NaN  "
      ]
     },
     "execution_count": 4,
     "metadata": {},
     "output_type": "execute_result"
    }
   ],
   "source": [
    "df_loyalty = pd.read_csv('files/Customer Loyalty History.csv')\n",
    "df_loyalty.head(2)"
   ]
  },
  {
   "cell_type": "markdown",
   "metadata": {},
   "source": [
    "# Fase 1: Exploración y Limpieza"
   ]
  },
  {
   "cell_type": "markdown",
   "metadata": {},
   "source": [
    "## Exploración inicial"
   ]
  },
  {
   "cell_type": "markdown",
   "metadata": {},
   "source": [
    "### Exploración DF Flight Activity"
   ]
  },
  {
   "cell_type": "code",
   "execution_count": 5,
   "metadata": {},
   "outputs": [
    {
     "name": "stdout",
     "output_type": "stream",
     "text": [
      "El número de filas que tenemos en el DF de 'Customer Flight Activity' es: 405624, y el número de columnas es: 10\n"
     ]
    }
   ],
   "source": [
    "# Columnas y filas: \n",
    "print(f\"El número de filas que tenemos en el DF de 'Customer Flight Activity' es: {df_activity.shape[0]}, y el número de columnas es: {df_activity.shape[1]}\")"
   ]
  },
  {
   "cell_type": "code",
   "execution_count": 6,
   "metadata": {},
   "outputs": [
    {
     "name": "stdout",
     "output_type": "stream",
     "text": [
      "Los nombres de las columnas que tenemos en el DF de 'Customer Flight Activity son:\n",
      "       Index(['Loyalty Number', 'Year', 'Month', 'Flights Booked',\n",
      "       'Flights with Companions', 'Total Flights', 'Distance',\n",
      "       'Points Accumulated', 'Points Redeemed', 'Dollar Cost Points Redeemed'],\n",
      "      dtype='object')\n"
     ]
    }
   ],
   "source": [
    "#Nombres de columnas: \n",
    "print(f\"\"\"Los nombres de las columnas que tenemos en el DF de 'Customer Flight Activity son:\n",
    "       {df_activity.columns}\"\"\")\n"
   ]
  },
  {
   "cell_type": "code",
   "execution_count": 7,
   "metadata": {},
   "outputs": [
    {
     "name": "stdout",
     "output_type": "stream",
     "text": [
      "<class 'pandas.core.frame.DataFrame'>\n",
      "RangeIndex: 405624 entries, 0 to 405623\n",
      "Data columns (total 10 columns):\n",
      " #   Column                       Non-Null Count   Dtype  \n",
      "---  ------                       --------------   -----  \n",
      " 0   Loyalty Number               405624 non-null  int64  \n",
      " 1   Year                         405624 non-null  int64  \n",
      " 2   Month                        405624 non-null  int64  \n",
      " 3   Flights Booked               405624 non-null  int64  \n",
      " 4   Flights with Companions      405624 non-null  int64  \n",
      " 5   Total Flights                405624 non-null  int64  \n",
      " 6   Distance                     405624 non-null  int64  \n",
      " 7   Points Accumulated           405624 non-null  float64\n",
      " 8   Points Redeemed              405624 non-null  int64  \n",
      " 9   Dollar Cost Points Redeemed  405624 non-null  int64  \n",
      "dtypes: float64(1), int64(9)\n",
      "memory usage: 30.9 MB\n"
     ]
    }
   ],
   "source": [
    "#Info general: \n",
    "df_activity.info()"
   ]
  },
  {
   "cell_type": "code",
   "execution_count": 8,
   "metadata": {},
   "outputs": [
    {
     "name": "stdout",
     "output_type": "stream",
     "text": [
      "El DataFrame tiene 405624 filas y 10 columnas.\n",
      "Tiene 1864 datos duplicados, lo que supone un porcentaje de 0.46% de los datos. \n",
      "\n",
      "Hay 0 columnas con datos nulos, y son: \n",
      "[]\n",
      "\n",
      "y sin nulos hay 10 columnas y son: \n",
      "['Loyalty Number', 'Year', 'Month', 'Flights Booked', 'Flights with Companions', 'Total Flights', 'Distance', 'Points Accumulated', 'Points Redeemed', 'Dollar Cost Points Redeemed']\n",
      "\n",
      "\n",
      "A continuación tienes un detalle sobre los datos nulos y los tipos y número de datos:\n"
     ]
    },
    {
     "data": {
      "text/html": [
       "<div>\n",
       "<style scoped>\n",
       "    .dataframe tbody tr th:only-of-type {\n",
       "        vertical-align: middle;\n",
       "    }\n",
       "\n",
       "    .dataframe tbody tr th {\n",
       "        vertical-align: top;\n",
       "    }\n",
       "\n",
       "    .dataframe thead th {\n",
       "        text-align: right;\n",
       "    }\n",
       "</style>\n",
       "<table border=\"1\" class=\"dataframe\">\n",
       "  <thead>\n",
       "    <tr style=\"text-align: right;\">\n",
       "      <th></th>\n",
       "      <th>% nulos</th>\n",
       "      <th>% no_nulos</th>\n",
       "      <th>tipo_dato</th>\n",
       "      <th>num_valores_unicos</th>\n",
       "    </tr>\n",
       "  </thead>\n",
       "  <tbody>\n",
       "    <tr>\n",
       "      <th>Loyalty Number</th>\n",
       "      <td>0.0%</td>\n",
       "      <td>100.0%</td>\n",
       "      <td>int64</td>\n",
       "      <td>16737</td>\n",
       "    </tr>\n",
       "    <tr>\n",
       "      <th>Year</th>\n",
       "      <td>0.0%</td>\n",
       "      <td>100.0%</td>\n",
       "      <td>int64</td>\n",
       "      <td>2</td>\n",
       "    </tr>\n",
       "    <tr>\n",
       "      <th>Month</th>\n",
       "      <td>0.0%</td>\n",
       "      <td>100.0%</td>\n",
       "      <td>int64</td>\n",
       "      <td>12</td>\n",
       "    </tr>\n",
       "    <tr>\n",
       "      <th>Flights Booked</th>\n",
       "      <td>0.0%</td>\n",
       "      <td>100.0%</td>\n",
       "      <td>int64</td>\n",
       "      <td>22</td>\n",
       "    </tr>\n",
       "    <tr>\n",
       "      <th>Flights with Companions</th>\n",
       "      <td>0.0%</td>\n",
       "      <td>100.0%</td>\n",
       "      <td>int64</td>\n",
       "      <td>12</td>\n",
       "    </tr>\n",
       "  </tbody>\n",
       "</table>\n",
       "</div>"
      ],
      "text/plain": [
       "                        % nulos % no_nulos tipo_dato  num_valores_unicos\n",
       "Loyalty Number             0.0%     100.0%     int64               16737\n",
       "Year                       0.0%     100.0%     int64                   2\n",
       "Month                      0.0%     100.0%     int64                  12\n",
       "Flights Booked             0.0%     100.0%     int64                  22\n",
       "Flights with Companions    0.0%     100.0%     int64                  12"
      ]
     },
     "metadata": {},
     "output_type": "display_data"
    },
    {
     "name": "stdout",
     "output_type": "stream",
     "text": [
      "\n",
      "El dataframe no tiene columnas categóricas. \n",
      "\n",
      "Principales estadísticos de las columnas numéricas:\n"
     ]
    },
    {
     "data": {
      "text/html": [
       "<div>\n",
       "<style scoped>\n",
       "    .dataframe tbody tr th:only-of-type {\n",
       "        vertical-align: middle;\n",
       "    }\n",
       "\n",
       "    .dataframe tbody tr th {\n",
       "        vertical-align: top;\n",
       "    }\n",
       "\n",
       "    .dataframe thead th {\n",
       "        text-align: right;\n",
       "    }\n",
       "</style>\n",
       "<table border=\"1\" class=\"dataframe\">\n",
       "  <thead>\n",
       "    <tr style=\"text-align: right;\">\n",
       "      <th></th>\n",
       "      <th>count</th>\n",
       "      <th>mean</th>\n",
       "      <th>std</th>\n",
       "      <th>min</th>\n",
       "      <th>25%</th>\n",
       "      <th>50%</th>\n",
       "      <th>75%</th>\n",
       "      <th>max</th>\n",
       "    </tr>\n",
       "  </thead>\n",
       "  <tbody>\n",
       "    <tr>\n",
       "      <th>Loyalty Number</th>\n",
       "      <td>405624.0</td>\n",
       "      <td>550037.873084</td>\n",
       "      <td>258935.286969</td>\n",
       "      <td>100018.0</td>\n",
       "      <td>326961.00</td>\n",
       "      <td>550834.0</td>\n",
       "      <td>772194.00</td>\n",
       "      <td>999986.0</td>\n",
       "    </tr>\n",
       "    <tr>\n",
       "      <th>Year</th>\n",
       "      <td>405624.0</td>\n",
       "      <td>2017.500000</td>\n",
       "      <td>0.500001</td>\n",
       "      <td>2017.0</td>\n",
       "      <td>2017.00</td>\n",
       "      <td>2017.5</td>\n",
       "      <td>2018.00</td>\n",
       "      <td>2018.0</td>\n",
       "    </tr>\n",
       "    <tr>\n",
       "      <th>Month</th>\n",
       "      <td>405624.0</td>\n",
       "      <td>6.500000</td>\n",
       "      <td>3.452057</td>\n",
       "      <td>1.0</td>\n",
       "      <td>3.75</td>\n",
       "      <td>6.5</td>\n",
       "      <td>9.25</td>\n",
       "      <td>12.0</td>\n",
       "    </tr>\n",
       "    <tr>\n",
       "      <th>Flights Booked</th>\n",
       "      <td>405624.0</td>\n",
       "      <td>4.115052</td>\n",
       "      <td>5.225518</td>\n",
       "      <td>0.0</td>\n",
       "      <td>0.00</td>\n",
       "      <td>1.0</td>\n",
       "      <td>8.00</td>\n",
       "      <td>21.0</td>\n",
       "    </tr>\n",
       "    <tr>\n",
       "      <th>Flights with Companions</th>\n",
       "      <td>405624.0</td>\n",
       "      <td>1.031805</td>\n",
       "      <td>2.076869</td>\n",
       "      <td>0.0</td>\n",
       "      <td>0.00</td>\n",
       "      <td>0.0</td>\n",
       "      <td>1.00</td>\n",
       "      <td>11.0</td>\n",
       "    </tr>\n",
       "    <tr>\n",
       "      <th>Total Flights</th>\n",
       "      <td>405624.0</td>\n",
       "      <td>5.146858</td>\n",
       "      <td>6.521227</td>\n",
       "      <td>0.0</td>\n",
       "      <td>0.00</td>\n",
       "      <td>1.0</td>\n",
       "      <td>10.00</td>\n",
       "      <td>32.0</td>\n",
       "    </tr>\n",
       "    <tr>\n",
       "      <th>Distance</th>\n",
       "      <td>405624.0</td>\n",
       "      <td>1208.880059</td>\n",
       "      <td>1433.155320</td>\n",
       "      <td>0.0</td>\n",
       "      <td>0.00</td>\n",
       "      <td>488.0</td>\n",
       "      <td>2336.00</td>\n",
       "      <td>6293.0</td>\n",
       "    </tr>\n",
       "    <tr>\n",
       "      <th>Points Accumulated</th>\n",
       "      <td>405624.0</td>\n",
       "      <td>123.692721</td>\n",
       "      <td>146.599831</td>\n",
       "      <td>0.0</td>\n",
       "      <td>0.00</td>\n",
       "      <td>50.0</td>\n",
       "      <td>239.00</td>\n",
       "      <td>676.5</td>\n",
       "    </tr>\n",
       "    <tr>\n",
       "      <th>Points Redeemed</th>\n",
       "      <td>405624.0</td>\n",
       "      <td>30.696872</td>\n",
       "      <td>125.486049</td>\n",
       "      <td>0.0</td>\n",
       "      <td>0.00</td>\n",
       "      <td>0.0</td>\n",
       "      <td>0.00</td>\n",
       "      <td>876.0</td>\n",
       "    </tr>\n",
       "    <tr>\n",
       "      <th>Dollar Cost Points Redeemed</th>\n",
       "      <td>405624.0</td>\n",
       "      <td>2.484503</td>\n",
       "      <td>10.150038</td>\n",
       "      <td>0.0</td>\n",
       "      <td>0.00</td>\n",
       "      <td>0.0</td>\n",
       "      <td>0.00</td>\n",
       "      <td>71.0</td>\n",
       "    </tr>\n",
       "  </tbody>\n",
       "</table>\n",
       "</div>"
      ],
      "text/plain": [
       "                                count           mean            std       min  \\\n",
       "Loyalty Number               405624.0  550037.873084  258935.286969  100018.0   \n",
       "Year                         405624.0    2017.500000       0.500001    2017.0   \n",
       "Month                        405624.0       6.500000       3.452057       1.0   \n",
       "Flights Booked               405624.0       4.115052       5.225518       0.0   \n",
       "Flights with Companions      405624.0       1.031805       2.076869       0.0   \n",
       "Total Flights                405624.0       5.146858       6.521227       0.0   \n",
       "Distance                     405624.0    1208.880059    1433.155320       0.0   \n",
       "Points Accumulated           405624.0     123.692721     146.599831       0.0   \n",
       "Points Redeemed              405624.0      30.696872     125.486049       0.0   \n",
       "Dollar Cost Points Redeemed  405624.0       2.484503      10.150038       0.0   \n",
       "\n",
       "                                   25%       50%        75%       max  \n",
       "Loyalty Number               326961.00  550834.0  772194.00  999986.0  \n",
       "Year                           2017.00    2017.5    2018.00    2018.0  \n",
       "Month                             3.75       6.5       9.25      12.0  \n",
       "Flights Booked                    0.00       1.0       8.00      21.0  \n",
       "Flights with Companions           0.00       0.0       1.00      11.0  \n",
       "Total Flights                     0.00       1.0      10.00      32.0  \n",
       "Distance                          0.00     488.0    2336.00    6293.0  \n",
       "Points Accumulated                0.00      50.0     239.00     676.5  \n",
       "Points Redeemed                   0.00       0.0       0.00     876.0  \n",
       "Dollar Cost Points Redeemed       0.00       0.0       0.00      71.0  "
      ]
     },
     "metadata": {},
     "output_type": "display_data"
    },
    {
     "data": {
      "text/html": [
       "<div>\n",
       "<style scoped>\n",
       "    .dataframe tbody tr th:only-of-type {\n",
       "        vertical-align: middle;\n",
       "    }\n",
       "\n",
       "    .dataframe tbody tr th {\n",
       "        vertical-align: top;\n",
       "    }\n",
       "\n",
       "    .dataframe thead th {\n",
       "        text-align: right;\n",
       "    }\n",
       "</style>\n",
       "<table border=\"1\" class=\"dataframe\">\n",
       "  <thead>\n",
       "    <tr style=\"text-align: right;\">\n",
       "      <th></th>\n",
       "      <th>% nulos</th>\n",
       "      <th>% no_nulos</th>\n",
       "      <th>tipo_dato</th>\n",
       "      <th>num_valores_unicos</th>\n",
       "    </tr>\n",
       "  </thead>\n",
       "  <tbody>\n",
       "    <tr>\n",
       "      <th>Loyalty Number</th>\n",
       "      <td>0.0%</td>\n",
       "      <td>100.0%</td>\n",
       "      <td>int64</td>\n",
       "      <td>16737</td>\n",
       "    </tr>\n",
       "    <tr>\n",
       "      <th>Year</th>\n",
       "      <td>0.0%</td>\n",
       "      <td>100.0%</td>\n",
       "      <td>int64</td>\n",
       "      <td>2</td>\n",
       "    </tr>\n",
       "    <tr>\n",
       "      <th>Month</th>\n",
       "      <td>0.0%</td>\n",
       "      <td>100.0%</td>\n",
       "      <td>int64</td>\n",
       "      <td>12</td>\n",
       "    </tr>\n",
       "    <tr>\n",
       "      <th>Flights Booked</th>\n",
       "      <td>0.0%</td>\n",
       "      <td>100.0%</td>\n",
       "      <td>int64</td>\n",
       "      <td>22</td>\n",
       "    </tr>\n",
       "    <tr>\n",
       "      <th>Flights with Companions</th>\n",
       "      <td>0.0%</td>\n",
       "      <td>100.0%</td>\n",
       "      <td>int64</td>\n",
       "      <td>12</td>\n",
       "    </tr>\n",
       "    <tr>\n",
       "      <th>Total Flights</th>\n",
       "      <td>0.0%</td>\n",
       "      <td>100.0%</td>\n",
       "      <td>int64</td>\n",
       "      <td>33</td>\n",
       "    </tr>\n",
       "    <tr>\n",
       "      <th>Distance</th>\n",
       "      <td>0.0%</td>\n",
       "      <td>100.0%</td>\n",
       "      <td>int64</td>\n",
       "      <td>4746</td>\n",
       "    </tr>\n",
       "    <tr>\n",
       "      <th>Points Accumulated</th>\n",
       "      <td>0.0%</td>\n",
       "      <td>100.0%</td>\n",
       "      <td>float64</td>\n",
       "      <td>1549</td>\n",
       "    </tr>\n",
       "    <tr>\n",
       "      <th>Points Redeemed</th>\n",
       "      <td>0.0%</td>\n",
       "      <td>100.0%</td>\n",
       "      <td>int64</td>\n",
       "      <td>587</td>\n",
       "    </tr>\n",
       "    <tr>\n",
       "      <th>Dollar Cost Points Redeemed</th>\n",
       "      <td>0.0%</td>\n",
       "      <td>100.0%</td>\n",
       "      <td>int64</td>\n",
       "      <td>49</td>\n",
       "    </tr>\n",
       "  </tbody>\n",
       "</table>\n",
       "</div>"
      ],
      "text/plain": [
       "                            % nulos % no_nulos tipo_dato  num_valores_unicos\n",
       "Loyalty Number                 0.0%     100.0%     int64               16737\n",
       "Year                           0.0%     100.0%     int64                   2\n",
       "Month                          0.0%     100.0%     int64                  12\n",
       "Flights Booked                 0.0%     100.0%     int64                  22\n",
       "Flights with Companions        0.0%     100.0%     int64                  12\n",
       "Total Flights                  0.0%     100.0%     int64                  33\n",
       "Distance                       0.0%     100.0%     int64                4746\n",
       "Points Accumulated             0.0%     100.0%   float64                1549\n",
       "Points Redeemed                0.0%     100.0%     int64                 587\n",
       "Dollar Cost Points Redeemed    0.0%     100.0%     int64                  49"
      ]
     },
     "execution_count": 8,
     "metadata": {},
     "output_type": "execute_result"
    }
   ],
   "source": [
    "#Llamamos a la función de exploración del DF: \n",
    "spt.exploracion(df_activity)"
   ]
  },
  {
   "cell_type": "markdown",
   "metadata": {},
   "source": [
    "### Exploración DF Loyalty History"
   ]
  },
  {
   "cell_type": "code",
   "execution_count": 9,
   "metadata": {},
   "outputs": [
    {
     "name": "stdout",
     "output_type": "stream",
     "text": [
      "El número de filas que tenemos en el DF de 'Customer Loyalty History' es: 16737, y el número de columnas es: 16\n"
     ]
    }
   ],
   "source": [
    "# Columnas y filas: \n",
    "print(f\"El número de filas que tenemos en el DF de 'Customer Loyalty History' es: {df_loyalty.shape[0]}, y el número de columnas es: {df_loyalty.shape[1]}\")"
   ]
  },
  {
   "cell_type": "code",
   "execution_count": 10,
   "metadata": {},
   "outputs": [
    {
     "name": "stdout",
     "output_type": "stream",
     "text": [
      "Los nombres de las columnas que tenemos en el DF de 'Customer Loyalty History' son:\n",
      "       Index(['Loyalty Number', 'Country', 'Province', 'City', 'Postal Code',\n",
      "       'Gender', 'Education', 'Salary', 'Marital Status', 'Loyalty Card',\n",
      "       'CLV', 'Enrollment Type', 'Enrollment Year', 'Enrollment Month',\n",
      "       'Cancellation Year', 'Cancellation Month'],\n",
      "      dtype='object')\n"
     ]
    }
   ],
   "source": [
    "#Nombres de columnas: \n",
    "print(f\"\"\"Los nombres de las columnas que tenemos en el DF de 'Customer Loyalty History' son:\n",
    "       {df_loyalty.columns}\"\"\")"
   ]
  },
  {
   "cell_type": "code",
   "execution_count": 11,
   "metadata": {},
   "outputs": [
    {
     "name": "stdout",
     "output_type": "stream",
     "text": [
      "<class 'pandas.core.frame.DataFrame'>\n",
      "RangeIndex: 16737 entries, 0 to 16736\n",
      "Data columns (total 16 columns):\n",
      " #   Column              Non-Null Count  Dtype  \n",
      "---  ------              --------------  -----  \n",
      " 0   Loyalty Number      16737 non-null  int64  \n",
      " 1   Country             16737 non-null  object \n",
      " 2   Province            16737 non-null  object \n",
      " 3   City                16737 non-null  object \n",
      " 4   Postal Code         16737 non-null  object \n",
      " 5   Gender              16737 non-null  object \n",
      " 6   Education           16737 non-null  object \n",
      " 7   Salary              12499 non-null  float64\n",
      " 8   Marital Status      16737 non-null  object \n",
      " 9   Loyalty Card        16737 non-null  object \n",
      " 10  CLV                 16737 non-null  float64\n",
      " 11  Enrollment Type     16737 non-null  object \n",
      " 12  Enrollment Year     16737 non-null  int64  \n",
      " 13  Enrollment Month    16737 non-null  int64  \n",
      " 14  Cancellation Year   2067 non-null   float64\n",
      " 15  Cancellation Month  2067 non-null   float64\n",
      "dtypes: float64(4), int64(3), object(9)\n",
      "memory usage: 2.0+ MB\n"
     ]
    }
   ],
   "source": [
    "#Info general: \n",
    "df_loyalty.info()"
   ]
  },
  {
   "cell_type": "code",
   "execution_count": 12,
   "metadata": {},
   "outputs": [
    {
     "name": "stdout",
     "output_type": "stream",
     "text": [
      "El DataFrame tiene 16737 filas y 16 columnas.\n",
      "Tiene 0 datos duplicados, lo que supone un porcentaje de 0.0% de los datos. \n",
      "\n",
      "Hay 3 columnas con datos nulos, y son: \n",
      "['Salary', 'Cancellation Year', 'Cancellation Month']\n",
      "\n",
      "y sin nulos hay 13 columnas y son: \n",
      "['Loyalty Number', 'Country', 'Province', 'City', 'Postal Code', 'Gender', 'Education', 'Marital Status', 'Loyalty Card', 'CLV', 'Enrollment Type', 'Enrollment Year', 'Enrollment Month']\n",
      "\n",
      "\n",
      "A continuación tienes un detalle sobre los datos nulos y los tipos y número de datos:\n"
     ]
    },
    {
     "data": {
      "text/html": [
       "<div>\n",
       "<style scoped>\n",
       "    .dataframe tbody tr th:only-of-type {\n",
       "        vertical-align: middle;\n",
       "    }\n",
       "\n",
       "    .dataframe tbody tr th {\n",
       "        vertical-align: top;\n",
       "    }\n",
       "\n",
       "    .dataframe thead th {\n",
       "        text-align: right;\n",
       "    }\n",
       "</style>\n",
       "<table border=\"1\" class=\"dataframe\">\n",
       "  <thead>\n",
       "    <tr style=\"text-align: right;\">\n",
       "      <th></th>\n",
       "      <th>% nulos</th>\n",
       "      <th>% no_nulos</th>\n",
       "      <th>tipo_dato</th>\n",
       "      <th>num_valores_unicos</th>\n",
       "    </tr>\n",
       "  </thead>\n",
       "  <tbody>\n",
       "    <tr>\n",
       "      <th>Loyalty Number</th>\n",
       "      <td>0.0%</td>\n",
       "      <td>100.0%</td>\n",
       "      <td>int64</td>\n",
       "      <td>16737</td>\n",
       "    </tr>\n",
       "    <tr>\n",
       "      <th>Country</th>\n",
       "      <td>0.0%</td>\n",
       "      <td>100.0%</td>\n",
       "      <td>object</td>\n",
       "      <td>1</td>\n",
       "    </tr>\n",
       "    <tr>\n",
       "      <th>Province</th>\n",
       "      <td>0.0%</td>\n",
       "      <td>100.0%</td>\n",
       "      <td>object</td>\n",
       "      <td>11</td>\n",
       "    </tr>\n",
       "    <tr>\n",
       "      <th>City</th>\n",
       "      <td>0.0%</td>\n",
       "      <td>100.0%</td>\n",
       "      <td>object</td>\n",
       "      <td>29</td>\n",
       "    </tr>\n",
       "    <tr>\n",
       "      <th>Postal Code</th>\n",
       "      <td>0.0%</td>\n",
       "      <td>100.0%</td>\n",
       "      <td>object</td>\n",
       "      <td>55</td>\n",
       "    </tr>\n",
       "  </tbody>\n",
       "</table>\n",
       "</div>"
      ],
      "text/plain": [
       "               % nulos % no_nulos tipo_dato  num_valores_unicos\n",
       "Loyalty Number    0.0%     100.0%     int64               16737\n",
       "Country           0.0%     100.0%    object                   1\n",
       "Province          0.0%     100.0%    object                  11\n",
       "City              0.0%     100.0%    object                  29\n",
       "Postal Code       0.0%     100.0%    object                  55"
      ]
     },
     "metadata": {},
     "output_type": "display_data"
    },
    {
     "name": "stdout",
     "output_type": "stream",
     "text": [
      "Principales estadísticos de las columnas categóricas:\n"
     ]
    },
    {
     "data": {
      "text/html": [
       "<div>\n",
       "<style scoped>\n",
       "    .dataframe tbody tr th:only-of-type {\n",
       "        vertical-align: middle;\n",
       "    }\n",
       "\n",
       "    .dataframe tbody tr th {\n",
       "        vertical-align: top;\n",
       "    }\n",
       "\n",
       "    .dataframe thead th {\n",
       "        text-align: right;\n",
       "    }\n",
       "</style>\n",
       "<table border=\"1\" class=\"dataframe\">\n",
       "  <thead>\n",
       "    <tr style=\"text-align: right;\">\n",
       "      <th></th>\n",
       "      <th>count</th>\n",
       "      <th>unique</th>\n",
       "      <th>top</th>\n",
       "      <th>freq</th>\n",
       "    </tr>\n",
       "  </thead>\n",
       "  <tbody>\n",
       "    <tr>\n",
       "      <th>Country</th>\n",
       "      <td>16737</td>\n",
       "      <td>1</td>\n",
       "      <td>Canada</td>\n",
       "      <td>16737</td>\n",
       "    </tr>\n",
       "    <tr>\n",
       "      <th>Province</th>\n",
       "      <td>16737</td>\n",
       "      <td>11</td>\n",
       "      <td>Ontario</td>\n",
       "      <td>5404</td>\n",
       "    </tr>\n",
       "    <tr>\n",
       "      <th>City</th>\n",
       "      <td>16737</td>\n",
       "      <td>29</td>\n",
       "      <td>Toronto</td>\n",
       "      <td>3351</td>\n",
       "    </tr>\n",
       "    <tr>\n",
       "      <th>Postal Code</th>\n",
       "      <td>16737</td>\n",
       "      <td>55</td>\n",
       "      <td>V6E 3D9</td>\n",
       "      <td>911</td>\n",
       "    </tr>\n",
       "    <tr>\n",
       "      <th>Gender</th>\n",
       "      <td>16737</td>\n",
       "      <td>2</td>\n",
       "      <td>Female</td>\n",
       "      <td>8410</td>\n",
       "    </tr>\n",
       "    <tr>\n",
       "      <th>Education</th>\n",
       "      <td>16737</td>\n",
       "      <td>5</td>\n",
       "      <td>Bachelor</td>\n",
       "      <td>10475</td>\n",
       "    </tr>\n",
       "    <tr>\n",
       "      <th>Marital Status</th>\n",
       "      <td>16737</td>\n",
       "      <td>3</td>\n",
       "      <td>Married</td>\n",
       "      <td>9735</td>\n",
       "    </tr>\n",
       "    <tr>\n",
       "      <th>Loyalty Card</th>\n",
       "      <td>16737</td>\n",
       "      <td>3</td>\n",
       "      <td>Star</td>\n",
       "      <td>7637</td>\n",
       "    </tr>\n",
       "    <tr>\n",
       "      <th>Enrollment Type</th>\n",
       "      <td>16737</td>\n",
       "      <td>2</td>\n",
       "      <td>Standard</td>\n",
       "      <td>15766</td>\n",
       "    </tr>\n",
       "  </tbody>\n",
       "</table>\n",
       "</div>"
      ],
      "text/plain": [
       "                 count unique       top   freq\n",
       "Country          16737      1    Canada  16737\n",
       "Province         16737     11   Ontario   5404\n",
       "City             16737     29   Toronto   3351\n",
       "Postal Code      16737     55   V6E 3D9    911\n",
       "Gender           16737      2    Female   8410\n",
       "Education        16737      5  Bachelor  10475\n",
       "Marital Status   16737      3   Married   9735\n",
       "Loyalty Card     16737      3      Star   7637\n",
       "Enrollment Type  16737      2  Standard  15766"
      ]
     },
     "metadata": {},
     "output_type": "display_data"
    },
    {
     "name": "stdout",
     "output_type": "stream",
     "text": [
      "Principales estadísticos de las columnas numéricas:\n"
     ]
    },
    {
     "data": {
      "text/html": [
       "<div>\n",
       "<style scoped>\n",
       "    .dataframe tbody tr th:only-of-type {\n",
       "        vertical-align: middle;\n",
       "    }\n",
       "\n",
       "    .dataframe tbody tr th {\n",
       "        vertical-align: top;\n",
       "    }\n",
       "\n",
       "    .dataframe thead th {\n",
       "        text-align: right;\n",
       "    }\n",
       "</style>\n",
       "<table border=\"1\" class=\"dataframe\">\n",
       "  <thead>\n",
       "    <tr style=\"text-align: right;\">\n",
       "      <th></th>\n",
       "      <th>count</th>\n",
       "      <th>mean</th>\n",
       "      <th>std</th>\n",
       "      <th>min</th>\n",
       "      <th>25%</th>\n",
       "      <th>50%</th>\n",
       "      <th>75%</th>\n",
       "      <th>max</th>\n",
       "    </tr>\n",
       "  </thead>\n",
       "  <tbody>\n",
       "    <tr>\n",
       "      <th>Loyalty Number</th>\n",
       "      <td>16737.0</td>\n",
       "      <td>549735.880445</td>\n",
       "      <td>258912.132453</td>\n",
       "      <td>100018.00</td>\n",
       "      <td>326603.00</td>\n",
       "      <td>550434.00</td>\n",
       "      <td>772019.00</td>\n",
       "      <td>999986.00</td>\n",
       "    </tr>\n",
       "    <tr>\n",
       "      <th>Salary</th>\n",
       "      <td>12499.0</td>\n",
       "      <td>79245.609409</td>\n",
       "      <td>35008.297285</td>\n",
       "      <td>-58486.00</td>\n",
       "      <td>59246.50</td>\n",
       "      <td>73455.00</td>\n",
       "      <td>88517.50</td>\n",
       "      <td>407228.00</td>\n",
       "    </tr>\n",
       "    <tr>\n",
       "      <th>CLV</th>\n",
       "      <td>16737.0</td>\n",
       "      <td>7988.896536</td>\n",
       "      <td>6860.982280</td>\n",
       "      <td>1898.01</td>\n",
       "      <td>3980.84</td>\n",
       "      <td>5780.18</td>\n",
       "      <td>8940.58</td>\n",
       "      <td>83325.38</td>\n",
       "    </tr>\n",
       "    <tr>\n",
       "      <th>Enrollment Year</th>\n",
       "      <td>16737.0</td>\n",
       "      <td>2015.253211</td>\n",
       "      <td>1.979111</td>\n",
       "      <td>2012.00</td>\n",
       "      <td>2014.00</td>\n",
       "      <td>2015.00</td>\n",
       "      <td>2017.00</td>\n",
       "      <td>2018.00</td>\n",
       "    </tr>\n",
       "    <tr>\n",
       "      <th>Enrollment Month</th>\n",
       "      <td>16737.0</td>\n",
       "      <td>6.669116</td>\n",
       "      <td>3.398958</td>\n",
       "      <td>1.00</td>\n",
       "      <td>4.00</td>\n",
       "      <td>7.00</td>\n",
       "      <td>10.00</td>\n",
       "      <td>12.00</td>\n",
       "    </tr>\n",
       "    <tr>\n",
       "      <th>Cancellation Year</th>\n",
       "      <td>2067.0</td>\n",
       "      <td>2016.503145</td>\n",
       "      <td>1.380743</td>\n",
       "      <td>2013.00</td>\n",
       "      <td>2016.00</td>\n",
       "      <td>2017.00</td>\n",
       "      <td>2018.00</td>\n",
       "      <td>2018.00</td>\n",
       "    </tr>\n",
       "    <tr>\n",
       "      <th>Cancellation Month</th>\n",
       "      <td>2067.0</td>\n",
       "      <td>6.962748</td>\n",
       "      <td>3.455297</td>\n",
       "      <td>1.00</td>\n",
       "      <td>4.00</td>\n",
       "      <td>7.00</td>\n",
       "      <td>10.00</td>\n",
       "      <td>12.00</td>\n",
       "    </tr>\n",
       "  </tbody>\n",
       "</table>\n",
       "</div>"
      ],
      "text/plain": [
       "                      count           mean            std        min  \\\n",
       "Loyalty Number      16737.0  549735.880445  258912.132453  100018.00   \n",
       "Salary              12499.0   79245.609409   35008.297285  -58486.00   \n",
       "CLV                 16737.0    7988.896536    6860.982280    1898.01   \n",
       "Enrollment Year     16737.0    2015.253211       1.979111    2012.00   \n",
       "Enrollment Month    16737.0       6.669116       3.398958       1.00   \n",
       "Cancellation Year    2067.0    2016.503145       1.380743    2013.00   \n",
       "Cancellation Month   2067.0       6.962748       3.455297       1.00   \n",
       "\n",
       "                          25%        50%        75%        max  \n",
       "Loyalty Number      326603.00  550434.00  772019.00  999986.00  \n",
       "Salary               59246.50   73455.00   88517.50  407228.00  \n",
       "CLV                   3980.84    5780.18    8940.58   83325.38  \n",
       "Enrollment Year       2014.00    2015.00    2017.00    2018.00  \n",
       "Enrollment Month         4.00       7.00      10.00      12.00  \n",
       "Cancellation Year     2016.00    2017.00    2018.00    2018.00  \n",
       "Cancellation Month       4.00       7.00      10.00      12.00  "
      ]
     },
     "metadata": {},
     "output_type": "display_data"
    },
    {
     "data": {
      "text/html": [
       "<div>\n",
       "<style scoped>\n",
       "    .dataframe tbody tr th:only-of-type {\n",
       "        vertical-align: middle;\n",
       "    }\n",
       "\n",
       "    .dataframe tbody tr th {\n",
       "        vertical-align: top;\n",
       "    }\n",
       "\n",
       "    .dataframe thead th {\n",
       "        text-align: right;\n",
       "    }\n",
       "</style>\n",
       "<table border=\"1\" class=\"dataframe\">\n",
       "  <thead>\n",
       "    <tr style=\"text-align: right;\">\n",
       "      <th></th>\n",
       "      <th>% nulos</th>\n",
       "      <th>% no_nulos</th>\n",
       "      <th>tipo_dato</th>\n",
       "      <th>num_valores_unicos</th>\n",
       "    </tr>\n",
       "  </thead>\n",
       "  <tbody>\n",
       "    <tr>\n",
       "      <th>Loyalty Number</th>\n",
       "      <td>0.0%</td>\n",
       "      <td>100.0%</td>\n",
       "      <td>int64</td>\n",
       "      <td>16737</td>\n",
       "    </tr>\n",
       "    <tr>\n",
       "      <th>Country</th>\n",
       "      <td>0.0%</td>\n",
       "      <td>100.0%</td>\n",
       "      <td>object</td>\n",
       "      <td>1</td>\n",
       "    </tr>\n",
       "    <tr>\n",
       "      <th>Province</th>\n",
       "      <td>0.0%</td>\n",
       "      <td>100.0%</td>\n",
       "      <td>object</td>\n",
       "      <td>11</td>\n",
       "    </tr>\n",
       "    <tr>\n",
       "      <th>City</th>\n",
       "      <td>0.0%</td>\n",
       "      <td>100.0%</td>\n",
       "      <td>object</td>\n",
       "      <td>29</td>\n",
       "    </tr>\n",
       "    <tr>\n",
       "      <th>Postal Code</th>\n",
       "      <td>0.0%</td>\n",
       "      <td>100.0%</td>\n",
       "      <td>object</td>\n",
       "      <td>55</td>\n",
       "    </tr>\n",
       "    <tr>\n",
       "      <th>Gender</th>\n",
       "      <td>0.0%</td>\n",
       "      <td>100.0%</td>\n",
       "      <td>object</td>\n",
       "      <td>2</td>\n",
       "    </tr>\n",
       "    <tr>\n",
       "      <th>Education</th>\n",
       "      <td>0.0%</td>\n",
       "      <td>100.0%</td>\n",
       "      <td>object</td>\n",
       "      <td>5</td>\n",
       "    </tr>\n",
       "    <tr>\n",
       "      <th>Salary</th>\n",
       "      <td>25.32%</td>\n",
       "      <td>74.68%</td>\n",
       "      <td>float64</td>\n",
       "      <td>5890</td>\n",
       "    </tr>\n",
       "    <tr>\n",
       "      <th>Marital Status</th>\n",
       "      <td>0.0%</td>\n",
       "      <td>100.0%</td>\n",
       "      <td>object</td>\n",
       "      <td>3</td>\n",
       "    </tr>\n",
       "    <tr>\n",
       "      <th>Loyalty Card</th>\n",
       "      <td>0.0%</td>\n",
       "      <td>100.0%</td>\n",
       "      <td>object</td>\n",
       "      <td>3</td>\n",
       "    </tr>\n",
       "    <tr>\n",
       "      <th>CLV</th>\n",
       "      <td>0.0%</td>\n",
       "      <td>100.0%</td>\n",
       "      <td>float64</td>\n",
       "      <td>7984</td>\n",
       "    </tr>\n",
       "    <tr>\n",
       "      <th>Enrollment Type</th>\n",
       "      <td>0.0%</td>\n",
       "      <td>100.0%</td>\n",
       "      <td>object</td>\n",
       "      <td>2</td>\n",
       "    </tr>\n",
       "    <tr>\n",
       "      <th>Enrollment Year</th>\n",
       "      <td>0.0%</td>\n",
       "      <td>100.0%</td>\n",
       "      <td>int64</td>\n",
       "      <td>7</td>\n",
       "    </tr>\n",
       "    <tr>\n",
       "      <th>Enrollment Month</th>\n",
       "      <td>0.0%</td>\n",
       "      <td>100.0%</td>\n",
       "      <td>int64</td>\n",
       "      <td>12</td>\n",
       "    </tr>\n",
       "    <tr>\n",
       "      <th>Cancellation Year</th>\n",
       "      <td>87.65%</td>\n",
       "      <td>12.35%</td>\n",
       "      <td>float64</td>\n",
       "      <td>6</td>\n",
       "    </tr>\n",
       "    <tr>\n",
       "      <th>Cancellation Month</th>\n",
       "      <td>87.65%</td>\n",
       "      <td>12.35%</td>\n",
       "      <td>float64</td>\n",
       "      <td>12</td>\n",
       "    </tr>\n",
       "  </tbody>\n",
       "</table>\n",
       "</div>"
      ],
      "text/plain": [
       "                   % nulos % no_nulos tipo_dato  num_valores_unicos\n",
       "Loyalty Number        0.0%     100.0%     int64               16737\n",
       "Country               0.0%     100.0%    object                   1\n",
       "Province              0.0%     100.0%    object                  11\n",
       "City                  0.0%     100.0%    object                  29\n",
       "Postal Code           0.0%     100.0%    object                  55\n",
       "Gender                0.0%     100.0%    object                   2\n",
       "Education             0.0%     100.0%    object                   5\n",
       "Salary              25.32%     74.68%   float64                5890\n",
       "Marital Status        0.0%     100.0%    object                   3\n",
       "Loyalty Card          0.0%     100.0%    object                   3\n",
       "CLV                   0.0%     100.0%   float64                7984\n",
       "Enrollment Type       0.0%     100.0%    object                   2\n",
       "Enrollment Year       0.0%     100.0%     int64                   7\n",
       "Enrollment Month      0.0%     100.0%     int64                  12\n",
       "Cancellation Year   87.65%     12.35%   float64                   6\n",
       "Cancellation Month  87.65%     12.35%   float64                  12"
      ]
     },
     "execution_count": 12,
     "metadata": {},
     "output_type": "execute_result"
    }
   ],
   "source": [
    "#Llamamos a la función de exploración del DF: \n",
    "spt.exploracion(df_loyalty)"
   ]
  },
  {
   "cell_type": "markdown",
   "metadata": {},
   "source": [
    "### Gestión duplicados"
   ]
  },
  {
   "cell_type": "code",
   "execution_count": 13,
   "metadata": {},
   "outputs": [
    {
     "data": {
      "text/plain": [
       "1864"
      ]
     },
     "execution_count": 13,
     "metadata": {},
     "output_type": "execute_result"
    }
   ],
   "source": [
    "## contamos total duplicados: \n",
    "df_activity.duplicated().sum() "
   ]
  },
  {
   "cell_type": "code",
   "execution_count": 14,
   "metadata": {},
   "outputs": [],
   "source": [
    "## verificamos qué columnas tienen datos duplicados\n",
    "columnas_duplicadas = []\n",
    "for columna in df_activity.columns:\n",
    "    if df_activity[columna].duplicated().any():\n",
    "        columnas_duplicadas.append(columna)"
   ]
  },
  {
   "cell_type": "code",
   "execution_count": 15,
   "metadata": {},
   "outputs": [
    {
     "data": {
      "text/plain": [
       "['Loyalty Number',\n",
       " 'Year',\n",
       " 'Month',\n",
       " 'Flights Booked',\n",
       " 'Flights with Companions',\n",
       " 'Total Flights',\n",
       " 'Distance',\n",
       " 'Points Accumulated',\n",
       " 'Points Redeemed',\n",
       " 'Dollar Cost Points Redeemed']"
      ]
     },
     "execution_count": 15,
     "metadata": {},
     "output_type": "execute_result"
    }
   ],
   "source": [
    "columnas_duplicadas"
   ]
  },
  {
   "cell_type": "code",
   "execution_count": 16,
   "metadata": {},
   "outputs": [
    {
     "data": {
      "text/plain": [
       "388887"
      ]
     },
     "execution_count": 16,
     "metadata": {},
     "output_type": "execute_result"
    }
   ],
   "source": [
    "## Verificamos cuantos valores \"duplicados\" hay en la columna 'Loyalty Number' que sería como el customer ID: \n",
    "df_activity['Loyalty Number'].duplicated().sum()"
   ]
  },
  {
   "cell_type": "code",
   "execution_count": 17,
   "metadata": {},
   "outputs": [
    {
     "data": {
      "text/plain": [
       "16737"
      ]
     },
     "execution_count": 17,
     "metadata": {},
     "output_type": "execute_result"
    }
   ],
   "source": [
    "## Verificamos cuantos valores únicos hay en la columna 'Loyalty Number'\n",
    "len(df_activity['Loyalty Number'].unique())"
   ]
  },
  {
   "cell_type": "code",
   "execution_count": 18,
   "metadata": {},
   "outputs": [],
   "source": [
    "## DF con filas duplicadas (incluyendo la original)\n",
    "filas_duplicadas = df_activity[df_activity.duplicated(keep=False)]"
   ]
  },
  {
   "cell_type": "code",
   "execution_count": 19,
   "metadata": {},
   "outputs": [
    {
     "data": {
      "text/html": [
       "<div>\n",
       "<style scoped>\n",
       "    .dataframe tbody tr th:only-of-type {\n",
       "        vertical-align: middle;\n",
       "    }\n",
       "\n",
       "    .dataframe tbody tr th {\n",
       "        vertical-align: top;\n",
       "    }\n",
       "\n",
       "    .dataframe thead th {\n",
       "        text-align: right;\n",
       "    }\n",
       "</style>\n",
       "<table border=\"1\" class=\"dataframe\">\n",
       "  <thead>\n",
       "    <tr style=\"text-align: right;\">\n",
       "      <th></th>\n",
       "      <th>Loyalty Number</th>\n",
       "      <th>Year</th>\n",
       "      <th>Month</th>\n",
       "      <th>Flights Booked</th>\n",
       "      <th>Flights with Companions</th>\n",
       "      <th>Total Flights</th>\n",
       "      <th>Distance</th>\n",
       "      <th>Points Accumulated</th>\n",
       "      <th>Points Redeemed</th>\n",
       "      <th>Dollar Cost Points Redeemed</th>\n",
       "    </tr>\n",
       "  </thead>\n",
       "  <tbody>\n",
       "    <tr>\n",
       "      <th>404667</th>\n",
       "      <td>949628</td>\n",
       "      <td>2018</td>\n",
       "      <td>12</td>\n",
       "      <td>0</td>\n",
       "      <td>0</td>\n",
       "      <td>0</td>\n",
       "      <td>0</td>\n",
       "      <td>0.0</td>\n",
       "      <td>0</td>\n",
       "      <td>0</td>\n",
       "    </tr>\n",
       "    <tr>\n",
       "      <th>404668</th>\n",
       "      <td>949628</td>\n",
       "      <td>2018</td>\n",
       "      <td>12</td>\n",
       "      <td>0</td>\n",
       "      <td>0</td>\n",
       "      <td>0</td>\n",
       "      <td>0</td>\n",
       "      <td>0.0</td>\n",
       "      <td>0</td>\n",
       "      <td>0</td>\n",
       "    </tr>\n",
       "    <tr>\n",
       "      <th>404883</th>\n",
       "      <td>960050</td>\n",
       "      <td>2018</td>\n",
       "      <td>12</td>\n",
       "      <td>0</td>\n",
       "      <td>0</td>\n",
       "      <td>0</td>\n",
       "      <td>0</td>\n",
       "      <td>0.0</td>\n",
       "      <td>0</td>\n",
       "      <td>0</td>\n",
       "    </tr>\n",
       "    <tr>\n",
       "      <th>404884</th>\n",
       "      <td>960050</td>\n",
       "      <td>2018</td>\n",
       "      <td>12</td>\n",
       "      <td>0</td>\n",
       "      <td>0</td>\n",
       "      <td>0</td>\n",
       "      <td>0</td>\n",
       "      <td>0.0</td>\n",
       "      <td>0</td>\n",
       "      <td>0</td>\n",
       "    </tr>\n",
       "    <tr>\n",
       "      <th>405110</th>\n",
       "      <td>971370</td>\n",
       "      <td>2018</td>\n",
       "      <td>12</td>\n",
       "      <td>0</td>\n",
       "      <td>0</td>\n",
       "      <td>0</td>\n",
       "      <td>0</td>\n",
       "      <td>0.0</td>\n",
       "      <td>0</td>\n",
       "      <td>0</td>\n",
       "    </tr>\n",
       "    <tr>\n",
       "      <th>405111</th>\n",
       "      <td>971370</td>\n",
       "      <td>2018</td>\n",
       "      <td>12</td>\n",
       "      <td>0</td>\n",
       "      <td>0</td>\n",
       "      <td>0</td>\n",
       "      <td>0</td>\n",
       "      <td>0.0</td>\n",
       "      <td>0</td>\n",
       "      <td>0</td>\n",
       "    </tr>\n",
       "    <tr>\n",
       "      <th>405409</th>\n",
       "      <td>988392</td>\n",
       "      <td>2018</td>\n",
       "      <td>12</td>\n",
       "      <td>0</td>\n",
       "      <td>0</td>\n",
       "      <td>0</td>\n",
       "      <td>0</td>\n",
       "      <td>0.0</td>\n",
       "      <td>0</td>\n",
       "      <td>0</td>\n",
       "    </tr>\n",
       "    <tr>\n",
       "      <th>405410</th>\n",
       "      <td>988392</td>\n",
       "      <td>2018</td>\n",
       "      <td>12</td>\n",
       "      <td>0</td>\n",
       "      <td>0</td>\n",
       "      <td>0</td>\n",
       "      <td>0</td>\n",
       "      <td>0.0</td>\n",
       "      <td>0</td>\n",
       "      <td>0</td>\n",
       "    </tr>\n",
       "    <tr>\n",
       "      <th>405436</th>\n",
       "      <td>989528</td>\n",
       "      <td>2018</td>\n",
       "      <td>12</td>\n",
       "      <td>0</td>\n",
       "      <td>0</td>\n",
       "      <td>0</td>\n",
       "      <td>0</td>\n",
       "      <td>0.0</td>\n",
       "      <td>0</td>\n",
       "      <td>0</td>\n",
       "    </tr>\n",
       "    <tr>\n",
       "      <th>405437</th>\n",
       "      <td>989528</td>\n",
       "      <td>2018</td>\n",
       "      <td>12</td>\n",
       "      <td>0</td>\n",
       "      <td>0</td>\n",
       "      <td>0</td>\n",
       "      <td>0</td>\n",
       "      <td>0.0</td>\n",
       "      <td>0</td>\n",
       "      <td>0</td>\n",
       "    </tr>\n",
       "  </tbody>\n",
       "</table>\n",
       "</div>"
      ],
      "text/plain": [
       "        Loyalty Number  Year  Month  Flights Booked  Flights with Companions  \\\n",
       "404667          949628  2018     12               0                        0   \n",
       "404668          949628  2018     12               0                        0   \n",
       "404883          960050  2018     12               0                        0   \n",
       "404884          960050  2018     12               0                        0   \n",
       "405110          971370  2018     12               0                        0   \n",
       "405111          971370  2018     12               0                        0   \n",
       "405409          988392  2018     12               0                        0   \n",
       "405410          988392  2018     12               0                        0   \n",
       "405436          989528  2018     12               0                        0   \n",
       "405437          989528  2018     12               0                        0   \n",
       "\n",
       "        Total Flights  Distance  Points Accumulated  Points Redeemed  \\\n",
       "404667              0         0                 0.0                0   \n",
       "404668              0         0                 0.0                0   \n",
       "404883              0         0                 0.0                0   \n",
       "404884              0         0                 0.0                0   \n",
       "405110              0         0                 0.0                0   \n",
       "405111              0         0                 0.0                0   \n",
       "405409              0         0                 0.0                0   \n",
       "405410              0         0                 0.0                0   \n",
       "405436              0         0                 0.0                0   \n",
       "405437              0         0                 0.0                0   \n",
       "\n",
       "        Dollar Cost Points Redeemed  \n",
       "404667                            0  \n",
       "404668                            0  \n",
       "404883                            0  \n",
       "404884                            0  \n",
       "405110                            0  \n",
       "405111                            0  \n",
       "405409                            0  \n",
       "405410                            0  \n",
       "405436                            0  \n",
       "405437                            0  "
      ]
     },
     "execution_count": 19,
     "metadata": {},
     "output_type": "execute_result"
    }
   ],
   "source": [
    "filas_duplicadas.tail(10)"
   ]
  },
  {
   "cell_type": "code",
   "execution_count": 20,
   "metadata": {},
   "outputs": [],
   "source": [
    "##pd.set_option('display.max_rows', None)"
   ]
  },
  {
   "cell_type": "code",
   "execution_count": 21,
   "metadata": {},
   "outputs": [
    {
     "name": "stdout",
     "output_type": "stream",
     "text": [
      "Para la columna \"Loyalty Number\" estos son los valores unicos: [101902 112142 126100 130331 135421 156031 106509 193662 208241 224676\n",
      " 237094 243741 263267 304600 308480 322169 328623 342569 342945 351937\n",
      " 354438 357901 361680 368073 369638 373638 402697 403529 407404 411030\n",
      " 417240 455758 460272 464256 465260 467894 470998 474305 486860 488224\n",
      " 497476 510182 511862 536021 546259 547522 577232 584782 584833 593252\n",
      " 601131 604274 622975 642020 646756 653081 678205 687951 693926 702482\n",
      " 710003 719633 727507 732304 741848 746226 750578 750665 762990 773857\n",
      " 774168 776466 783165 790940 819842 825593 831341 849813 869265 869276\n",
      " 874780 886803 890361 896861 897772 903359 920175 949628 950304 950980\n",
      " 951353 958491 960050 979115 981508 989528 990512 215508 295906 585756\n",
      " 841296 899760 992168 255836 411523 206050 114414 615561 684123 775768\n",
      " 971370 198499 255475 278854 351615 279419 615439 825517 972686 309230\n",
      " 323821 411734 434807 444092 927026 738567 902608 965605 650466 876062\n",
      " 361237 528447 968034 464187 490439 582493 126490 573446 682979 556755\n",
      " 604870 713132 181082 654433 988392 208485 286636 200519 700650 336882\n",
      " 499874 727091 106001 833793 512296 684881 969318 947778 684889]\n",
      "Para la columna \"Year\" estos son los valores unicos: [2017 2018]\n",
      "Para la columna \"Month\" estos son los valores unicos: [ 1  2  3  4  5  6  7  8  9 10 11 12]\n",
      "Para la columna \"Flights Booked\" estos son los valores unicos: [0]\n",
      "Para la columna \"Flights with Companions\" estos son los valores unicos: [0]\n",
      "Para la columna \"Total Flights\" estos son los valores unicos: [0]\n",
      "Para la columna \"Distance\" estos son los valores unicos: [0]\n",
      "Para la columna \"Points Accumulated\" estos son los valores unicos: [0.]\n",
      "Para la columna \"Points Redeemed\" estos son los valores unicos: [0]\n",
      "Para la columna \"Dollar Cost Points Redeemed\" estos son los valores unicos: [0]\n"
     ]
    }
   ],
   "source": [
    "## Verificamos si desde columna Flights Booked hasta Dollar Cost Points Redeemed todos los valores son 0: \n",
    "for col in filas_duplicadas:\n",
    "\n",
    "    print(f'Para la columna \"{col}\" estos son los valores unicos: {filas_duplicadas[col].unique()}')"
   ]
  },
  {
   "cell_type": "code",
   "execution_count": 22,
   "metadata": {},
   "outputs": [],
   "source": [
    "## Los valores duplicados parecen ser redundantes. Se repite en una o más ocasiones el mismo Loyalty Number, Año y Mes - pero el resto de los valores de las columnas es de 0. Por lo que eliminamos los duplicados. \n",
    "## Guardamos guardados en un DF (filas_duplicadas) y los pasamos a CSV por si en un futuro hay que restaurarlos: \n",
    "\n",
    "filas_duplicadas.to_csv(\"filas_duplicadas.csv\", index=False)"
   ]
  },
  {
   "cell_type": "code",
   "execution_count": 23,
   "metadata": {},
   "outputs": [],
   "source": [
    "#Eliminación duplicados: \n",
    "df_activity_sin_duplicados = df_activity.drop_duplicates(keep='first')"
   ]
  },
  {
   "cell_type": "code",
   "execution_count": 24,
   "metadata": {},
   "outputs": [
    {
     "data": {
      "text/plain": [
       "0"
      ]
     },
     "execution_count": 24,
     "metadata": {},
     "output_type": "execute_result"
    }
   ],
   "source": [
    "## Verificamos que no haya duplicados y cantidad total de filas (debería haber)\n",
    "df_activity_sin_duplicados.duplicated().sum()"
   ]
  },
  {
   "cell_type": "code",
   "execution_count": 25,
   "metadata": {},
   "outputs": [
    {
     "data": {
      "text/plain": [
       "403760"
      ]
     },
     "execution_count": 25,
     "metadata": {},
     "output_type": "execute_result"
    }
   ],
   "source": [
    "## Antes tenía 405624 filas. Eliminamos 1864 datos duplicados. El total debería ser 403760.\n",
    "df_activity_sin_duplicados.shape[0]"
   ]
  },
  {
   "cell_type": "code",
   "execution_count": 26,
   "metadata": {},
   "outputs": [
    {
     "data": {
      "text/html": [
       "<div>\n",
       "<style scoped>\n",
       "    .dataframe tbody tr th:only-of-type {\n",
       "        vertical-align: middle;\n",
       "    }\n",
       "\n",
       "    .dataframe tbody tr th {\n",
       "        vertical-align: top;\n",
       "    }\n",
       "\n",
       "    .dataframe thead th {\n",
       "        text-align: right;\n",
       "    }\n",
       "</style>\n",
       "<table border=\"1\" class=\"dataframe\">\n",
       "  <thead>\n",
       "    <tr style=\"text-align: right;\">\n",
       "      <th></th>\n",
       "      <th>Loyalty Number</th>\n",
       "      <th>Year</th>\n",
       "      <th>Month</th>\n",
       "      <th>Flights Booked</th>\n",
       "      <th>Flights with Companions</th>\n",
       "      <th>Total Flights</th>\n",
       "      <th>Distance</th>\n",
       "      <th>Points Accumulated</th>\n",
       "      <th>Points Redeemed</th>\n",
       "      <th>Dollar Cost Points Redeemed</th>\n",
       "    </tr>\n",
       "  </thead>\n",
       "  <tbody>\n",
       "    <tr>\n",
       "      <th>0</th>\n",
       "      <td>100018</td>\n",
       "      <td>2017</td>\n",
       "      <td>1</td>\n",
       "      <td>3</td>\n",
       "      <td>0</td>\n",
       "      <td>3</td>\n",
       "      <td>1521</td>\n",
       "      <td>152.0</td>\n",
       "      <td>0</td>\n",
       "      <td>0</td>\n",
       "    </tr>\n",
       "    <tr>\n",
       "      <th>46353</th>\n",
       "      <td>100018</td>\n",
       "      <td>2018</td>\n",
       "      <td>10</td>\n",
       "      <td>6</td>\n",
       "      <td>4</td>\n",
       "      <td>10</td>\n",
       "      <td>3110</td>\n",
       "      <td>311.0</td>\n",
       "      <td>385</td>\n",
       "      <td>31</td>\n",
       "    </tr>\n",
       "    <tr>\n",
       "      <th>321119</th>\n",
       "      <td>100018</td>\n",
       "      <td>2018</td>\n",
       "      <td>8</td>\n",
       "      <td>0</td>\n",
       "      <td>0</td>\n",
       "      <td>0</td>\n",
       "      <td>0</td>\n",
       "      <td>0.0</td>\n",
       "      <td>0</td>\n",
       "      <td>0</td>\n",
       "    </tr>\n",
       "    <tr>\n",
       "      <th>270416</th>\n",
       "      <td>100018</td>\n",
       "      <td>2018</td>\n",
       "      <td>5</td>\n",
       "      <td>0</td>\n",
       "      <td>0</td>\n",
       "      <td>0</td>\n",
       "      <td>0</td>\n",
       "      <td>0.0</td>\n",
       "      <td>0</td>\n",
       "      <td>0</td>\n",
       "    </tr>\n",
       "    <tr>\n",
       "      <th>50703</th>\n",
       "      <td>100018</td>\n",
       "      <td>2017</td>\n",
       "      <td>4</td>\n",
       "      <td>4</td>\n",
       "      <td>0</td>\n",
       "      <td>4</td>\n",
       "      <td>924</td>\n",
       "      <td>92.0</td>\n",
       "      <td>0</td>\n",
       "      <td>0</td>\n",
       "    </tr>\n",
       "    <tr>\n",
       "      <th>...</th>\n",
       "      <td>...</td>\n",
       "      <td>...</td>\n",
       "      <td>...</td>\n",
       "      <td>...</td>\n",
       "      <td>...</td>\n",
       "      <td>...</td>\n",
       "      <td>...</td>\n",
       "      <td>...</td>\n",
       "      <td>...</td>\n",
       "      <td>...</td>\n",
       "    </tr>\n",
       "    <tr>\n",
       "      <th>16900</th>\n",
       "      <td>999986</td>\n",
       "      <td>2017</td>\n",
       "      <td>1</td>\n",
       "      <td>1</td>\n",
       "      <td>0</td>\n",
       "      <td>1</td>\n",
       "      <td>1849</td>\n",
       "      <td>184.0</td>\n",
       "      <td>0</td>\n",
       "      <td>0</td>\n",
       "    </tr>\n",
       "    <tr>\n",
       "      <th>140741</th>\n",
       "      <td>999986</td>\n",
       "      <td>2018</td>\n",
       "      <td>8</td>\n",
       "      <td>8</td>\n",
       "      <td>1</td>\n",
       "      <td>9</td>\n",
       "      <td>3672</td>\n",
       "      <td>367.0</td>\n",
       "      <td>655</td>\n",
       "      <td>53</td>\n",
       "    </tr>\n",
       "    <tr>\n",
       "      <th>135207</th>\n",
       "      <td>999986</td>\n",
       "      <td>2017</td>\n",
       "      <td>8</td>\n",
       "      <td>12</td>\n",
       "      <td>0</td>\n",
       "      <td>12</td>\n",
       "      <td>1716</td>\n",
       "      <td>171.0</td>\n",
       "      <td>0</td>\n",
       "      <td>0</td>\n",
       "    </tr>\n",
       "    <tr>\n",
       "      <th>33801</th>\n",
       "      <td>999986</td>\n",
       "      <td>2017</td>\n",
       "      <td>2</td>\n",
       "      <td>7</td>\n",
       "      <td>0</td>\n",
       "      <td>7</td>\n",
       "      <td>3017</td>\n",
       "      <td>301.0</td>\n",
       "      <td>0</td>\n",
       "      <td>0</td>\n",
       "    </tr>\n",
       "    <tr>\n",
       "      <th>405623</th>\n",
       "      <td>999986</td>\n",
       "      <td>2018</td>\n",
       "      <td>12</td>\n",
       "      <td>0</td>\n",
       "      <td>0</td>\n",
       "      <td>0</td>\n",
       "      <td>0</td>\n",
       "      <td>0.0</td>\n",
       "      <td>0</td>\n",
       "      <td>0</td>\n",
       "    </tr>\n",
       "  </tbody>\n",
       "</table>\n",
       "<p>403760 rows × 10 columns</p>\n",
       "</div>"
      ],
      "text/plain": [
       "        Loyalty Number  Year  Month  Flights Booked  Flights with Companions  \\\n",
       "0               100018  2017      1               3                        0   \n",
       "46353           100018  2018     10               6                        4   \n",
       "321119          100018  2018      8               0                        0   \n",
       "270416          100018  2018      5               0                        0   \n",
       "50703           100018  2017      4               4                        0   \n",
       "...                ...   ...    ...             ...                      ...   \n",
       "16900           999986  2017      1               1                        0   \n",
       "140741          999986  2018      8               8                        1   \n",
       "135207          999986  2017      8              12                        0   \n",
       "33801           999986  2017      2               7                        0   \n",
       "405623          999986  2018     12               0                        0   \n",
       "\n",
       "        Total Flights  Distance  Points Accumulated  Points Redeemed  \\\n",
       "0                   3      1521               152.0                0   \n",
       "46353              10      3110               311.0              385   \n",
       "321119              0         0                 0.0                0   \n",
       "270416              0         0                 0.0                0   \n",
       "50703               4       924                92.0                0   \n",
       "...               ...       ...                 ...              ...   \n",
       "16900               1      1849               184.0                0   \n",
       "140741              9      3672               367.0              655   \n",
       "135207             12      1716               171.0                0   \n",
       "33801               7      3017               301.0                0   \n",
       "405623              0         0                 0.0                0   \n",
       "\n",
       "        Dollar Cost Points Redeemed  \n",
       "0                                 0  \n",
       "46353                            31  \n",
       "321119                            0  \n",
       "270416                            0  \n",
       "50703                             0  \n",
       "...                             ...  \n",
       "16900                             0  \n",
       "140741                           53  \n",
       "135207                            0  \n",
       "33801                             0  \n",
       "405623                            0  \n",
       "\n",
       "[403760 rows x 10 columns]"
      ]
     },
     "execution_count": 26,
     "metadata": {},
     "output_type": "execute_result"
    }
   ],
   "source": [
    "## Comprobamos que en los casos que tenga el mismo loyalty number el resto de las columnas no sean iguales: \n",
    "\n",
    "df_activity_sin_duplicados.sort_values('Loyalty Number')"
   ]
  },
  {
   "cell_type": "markdown",
   "metadata": {},
   "source": [
    "### Union de datos"
   ]
  },
  {
   "cell_type": "code",
   "execution_count": 27,
   "metadata": {},
   "outputs": [],
   "source": [
    "## Comprobamos el shape y las columnas nuevamente: "
   ]
  },
  {
   "cell_type": "code",
   "execution_count": 28,
   "metadata": {},
   "outputs": [
    {
     "data": {
      "text/plain": [
       "(403760, 10)"
      ]
     },
     "execution_count": 28,
     "metadata": {},
     "output_type": "execute_result"
    }
   ],
   "source": [
    "df_activity_sin_duplicados.shape"
   ]
  },
  {
   "cell_type": "code",
   "execution_count": 29,
   "metadata": {},
   "outputs": [
    {
     "data": {
      "text/plain": [
       "Index(['Loyalty Number', 'Year', 'Month', 'Flights Booked',\n",
       "       'Flights with Companions', 'Total Flights', 'Distance',\n",
       "       'Points Accumulated', 'Points Redeemed', 'Dollar Cost Points Redeemed'],\n",
       "      dtype='object')"
      ]
     },
     "execution_count": 29,
     "metadata": {},
     "output_type": "execute_result"
    }
   ],
   "source": [
    "df_activity_sin_duplicados.columns"
   ]
  },
  {
   "cell_type": "code",
   "execution_count": 30,
   "metadata": {},
   "outputs": [
    {
     "data": {
      "text/plain": [
       "(16737, 16)"
      ]
     },
     "execution_count": 30,
     "metadata": {},
     "output_type": "execute_result"
    }
   ],
   "source": [
    "df_loyalty.shape"
   ]
  },
  {
   "cell_type": "code",
   "execution_count": 31,
   "metadata": {},
   "outputs": [
    {
     "data": {
      "text/plain": [
       "Index(['Loyalty Number', 'Country', 'Province', 'City', 'Postal Code',\n",
       "       'Gender', 'Education', 'Salary', 'Marital Status', 'Loyalty Card',\n",
       "       'CLV', 'Enrollment Type', 'Enrollment Year', 'Enrollment Month',\n",
       "       'Cancellation Year', 'Cancellation Month'],\n",
       "      dtype='object')"
      ]
     },
     "execution_count": 31,
     "metadata": {},
     "output_type": "execute_result"
    }
   ],
   "source": [
    "df_loyalty.columns"
   ]
  },
  {
   "cell_type": "code",
   "execution_count": 32,
   "metadata": {},
   "outputs": [
    {
     "data": {
      "text/plain": [
       "(403760, 25)"
      ]
     },
     "execution_count": 32,
     "metadata": {},
     "output_type": "execute_result"
    }
   ],
   "source": [
    "## Utilizamos un merge ya que ambos DF tienen la columna 'Loyalty Number': \n",
    "## Seleccionamos el tipo inner para que devuelva solo las filas que tienen coincidencias en ambos DF en la columna 'Loyalty Number' (para evitar tener nulos o data incompleta) -- igualmente el outer merge daba el mismo shape. \n",
    "df_merged = df_activity_sin_duplicados.merge(df_loyalty, how='inner', on='Loyalty Number')\n",
    "df_merged.shape"
   ]
  },
  {
   "cell_type": "code",
   "execution_count": 33,
   "metadata": {},
   "outputs": [],
   "source": [
    "## Comprobación forma outer merge: \n",
    "## df_merged_outer = df_activity_sin_duplicados.merge(df_loyalty, how='outer', on='Loyalty Number')\n",
    "## df_merged_outer.shape\n"
   ]
  },
  {
   "cell_type": "code",
   "execution_count": 34,
   "metadata": {},
   "outputs": [
    {
     "data": {
      "text/html": [
       "<div>\n",
       "<style scoped>\n",
       "    .dataframe tbody tr th:only-of-type {\n",
       "        vertical-align: middle;\n",
       "    }\n",
       "\n",
       "    .dataframe tbody tr th {\n",
       "        vertical-align: top;\n",
       "    }\n",
       "\n",
       "    .dataframe thead th {\n",
       "        text-align: right;\n",
       "    }\n",
       "</style>\n",
       "<table border=\"1\" class=\"dataframe\">\n",
       "  <thead>\n",
       "    <tr style=\"text-align: right;\">\n",
       "      <th></th>\n",
       "      <th>Loyalty Number</th>\n",
       "      <th>Year</th>\n",
       "      <th>Month</th>\n",
       "      <th>Flights Booked</th>\n",
       "      <th>Flights with Companions</th>\n",
       "      <th>Total Flights</th>\n",
       "      <th>Distance</th>\n",
       "      <th>Points Accumulated</th>\n",
       "      <th>Points Redeemed</th>\n",
       "      <th>Dollar Cost Points Redeemed</th>\n",
       "      <th>Country</th>\n",
       "      <th>Province</th>\n",
       "      <th>City</th>\n",
       "      <th>Postal Code</th>\n",
       "      <th>Gender</th>\n",
       "      <th>Education</th>\n",
       "      <th>Salary</th>\n",
       "      <th>Marital Status</th>\n",
       "      <th>Loyalty Card</th>\n",
       "      <th>CLV</th>\n",
       "      <th>Enrollment Type</th>\n",
       "      <th>Enrollment Year</th>\n",
       "      <th>Enrollment Month</th>\n",
       "      <th>Cancellation Year</th>\n",
       "      <th>Cancellation Month</th>\n",
       "    </tr>\n",
       "  </thead>\n",
       "  <tbody>\n",
       "    <tr>\n",
       "      <th>0</th>\n",
       "      <td>100018</td>\n",
       "      <td>2017</td>\n",
       "      <td>1</td>\n",
       "      <td>3</td>\n",
       "      <td>0</td>\n",
       "      <td>3</td>\n",
       "      <td>1521</td>\n",
       "      <td>152.0</td>\n",
       "      <td>0</td>\n",
       "      <td>0</td>\n",
       "      <td>Canada</td>\n",
       "      <td>Alberta</td>\n",
       "      <td>Edmonton</td>\n",
       "      <td>T9G 1W3</td>\n",
       "      <td>Female</td>\n",
       "      <td>Bachelor</td>\n",
       "      <td>92552.0</td>\n",
       "      <td>Married</td>\n",
       "      <td>Aurora</td>\n",
       "      <td>7919.20</td>\n",
       "      <td>Standard</td>\n",
       "      <td>2016</td>\n",
       "      <td>8</td>\n",
       "      <td>NaN</td>\n",
       "      <td>NaN</td>\n",
       "    </tr>\n",
       "    <tr>\n",
       "      <th>1</th>\n",
       "      <td>100102</td>\n",
       "      <td>2017</td>\n",
       "      <td>1</td>\n",
       "      <td>10</td>\n",
       "      <td>4</td>\n",
       "      <td>14</td>\n",
       "      <td>2030</td>\n",
       "      <td>203.0</td>\n",
       "      <td>0</td>\n",
       "      <td>0</td>\n",
       "      <td>Canada</td>\n",
       "      <td>Ontario</td>\n",
       "      <td>Toronto</td>\n",
       "      <td>M1R 4K3</td>\n",
       "      <td>Male</td>\n",
       "      <td>College</td>\n",
       "      <td>NaN</td>\n",
       "      <td>Single</td>\n",
       "      <td>Nova</td>\n",
       "      <td>2887.74</td>\n",
       "      <td>Standard</td>\n",
       "      <td>2013</td>\n",
       "      <td>3</td>\n",
       "      <td>NaN</td>\n",
       "      <td>NaN</td>\n",
       "    </tr>\n",
       "    <tr>\n",
       "      <th>2</th>\n",
       "      <td>100140</td>\n",
       "      <td>2017</td>\n",
       "      <td>1</td>\n",
       "      <td>6</td>\n",
       "      <td>0</td>\n",
       "      <td>6</td>\n",
       "      <td>1200</td>\n",
       "      <td>120.0</td>\n",
       "      <td>0</td>\n",
       "      <td>0</td>\n",
       "      <td>Canada</td>\n",
       "      <td>British Columbia</td>\n",
       "      <td>Dawson Creek</td>\n",
       "      <td>U5I 4F1</td>\n",
       "      <td>Female</td>\n",
       "      <td>College</td>\n",
       "      <td>NaN</td>\n",
       "      <td>Divorced</td>\n",
       "      <td>Nova</td>\n",
       "      <td>2838.07</td>\n",
       "      <td>Standard</td>\n",
       "      <td>2016</td>\n",
       "      <td>7</td>\n",
       "      <td>NaN</td>\n",
       "      <td>NaN</td>\n",
       "    </tr>\n",
       "    <tr>\n",
       "      <th>3</th>\n",
       "      <td>100214</td>\n",
       "      <td>2017</td>\n",
       "      <td>1</td>\n",
       "      <td>0</td>\n",
       "      <td>0</td>\n",
       "      <td>0</td>\n",
       "      <td>0</td>\n",
       "      <td>0.0</td>\n",
       "      <td>0</td>\n",
       "      <td>0</td>\n",
       "      <td>Canada</td>\n",
       "      <td>British Columbia</td>\n",
       "      <td>Vancouver</td>\n",
       "      <td>V5R 1W3</td>\n",
       "      <td>Male</td>\n",
       "      <td>Bachelor</td>\n",
       "      <td>63253.0</td>\n",
       "      <td>Married</td>\n",
       "      <td>Star</td>\n",
       "      <td>4170.57</td>\n",
       "      <td>Standard</td>\n",
       "      <td>2015</td>\n",
       "      <td>8</td>\n",
       "      <td>NaN</td>\n",
       "      <td>NaN</td>\n",
       "    </tr>\n",
       "    <tr>\n",
       "      <th>4</th>\n",
       "      <td>100272</td>\n",
       "      <td>2017</td>\n",
       "      <td>1</td>\n",
       "      <td>0</td>\n",
       "      <td>0</td>\n",
       "      <td>0</td>\n",
       "      <td>0</td>\n",
       "      <td>0.0</td>\n",
       "      <td>0</td>\n",
       "      <td>0</td>\n",
       "      <td>Canada</td>\n",
       "      <td>Ontario</td>\n",
       "      <td>Toronto</td>\n",
       "      <td>P1L 8X8</td>\n",
       "      <td>Female</td>\n",
       "      <td>Bachelor</td>\n",
       "      <td>91163.0</td>\n",
       "      <td>Divorced</td>\n",
       "      <td>Star</td>\n",
       "      <td>6622.05</td>\n",
       "      <td>Standard</td>\n",
       "      <td>2014</td>\n",
       "      <td>1</td>\n",
       "      <td>NaN</td>\n",
       "      <td>NaN</td>\n",
       "    </tr>\n",
       "    <tr>\n",
       "      <th>5</th>\n",
       "      <td>100301</td>\n",
       "      <td>2017</td>\n",
       "      <td>1</td>\n",
       "      <td>0</td>\n",
       "      <td>0</td>\n",
       "      <td>0</td>\n",
       "      <td>0</td>\n",
       "      <td>0.0</td>\n",
       "      <td>0</td>\n",
       "      <td>0</td>\n",
       "      <td>Canada</td>\n",
       "      <td>Ontario</td>\n",
       "      <td>Toronto</td>\n",
       "      <td>P1J 8T7</td>\n",
       "      <td>Male</td>\n",
       "      <td>Bachelor</td>\n",
       "      <td>70323.0</td>\n",
       "      <td>Divorced</td>\n",
       "      <td>Nova</td>\n",
       "      <td>48356.96</td>\n",
       "      <td>Standard</td>\n",
       "      <td>2013</td>\n",
       "      <td>9</td>\n",
       "      <td>NaN</td>\n",
       "      <td>NaN</td>\n",
       "    </tr>\n",
       "    <tr>\n",
       "      <th>6</th>\n",
       "      <td>100364</td>\n",
       "      <td>2017</td>\n",
       "      <td>1</td>\n",
       "      <td>0</td>\n",
       "      <td>0</td>\n",
       "      <td>0</td>\n",
       "      <td>0</td>\n",
       "      <td>0.0</td>\n",
       "      <td>0</td>\n",
       "      <td>0</td>\n",
       "      <td>Canada</td>\n",
       "      <td>Saskatchewan</td>\n",
       "      <td>Regina</td>\n",
       "      <td>S6J 3G0</td>\n",
       "      <td>Male</td>\n",
       "      <td>Bachelor</td>\n",
       "      <td>76849.0</td>\n",
       "      <td>Married</td>\n",
       "      <td>Nova</td>\n",
       "      <td>5143.88</td>\n",
       "      <td>Standard</td>\n",
       "      <td>2015</td>\n",
       "      <td>5</td>\n",
       "      <td>NaN</td>\n",
       "      <td>NaN</td>\n",
       "    </tr>\n",
       "    <tr>\n",
       "      <th>7</th>\n",
       "      <td>100380</td>\n",
       "      <td>2017</td>\n",
       "      <td>1</td>\n",
       "      <td>0</td>\n",
       "      <td>0</td>\n",
       "      <td>0</td>\n",
       "      <td>0</td>\n",
       "      <td>0.0</td>\n",
       "      <td>0</td>\n",
       "      <td>0</td>\n",
       "      <td>Canada</td>\n",
       "      <td>Quebec</td>\n",
       "      <td>Montreal</td>\n",
       "      <td>H2T 9K8</td>\n",
       "      <td>Female</td>\n",
       "      <td>Bachelor</td>\n",
       "      <td>69695.0</td>\n",
       "      <td>Single</td>\n",
       "      <td>Star</td>\n",
       "      <td>2465.62</td>\n",
       "      <td>Standard</td>\n",
       "      <td>2012</td>\n",
       "      <td>10</td>\n",
       "      <td>NaN</td>\n",
       "      <td>NaN</td>\n",
       "    </tr>\n",
       "    <tr>\n",
       "      <th>8</th>\n",
       "      <td>100428</td>\n",
       "      <td>2017</td>\n",
       "      <td>1</td>\n",
       "      <td>6</td>\n",
       "      <td>0</td>\n",
       "      <td>6</td>\n",
       "      <td>606</td>\n",
       "      <td>60.0</td>\n",
       "      <td>0</td>\n",
       "      <td>0</td>\n",
       "      <td>Canada</td>\n",
       "      <td>British Columbia</td>\n",
       "      <td>Vancouver</td>\n",
       "      <td>V6E 3D9</td>\n",
       "      <td>Male</td>\n",
       "      <td>Bachelor</td>\n",
       "      <td>63478.0</td>\n",
       "      <td>Married</td>\n",
       "      <td>Aurora</td>\n",
       "      <td>5845.43</td>\n",
       "      <td>Standard</td>\n",
       "      <td>2012</td>\n",
       "      <td>8</td>\n",
       "      <td>NaN</td>\n",
       "      <td>NaN</td>\n",
       "    </tr>\n",
       "    <tr>\n",
       "      <th>9</th>\n",
       "      <td>100504</td>\n",
       "      <td>2017</td>\n",
       "      <td>1</td>\n",
       "      <td>0</td>\n",
       "      <td>0</td>\n",
       "      <td>0</td>\n",
       "      <td>0</td>\n",
       "      <td>0.0</td>\n",
       "      <td>0</td>\n",
       "      <td>0</td>\n",
       "      <td>Canada</td>\n",
       "      <td>Ontario</td>\n",
       "      <td>Sudbury</td>\n",
       "      <td>M5V 1G5</td>\n",
       "      <td>Female</td>\n",
       "      <td>Bachelor</td>\n",
       "      <td>75638.0</td>\n",
       "      <td>Divorced</td>\n",
       "      <td>Nova</td>\n",
       "      <td>8807.61</td>\n",
       "      <td>Standard</td>\n",
       "      <td>2017</td>\n",
       "      <td>7</td>\n",
       "      <td>2018.0</td>\n",
       "      <td>3.0</td>\n",
       "    </tr>\n",
       "  </tbody>\n",
       "</table>\n",
       "</div>"
      ],
      "text/plain": [
       "   Loyalty Number  Year  Month  Flights Booked  Flights with Companions  \\\n",
       "0          100018  2017      1               3                        0   \n",
       "1          100102  2017      1              10                        4   \n",
       "2          100140  2017      1               6                        0   \n",
       "3          100214  2017      1               0                        0   \n",
       "4          100272  2017      1               0                        0   \n",
       "5          100301  2017      1               0                        0   \n",
       "6          100364  2017      1               0                        0   \n",
       "7          100380  2017      1               0                        0   \n",
       "8          100428  2017      1               6                        0   \n",
       "9          100504  2017      1               0                        0   \n",
       "\n",
       "   Total Flights  Distance  Points Accumulated  Points Redeemed  \\\n",
       "0              3      1521               152.0                0   \n",
       "1             14      2030               203.0                0   \n",
       "2              6      1200               120.0                0   \n",
       "3              0         0                 0.0                0   \n",
       "4              0         0                 0.0                0   \n",
       "5              0         0                 0.0                0   \n",
       "6              0         0                 0.0                0   \n",
       "7              0         0                 0.0                0   \n",
       "8              6       606                60.0                0   \n",
       "9              0         0                 0.0                0   \n",
       "\n",
       "   Dollar Cost Points Redeemed Country          Province          City  \\\n",
       "0                            0  Canada           Alberta      Edmonton   \n",
       "1                            0  Canada           Ontario       Toronto   \n",
       "2                            0  Canada  British Columbia  Dawson Creek   \n",
       "3                            0  Canada  British Columbia     Vancouver   \n",
       "4                            0  Canada           Ontario       Toronto   \n",
       "5                            0  Canada           Ontario       Toronto   \n",
       "6                            0  Canada      Saskatchewan        Regina   \n",
       "7                            0  Canada            Quebec      Montreal   \n",
       "8                            0  Canada  British Columbia     Vancouver   \n",
       "9                            0  Canada           Ontario       Sudbury   \n",
       "\n",
       "  Postal Code  Gender Education   Salary Marital Status Loyalty Card  \\\n",
       "0     T9G 1W3  Female  Bachelor  92552.0        Married       Aurora   \n",
       "1     M1R 4K3    Male   College      NaN         Single         Nova   \n",
       "2     U5I 4F1  Female   College      NaN       Divorced         Nova   \n",
       "3     V5R 1W3    Male  Bachelor  63253.0        Married         Star   \n",
       "4     P1L 8X8  Female  Bachelor  91163.0       Divorced         Star   \n",
       "5     P1J 8T7    Male  Bachelor  70323.0       Divorced         Nova   \n",
       "6     S6J 3G0    Male  Bachelor  76849.0        Married         Nova   \n",
       "7     H2T 9K8  Female  Bachelor  69695.0         Single         Star   \n",
       "8     V6E 3D9    Male  Bachelor  63478.0        Married       Aurora   \n",
       "9     M5V 1G5  Female  Bachelor  75638.0       Divorced         Nova   \n",
       "\n",
       "        CLV Enrollment Type  Enrollment Year  Enrollment Month  \\\n",
       "0   7919.20        Standard             2016                 8   \n",
       "1   2887.74        Standard             2013                 3   \n",
       "2   2838.07        Standard             2016                 7   \n",
       "3   4170.57        Standard             2015                 8   \n",
       "4   6622.05        Standard             2014                 1   \n",
       "5  48356.96        Standard             2013                 9   \n",
       "6   5143.88        Standard             2015                 5   \n",
       "7   2465.62        Standard             2012                10   \n",
       "8   5845.43        Standard             2012                 8   \n",
       "9   8807.61        Standard             2017                 7   \n",
       "\n",
       "   Cancellation Year  Cancellation Month  \n",
       "0                NaN                 NaN  \n",
       "1                NaN                 NaN  \n",
       "2                NaN                 NaN  \n",
       "3                NaN                 NaN  \n",
       "4                NaN                 NaN  \n",
       "5                NaN                 NaN  \n",
       "6                NaN                 NaN  \n",
       "7                NaN                 NaN  \n",
       "8                NaN                 NaN  \n",
       "9             2018.0                 3.0  "
      ]
     },
     "execution_count": 34,
     "metadata": {},
     "output_type": "execute_result"
    }
   ],
   "source": [
    "df_merged.head(10)"
   ]
  },
  {
   "cell_type": "markdown",
   "metadata": {},
   "source": [
    "## Limpieza de Datos:"
   ]
  },
  {
   "cell_type": "code",
   "execution_count": 35,
   "metadata": {},
   "outputs": [],
   "source": [
    "# Imputación de nulos usando métodos avanzados estadísticos\n",
    "# -----------------------------------------------------------------------\n",
    "from sklearn.impute import SimpleImputer\n",
    "from sklearn.experimental import enable_iterative_imputer\n",
    "from sklearn.impute import IterativeImputer\n",
    "from sklearn.impute import KNNImputer\n",
    "\n",
    "# Librerías de visualización\n",
    "# -----------------------------------------------------------------------\n",
    "import seaborn as sns\n",
    "import matplotlib.pyplot as plt\n"
   ]
  },
  {
   "cell_type": "markdown",
   "metadata": {},
   "source": [
    "#### Gestion de nulos: "
   ]
  },
  {
   "cell_type": "code",
   "execution_count": 36,
   "metadata": {},
   "outputs": [
    {
     "data": {
      "text/plain": [
       "Loyalty Number                  0.000000\n",
       "Year                            0.000000\n",
       "Month                           0.000000\n",
       "Flights Booked                  0.000000\n",
       "Flights with Companions         0.000000\n",
       "Total Flights                   0.000000\n",
       "Distance                        0.000000\n",
       "Points Accumulated              0.000000\n",
       "Points Redeemed                 0.000000\n",
       "Dollar Cost Points Redeemed     0.000000\n",
       "Country                         0.000000\n",
       "Province                        0.000000\n",
       "City                            0.000000\n",
       "Postal Code                     0.000000\n",
       "Gender                          0.000000\n",
       "Education                       0.000000\n",
       "Salary                         25.326927\n",
       "Marital Status                  0.000000\n",
       "Loyalty Card                    0.000000\n",
       "CLV                             0.000000\n",
       "Enrollment Type                 0.000000\n",
       "Enrollment Year                 0.000000\n",
       "Enrollment Month                0.000000\n",
       "Cancellation Year              87.703091\n",
       "Cancellation Month             87.703091\n",
       "dtype: float64"
      ]
     },
     "execution_count": 36,
     "metadata": {},
     "output_type": "execute_result"
    }
   ],
   "source": [
    "# Ver porcentaje de nulos por columna: \n",
    "\n",
    "porc_nulos = (df_merged.isnull().sum() / df_merged.shape[0]) * 100\n",
    "porc_nulos"
   ]
  },
  {
   "cell_type": "code",
   "execution_count": 37,
   "metadata": {},
   "outputs": [
    {
     "name": "stdout",
     "output_type": "stream",
     "text": [
      "Las columnas numéricas que tienen nulos son : \n",
      " \n",
      "Index(['Salary', 'Cancellation Year', 'Cancellation Month'], dtype='object')\n"
     ]
    }
   ],
   "source": [
    "# la lista de columnas numericas que tienen nulos: \n",
    "nulos_esta_num = df_merged[df_merged.columns[df_merged.isnull().any()]].select_dtypes(include = np.number).columns\n",
    "print(\"Las columnas numéricas que tienen nulos son : \\n \")\n",
    "print(nulos_esta_num)"
   ]
  },
  {
   "cell_type": "code",
   "execution_count": 38,
   "metadata": {},
   "outputs": [
    {
     "data": {
      "text/plain": [
       "Salary                0.253269\n",
       "Cancellation Year     0.877031\n",
       "Cancellation Month    0.877031\n",
       "dtype: float64"
      ]
     },
     "execution_count": 38,
     "metadata": {},
     "output_type": "execute_result"
    }
   ],
   "source": [
    "## Ver el número de nulos que tenemos en cada una de las columnas numericas\n",
    "df_merged[nulos_esta_num].isnull().sum() / df_merged.shape[0] "
   ]
  },
  {
   "cell_type": "code",
   "execution_count": 73,
   "metadata": {},
   "outputs": [],
   "source": [
    "## 1) Cancellation Year: \"Año en que el cliente canceló su membresía en el programa de lealtad, si aplica\" --> \n",
    "# Estimamos que al estar nulo el cliente aun no ha cancelado, por lo que dejamos el valor nulo por si en algún momento (cuando el cliente cancele) es necesario rellenarlo\n",
    "## 2)Cancellation Month: \"Mes en que el cliente canceló su membresía en el programa de lealtad, si aplica\" --> \n",
    "# Estimamos que al estar nulo el cliente aun no ha cancelado, por lo que dejamos el valor nulo por si en algún momento (cuando el cliente cancele) es necesario rellenarlo"
   ]
  },
  {
   "cell_type": "code",
   "execution_count": null,
   "metadata": {},
   "outputs": [],
   "source": [
    "## 3) Salary: Ingreso anual estimado del cliente"
   ]
  },
  {
   "cell_type": "code",
   "execution_count": 40,
   "metadata": {},
   "outputs": [
    {
     "data": {
      "text/plain": [
       "185893   -58486.0\n",
       "219532   -58486.0\n",
       "956      -58486.0\n",
       "320510   -58486.0\n",
       "101795   -58486.0\n",
       "           ...   \n",
       "403747        NaN\n",
       "403749        NaN\n",
       "403752        NaN\n",
       "403755        NaN\n",
       "403758        NaN\n",
       "Name: Salary, Length: 403760, dtype: float64"
      ]
     },
     "execution_count": 40,
     "metadata": {},
     "output_type": "execute_result"
    }
   ],
   "source": [
    "## Verificar valores por orden en la columna salario: \n",
    "df_merged['Salary'].sort_values()"
   ]
  },
  {
   "cell_type": "markdown",
   "metadata": {},
   "source": [
    "Antes de continuar con la gestión de nulos de la columna Salary, resolvemos valores negativos: "
   ]
  },
  {
   "cell_type": "code",
   "execution_count": 41,
   "metadata": {},
   "outputs": [],
   "source": [
    "## Verificamos cuáles son los valores negativos: \n",
    "df_negativos = df_merged[df_merged['Salary'] < 0]"
   ]
  },
  {
   "cell_type": "code",
   "execution_count": 42,
   "metadata": {},
   "outputs": [
    {
     "data": {
      "text/plain": [
       "Salary\n",
       "-10605.0    24\n",
       "-49001.0    24\n",
       "-46683.0    24\n",
       "-47310.0    24\n",
       "-39503.0    24\n",
       "-9081.0     24\n",
       "-17534.0    24\n",
       "-43234.0    24\n",
       "-45962.0    24\n",
       "-49830.0    24\n",
       "-19325.0    24\n",
       "-19332.0    24\n",
       "-46303.0    24\n",
       "-34079.0    24\n",
       "-57297.0    24\n",
       "-12497.0    24\n",
       "-26322.0    24\n",
       "-58486.0    24\n",
       "-31911.0    24\n",
       "-46470.0    24\n",
       "Name: count, dtype: int64"
      ]
     },
     "execution_count": 42,
     "metadata": {},
     "output_type": "execute_result"
    }
   ],
   "source": [
    "df_negativos['Salary'].value_counts().sort_values(ascending=True)"
   ]
  },
  {
   "cell_type": "code",
   "execution_count": 43,
   "metadata": {},
   "outputs": [
    {
     "name": "stdout",
     "output_type": "stream",
     "text": [
      "El DataFrame tiene 480 filas y 25 columnas.\n",
      "Tiene 0 datos duplicados, lo que supone un porcentaje de 0.0% de los datos. \n",
      "\n",
      "Hay 2 columnas con datos nulos, y son: \n",
      "['Cancellation Year', 'Cancellation Month']\n",
      "\n",
      "y sin nulos hay 23 columnas y son: \n",
      "['Loyalty Number', 'Year', 'Month', 'Flights Booked', 'Flights with Companions', 'Total Flights', 'Distance', 'Points Accumulated', 'Points Redeemed', 'Dollar Cost Points Redeemed', 'Country', 'Province', 'City', 'Postal Code', 'Gender', 'Education', 'Salary', 'Marital Status', 'Loyalty Card', 'CLV', 'Enrollment Type', 'Enrollment Year', 'Enrollment Month']\n",
      "\n",
      "\n",
      "A continuación tienes un detalle sobre los datos nulos y los tipos y número de datos:\n"
     ]
    },
    {
     "data": {
      "text/html": [
       "<div>\n",
       "<style scoped>\n",
       "    .dataframe tbody tr th:only-of-type {\n",
       "        vertical-align: middle;\n",
       "    }\n",
       "\n",
       "    .dataframe tbody tr th {\n",
       "        vertical-align: top;\n",
       "    }\n",
       "\n",
       "    .dataframe thead th {\n",
       "        text-align: right;\n",
       "    }\n",
       "</style>\n",
       "<table border=\"1\" class=\"dataframe\">\n",
       "  <thead>\n",
       "    <tr style=\"text-align: right;\">\n",
       "      <th></th>\n",
       "      <th>% nulos</th>\n",
       "      <th>% no_nulos</th>\n",
       "      <th>tipo_dato</th>\n",
       "      <th>num_valores_unicos</th>\n",
       "    </tr>\n",
       "  </thead>\n",
       "  <tbody>\n",
       "    <tr>\n",
       "      <th>Loyalty Number</th>\n",
       "      <td>0.0%</td>\n",
       "      <td>100.0%</td>\n",
       "      <td>int64</td>\n",
       "      <td>20</td>\n",
       "    </tr>\n",
       "    <tr>\n",
       "      <th>Year</th>\n",
       "      <td>0.0%</td>\n",
       "      <td>100.0%</td>\n",
       "      <td>int64</td>\n",
       "      <td>2</td>\n",
       "    </tr>\n",
       "    <tr>\n",
       "      <th>Month</th>\n",
       "      <td>0.0%</td>\n",
       "      <td>100.0%</td>\n",
       "      <td>int64</td>\n",
       "      <td>12</td>\n",
       "    </tr>\n",
       "    <tr>\n",
       "      <th>Flights Booked</th>\n",
       "      <td>0.0%</td>\n",
       "      <td>100.0%</td>\n",
       "      <td>int64</td>\n",
       "      <td>22</td>\n",
       "    </tr>\n",
       "    <tr>\n",
       "      <th>Flights with Companions</th>\n",
       "      <td>0.0%</td>\n",
       "      <td>100.0%</td>\n",
       "      <td>int64</td>\n",
       "      <td>12</td>\n",
       "    </tr>\n",
       "  </tbody>\n",
       "</table>\n",
       "</div>"
      ],
      "text/plain": [
       "                        % nulos % no_nulos tipo_dato  num_valores_unicos\n",
       "Loyalty Number             0.0%     100.0%     int64                  20\n",
       "Year                       0.0%     100.0%     int64                   2\n",
       "Month                      0.0%     100.0%     int64                  12\n",
       "Flights Booked             0.0%     100.0%     int64                  22\n",
       "Flights with Companions    0.0%     100.0%     int64                  12"
      ]
     },
     "metadata": {},
     "output_type": "display_data"
    },
    {
     "name": "stdout",
     "output_type": "stream",
     "text": [
      "Principales estadísticos de las columnas categóricas:\n"
     ]
    },
    {
     "data": {
      "text/html": [
       "<div>\n",
       "<style scoped>\n",
       "    .dataframe tbody tr th:only-of-type {\n",
       "        vertical-align: middle;\n",
       "    }\n",
       "\n",
       "    .dataframe tbody tr th {\n",
       "        vertical-align: top;\n",
       "    }\n",
       "\n",
       "    .dataframe thead th {\n",
       "        text-align: right;\n",
       "    }\n",
       "</style>\n",
       "<table border=\"1\" class=\"dataframe\">\n",
       "  <thead>\n",
       "    <tr style=\"text-align: right;\">\n",
       "      <th></th>\n",
       "      <th>count</th>\n",
       "      <th>unique</th>\n",
       "      <th>top</th>\n",
       "      <th>freq</th>\n",
       "    </tr>\n",
       "  </thead>\n",
       "  <tbody>\n",
       "    <tr>\n",
       "      <th>Country</th>\n",
       "      <td>480</td>\n",
       "      <td>1</td>\n",
       "      <td>Canada</td>\n",
       "      <td>480</td>\n",
       "    </tr>\n",
       "    <tr>\n",
       "      <th>Province</th>\n",
       "      <td>480</td>\n",
       "      <td>6</td>\n",
       "      <td>Quebec</td>\n",
       "      <td>144</td>\n",
       "    </tr>\n",
       "    <tr>\n",
       "      <th>City</th>\n",
       "      <td>480</td>\n",
       "      <td>14</td>\n",
       "      <td>Toronto</td>\n",
       "      <td>72</td>\n",
       "    </tr>\n",
       "    <tr>\n",
       "      <th>Postal Code</th>\n",
       "      <td>480</td>\n",
       "      <td>18</td>\n",
       "      <td>A1C 6H9</td>\n",
       "      <td>48</td>\n",
       "    </tr>\n",
       "    <tr>\n",
       "      <th>Gender</th>\n",
       "      <td>480</td>\n",
       "      <td>2</td>\n",
       "      <td>Male</td>\n",
       "      <td>240</td>\n",
       "    </tr>\n",
       "    <tr>\n",
       "      <th>Education</th>\n",
       "      <td>480</td>\n",
       "      <td>2</td>\n",
       "      <td>Bachelor</td>\n",
       "      <td>456</td>\n",
       "    </tr>\n",
       "    <tr>\n",
       "      <th>Marital Status</th>\n",
       "      <td>480</td>\n",
       "      <td>3</td>\n",
       "      <td>Married</td>\n",
       "      <td>360</td>\n",
       "    </tr>\n",
       "    <tr>\n",
       "      <th>Loyalty Card</th>\n",
       "      <td>480</td>\n",
       "      <td>3</td>\n",
       "      <td>Nova</td>\n",
       "      <td>216</td>\n",
       "    </tr>\n",
       "    <tr>\n",
       "      <th>Enrollment Type</th>\n",
       "      <td>480</td>\n",
       "      <td>1</td>\n",
       "      <td>2018 Promotion</td>\n",
       "      <td>480</td>\n",
       "    </tr>\n",
       "  </tbody>\n",
       "</table>\n",
       "</div>"
      ],
      "text/plain": [
       "                count unique             top freq\n",
       "Country           480      1          Canada  480\n",
       "Province          480      6          Quebec  144\n",
       "City              480     14         Toronto   72\n",
       "Postal Code       480     18         A1C 6H9   48\n",
       "Gender            480      2            Male  240\n",
       "Education         480      2        Bachelor  456\n",
       "Marital Status    480      3         Married  360\n",
       "Loyalty Card      480      3            Nova  216\n",
       "Enrollment Type   480      1  2018 Promotion  480"
      ]
     },
     "metadata": {},
     "output_type": "display_data"
    },
    {
     "name": "stdout",
     "output_type": "stream",
     "text": [
      "Principales estadísticos de las columnas numéricas:\n"
     ]
    },
    {
     "data": {
      "text/html": [
       "<div>\n",
       "<style scoped>\n",
       "    .dataframe tbody tr th:only-of-type {\n",
       "        vertical-align: middle;\n",
       "    }\n",
       "\n",
       "    .dataframe tbody tr th {\n",
       "        vertical-align: top;\n",
       "    }\n",
       "\n",
       "    .dataframe thead th {\n",
       "        text-align: right;\n",
       "    }\n",
       "</style>\n",
       "<table border=\"1\" class=\"dataframe\">\n",
       "  <thead>\n",
       "    <tr style=\"text-align: right;\">\n",
       "      <th></th>\n",
       "      <th>count</th>\n",
       "      <th>mean</th>\n",
       "      <th>std</th>\n",
       "      <th>min</th>\n",
       "      <th>25%</th>\n",
       "      <th>50%</th>\n",
       "      <th>75%</th>\n",
       "      <th>max</th>\n",
       "    </tr>\n",
       "  </thead>\n",
       "  <tbody>\n",
       "    <tr>\n",
       "      <th>Loyalty Number</th>\n",
       "      <td>480.0</td>\n",
       "      <td>468736.900000</td>\n",
       "      <td>246776.560781</td>\n",
       "      <td>115505.00</td>\n",
       "      <td>238155.00</td>\n",
       "      <td>433242.50</td>\n",
       "      <td>634692.7500</td>\n",
       "      <td>959977.0</td>\n",
       "    </tr>\n",
       "    <tr>\n",
       "      <th>Year</th>\n",
       "      <td>480.0</td>\n",
       "      <td>2017.500000</td>\n",
       "      <td>0.500522</td>\n",
       "      <td>2017.00</td>\n",
       "      <td>2017.00</td>\n",
       "      <td>2017.50</td>\n",
       "      <td>2018.0000</td>\n",
       "      <td>2018.0</td>\n",
       "    </tr>\n",
       "    <tr>\n",
       "      <th>Month</th>\n",
       "      <td>480.0</td>\n",
       "      <td>6.500000</td>\n",
       "      <td>3.455654</td>\n",
       "      <td>1.00</td>\n",
       "      <td>3.75</td>\n",
       "      <td>6.50</td>\n",
       "      <td>9.2500</td>\n",
       "      <td>12.0</td>\n",
       "    </tr>\n",
       "    <tr>\n",
       "      <th>Flights Booked</th>\n",
       "      <td>480.0</td>\n",
       "      <td>3.691667</td>\n",
       "      <td>5.403619</td>\n",
       "      <td>0.00</td>\n",
       "      <td>0.00</td>\n",
       "      <td>0.00</td>\n",
       "      <td>7.0000</td>\n",
       "      <td>21.0</td>\n",
       "    </tr>\n",
       "    <tr>\n",
       "      <th>Flights with Companions</th>\n",
       "      <td>480.0</td>\n",
       "      <td>0.802083</td>\n",
       "      <td>1.971720</td>\n",
       "      <td>0.00</td>\n",
       "      <td>0.00</td>\n",
       "      <td>0.00</td>\n",
       "      <td>0.0000</td>\n",
       "      <td>11.0</td>\n",
       "    </tr>\n",
       "    <tr>\n",
       "      <th>Total Flights</th>\n",
       "      <td>480.0</td>\n",
       "      <td>4.493750</td>\n",
       "      <td>6.609916</td>\n",
       "      <td>0.00</td>\n",
       "      <td>0.00</td>\n",
       "      <td>0.00</td>\n",
       "      <td>9.0000</td>\n",
       "      <td>32.0</td>\n",
       "    </tr>\n",
       "    <tr>\n",
       "      <th>Distance</th>\n",
       "      <td>480.0</td>\n",
       "      <td>1030.712500</td>\n",
       "      <td>1444.024243</td>\n",
       "      <td>0.00</td>\n",
       "      <td>0.00</td>\n",
       "      <td>0.00</td>\n",
       "      <td>2033.0000</td>\n",
       "      <td>5746.0</td>\n",
       "    </tr>\n",
       "    <tr>\n",
       "      <th>Points Accumulated</th>\n",
       "      <td>480.0</td>\n",
       "      <td>105.434750</td>\n",
       "      <td>147.335863</td>\n",
       "      <td>0.00</td>\n",
       "      <td>0.00</td>\n",
       "      <td>0.00</td>\n",
       "      <td>208.0625</td>\n",
       "      <td>574.0</td>\n",
       "    </tr>\n",
       "    <tr>\n",
       "      <th>Points Redeemed</th>\n",
       "      <td>480.0</td>\n",
       "      <td>19.800000</td>\n",
       "      <td>106.973401</td>\n",
       "      <td>0.00</td>\n",
       "      <td>0.00</td>\n",
       "      <td>0.00</td>\n",
       "      <td>0.0000</td>\n",
       "      <td>814.0</td>\n",
       "    </tr>\n",
       "    <tr>\n",
       "      <th>Dollar Cost Points Redeemed</th>\n",
       "      <td>480.0</td>\n",
       "      <td>1.600000</td>\n",
       "      <td>8.637830</td>\n",
       "      <td>0.00</td>\n",
       "      <td>0.00</td>\n",
       "      <td>0.00</td>\n",
       "      <td>0.0000</td>\n",
       "      <td>66.0</td>\n",
       "    </tr>\n",
       "    <tr>\n",
       "      <th>Salary</th>\n",
       "      <td>480.0</td>\n",
       "      <td>-35538.250000</td>\n",
       "      <td>15620.359282</td>\n",
       "      <td>-58486.00</td>\n",
       "      <td>-46839.75</td>\n",
       "      <td>-41368.50</td>\n",
       "      <td>-19330.2500</td>\n",
       "      <td>-9081.0</td>\n",
       "    </tr>\n",
       "    <tr>\n",
       "      <th>CLV</th>\n",
       "      <td>480.0</td>\n",
       "      <td>9919.029000</td>\n",
       "      <td>10436.982877</td>\n",
       "      <td>2402.33</td>\n",
       "      <td>4787.58</td>\n",
       "      <td>6406.47</td>\n",
       "      <td>10334.1775</td>\n",
       "      <td>49423.8</td>\n",
       "    </tr>\n",
       "    <tr>\n",
       "      <th>Enrollment Year</th>\n",
       "      <td>480.0</td>\n",
       "      <td>2018.000000</td>\n",
       "      <td>0.000000</td>\n",
       "      <td>2018.00</td>\n",
       "      <td>2018.00</td>\n",
       "      <td>2018.00</td>\n",
       "      <td>2018.0000</td>\n",
       "      <td>2018.0</td>\n",
       "    </tr>\n",
       "    <tr>\n",
       "      <th>Enrollment Month</th>\n",
       "      <td>480.0</td>\n",
       "      <td>3.050000</td>\n",
       "      <td>0.740704</td>\n",
       "      <td>2.00</td>\n",
       "      <td>2.75</td>\n",
       "      <td>3.00</td>\n",
       "      <td>4.0000</td>\n",
       "      <td>4.0</td>\n",
       "    </tr>\n",
       "    <tr>\n",
       "      <th>Cancellation Year</th>\n",
       "      <td>48.0</td>\n",
       "      <td>2018.000000</td>\n",
       "      <td>0.000000</td>\n",
       "      <td>2018.00</td>\n",
       "      <td>2018.00</td>\n",
       "      <td>2018.00</td>\n",
       "      <td>2018.0000</td>\n",
       "      <td>2018.0</td>\n",
       "    </tr>\n",
       "    <tr>\n",
       "      <th>Cancellation Month</th>\n",
       "      <td>48.0</td>\n",
       "      <td>10.000000</td>\n",
       "      <td>2.021165</td>\n",
       "      <td>8.00</td>\n",
       "      <td>8.00</td>\n",
       "      <td>10.00</td>\n",
       "      <td>12.0000</td>\n",
       "      <td>12.0</td>\n",
       "    </tr>\n",
       "  </tbody>\n",
       "</table>\n",
       "</div>"
      ],
      "text/plain": [
       "                             count           mean            std        min  \\\n",
       "Loyalty Number               480.0  468736.900000  246776.560781  115505.00   \n",
       "Year                         480.0    2017.500000       0.500522    2017.00   \n",
       "Month                        480.0       6.500000       3.455654       1.00   \n",
       "Flights Booked               480.0       3.691667       5.403619       0.00   \n",
       "Flights with Companions      480.0       0.802083       1.971720       0.00   \n",
       "Total Flights                480.0       4.493750       6.609916       0.00   \n",
       "Distance                     480.0    1030.712500    1444.024243       0.00   \n",
       "Points Accumulated           480.0     105.434750     147.335863       0.00   \n",
       "Points Redeemed              480.0      19.800000     106.973401       0.00   \n",
       "Dollar Cost Points Redeemed  480.0       1.600000       8.637830       0.00   \n",
       "Salary                       480.0  -35538.250000   15620.359282  -58486.00   \n",
       "CLV                          480.0    9919.029000   10436.982877    2402.33   \n",
       "Enrollment Year              480.0    2018.000000       0.000000    2018.00   \n",
       "Enrollment Month             480.0       3.050000       0.740704       2.00   \n",
       "Cancellation Year             48.0    2018.000000       0.000000    2018.00   \n",
       "Cancellation Month            48.0      10.000000       2.021165       8.00   \n",
       "\n",
       "                                   25%        50%          75%       max  \n",
       "Loyalty Number               238155.00  433242.50  634692.7500  959977.0  \n",
       "Year                           2017.00    2017.50    2018.0000    2018.0  \n",
       "Month                             3.75       6.50       9.2500      12.0  \n",
       "Flights Booked                    0.00       0.00       7.0000      21.0  \n",
       "Flights with Companions           0.00       0.00       0.0000      11.0  \n",
       "Total Flights                     0.00       0.00       9.0000      32.0  \n",
       "Distance                          0.00       0.00    2033.0000    5746.0  \n",
       "Points Accumulated                0.00       0.00     208.0625     574.0  \n",
       "Points Redeemed                   0.00       0.00       0.0000     814.0  \n",
       "Dollar Cost Points Redeemed       0.00       0.00       0.0000      66.0  \n",
       "Salary                       -46839.75  -41368.50  -19330.2500   -9081.0  \n",
       "CLV                            4787.58    6406.47   10334.1775   49423.8  \n",
       "Enrollment Year                2018.00    2018.00    2018.0000    2018.0  \n",
       "Enrollment Month                  2.75       3.00       4.0000       4.0  \n",
       "Cancellation Year              2018.00    2018.00    2018.0000    2018.0  \n",
       "Cancellation Month                8.00      10.00      12.0000      12.0  "
      ]
     },
     "metadata": {},
     "output_type": "display_data"
    },
    {
     "data": {
      "text/html": [
       "<div>\n",
       "<style scoped>\n",
       "    .dataframe tbody tr th:only-of-type {\n",
       "        vertical-align: middle;\n",
       "    }\n",
       "\n",
       "    .dataframe tbody tr th {\n",
       "        vertical-align: top;\n",
       "    }\n",
       "\n",
       "    .dataframe thead th {\n",
       "        text-align: right;\n",
       "    }\n",
       "</style>\n",
       "<table border=\"1\" class=\"dataframe\">\n",
       "  <thead>\n",
       "    <tr style=\"text-align: right;\">\n",
       "      <th></th>\n",
       "      <th>% nulos</th>\n",
       "      <th>% no_nulos</th>\n",
       "      <th>tipo_dato</th>\n",
       "      <th>num_valores_unicos</th>\n",
       "    </tr>\n",
       "  </thead>\n",
       "  <tbody>\n",
       "    <tr>\n",
       "      <th>Loyalty Number</th>\n",
       "      <td>0.0%</td>\n",
       "      <td>100.0%</td>\n",
       "      <td>int64</td>\n",
       "      <td>20</td>\n",
       "    </tr>\n",
       "    <tr>\n",
       "      <th>Year</th>\n",
       "      <td>0.0%</td>\n",
       "      <td>100.0%</td>\n",
       "      <td>int64</td>\n",
       "      <td>2</td>\n",
       "    </tr>\n",
       "    <tr>\n",
       "      <th>Month</th>\n",
       "      <td>0.0%</td>\n",
       "      <td>100.0%</td>\n",
       "      <td>int64</td>\n",
       "      <td>12</td>\n",
       "    </tr>\n",
       "    <tr>\n",
       "      <th>Flights Booked</th>\n",
       "      <td>0.0%</td>\n",
       "      <td>100.0%</td>\n",
       "      <td>int64</td>\n",
       "      <td>22</td>\n",
       "    </tr>\n",
       "    <tr>\n",
       "      <th>Flights with Companions</th>\n",
       "      <td>0.0%</td>\n",
       "      <td>100.0%</td>\n",
       "      <td>int64</td>\n",
       "      <td>12</td>\n",
       "    </tr>\n",
       "    <tr>\n",
       "      <th>Total Flights</th>\n",
       "      <td>0.0%</td>\n",
       "      <td>100.0%</td>\n",
       "      <td>int64</td>\n",
       "      <td>29</td>\n",
       "    </tr>\n",
       "    <tr>\n",
       "      <th>Distance</th>\n",
       "      <td>0.0%</td>\n",
       "      <td>100.0%</td>\n",
       "      <td>int64</td>\n",
       "      <td>194</td>\n",
       "    </tr>\n",
       "    <tr>\n",
       "      <th>Points Accumulated</th>\n",
       "      <td>0.0%</td>\n",
       "      <td>100.0%</td>\n",
       "      <td>float64</td>\n",
       "      <td>170</td>\n",
       "    </tr>\n",
       "    <tr>\n",
       "      <th>Points Redeemed</th>\n",
       "      <td>0.0%</td>\n",
       "      <td>100.0%</td>\n",
       "      <td>int64</td>\n",
       "      <td>17</td>\n",
       "    </tr>\n",
       "    <tr>\n",
       "      <th>Dollar Cost Points Redeemed</th>\n",
       "      <td>0.0%</td>\n",
       "      <td>100.0%</td>\n",
       "      <td>int64</td>\n",
       "      <td>15</td>\n",
       "    </tr>\n",
       "    <tr>\n",
       "      <th>Country</th>\n",
       "      <td>0.0%</td>\n",
       "      <td>100.0%</td>\n",
       "      <td>object</td>\n",
       "      <td>1</td>\n",
       "    </tr>\n",
       "    <tr>\n",
       "      <th>Province</th>\n",
       "      <td>0.0%</td>\n",
       "      <td>100.0%</td>\n",
       "      <td>object</td>\n",
       "      <td>6</td>\n",
       "    </tr>\n",
       "    <tr>\n",
       "      <th>City</th>\n",
       "      <td>0.0%</td>\n",
       "      <td>100.0%</td>\n",
       "      <td>object</td>\n",
       "      <td>14</td>\n",
       "    </tr>\n",
       "    <tr>\n",
       "      <th>Postal Code</th>\n",
       "      <td>0.0%</td>\n",
       "      <td>100.0%</td>\n",
       "      <td>object</td>\n",
       "      <td>18</td>\n",
       "    </tr>\n",
       "    <tr>\n",
       "      <th>Gender</th>\n",
       "      <td>0.0%</td>\n",
       "      <td>100.0%</td>\n",
       "      <td>object</td>\n",
       "      <td>2</td>\n",
       "    </tr>\n",
       "    <tr>\n",
       "      <th>Education</th>\n",
       "      <td>0.0%</td>\n",
       "      <td>100.0%</td>\n",
       "      <td>object</td>\n",
       "      <td>2</td>\n",
       "    </tr>\n",
       "    <tr>\n",
       "      <th>Salary</th>\n",
       "      <td>0.0%</td>\n",
       "      <td>100.0%</td>\n",
       "      <td>float64</td>\n",
       "      <td>20</td>\n",
       "    </tr>\n",
       "    <tr>\n",
       "      <th>Marital Status</th>\n",
       "      <td>0.0%</td>\n",
       "      <td>100.0%</td>\n",
       "      <td>object</td>\n",
       "      <td>3</td>\n",
       "    </tr>\n",
       "    <tr>\n",
       "      <th>Loyalty Card</th>\n",
       "      <td>0.0%</td>\n",
       "      <td>100.0%</td>\n",
       "      <td>object</td>\n",
       "      <td>3</td>\n",
       "    </tr>\n",
       "    <tr>\n",
       "      <th>CLV</th>\n",
       "      <td>0.0%</td>\n",
       "      <td>100.0%</td>\n",
       "      <td>float64</td>\n",
       "      <td>20</td>\n",
       "    </tr>\n",
       "    <tr>\n",
       "      <th>Enrollment Type</th>\n",
       "      <td>0.0%</td>\n",
       "      <td>100.0%</td>\n",
       "      <td>object</td>\n",
       "      <td>1</td>\n",
       "    </tr>\n",
       "    <tr>\n",
       "      <th>Enrollment Year</th>\n",
       "      <td>0.0%</td>\n",
       "      <td>100.0%</td>\n",
       "      <td>int64</td>\n",
       "      <td>1</td>\n",
       "    </tr>\n",
       "    <tr>\n",
       "      <th>Enrollment Month</th>\n",
       "      <td>0.0%</td>\n",
       "      <td>100.0%</td>\n",
       "      <td>int64</td>\n",
       "      <td>3</td>\n",
       "    </tr>\n",
       "    <tr>\n",
       "      <th>Cancellation Year</th>\n",
       "      <td>90.0%</td>\n",
       "      <td>10.0%</td>\n",
       "      <td>float64</td>\n",
       "      <td>1</td>\n",
       "    </tr>\n",
       "    <tr>\n",
       "      <th>Cancellation Month</th>\n",
       "      <td>90.0%</td>\n",
       "      <td>10.0%</td>\n",
       "      <td>float64</td>\n",
       "      <td>2</td>\n",
       "    </tr>\n",
       "  </tbody>\n",
       "</table>\n",
       "</div>"
      ],
      "text/plain": [
       "                            % nulos % no_nulos tipo_dato  num_valores_unicos\n",
       "Loyalty Number                 0.0%     100.0%     int64                  20\n",
       "Year                           0.0%     100.0%     int64                   2\n",
       "Month                          0.0%     100.0%     int64                  12\n",
       "Flights Booked                 0.0%     100.0%     int64                  22\n",
       "Flights with Companions        0.0%     100.0%     int64                  12\n",
       "Total Flights                  0.0%     100.0%     int64                  29\n",
       "Distance                       0.0%     100.0%     int64                 194\n",
       "Points Accumulated             0.0%     100.0%   float64                 170\n",
       "Points Redeemed                0.0%     100.0%     int64                  17\n",
       "Dollar Cost Points Redeemed    0.0%     100.0%     int64                  15\n",
       "Country                        0.0%     100.0%    object                   1\n",
       "Province                       0.0%     100.0%    object                   6\n",
       "City                           0.0%     100.0%    object                  14\n",
       "Postal Code                    0.0%     100.0%    object                  18\n",
       "Gender                         0.0%     100.0%    object                   2\n",
       "Education                      0.0%     100.0%    object                   2\n",
       "Salary                         0.0%     100.0%   float64                  20\n",
       "Marital Status                 0.0%     100.0%    object                   3\n",
       "Loyalty Card                   0.0%     100.0%    object                   3\n",
       "CLV                            0.0%     100.0%   float64                  20\n",
       "Enrollment Type                0.0%     100.0%    object                   1\n",
       "Enrollment Year                0.0%     100.0%     int64                   1\n",
       "Enrollment Month               0.0%     100.0%     int64                   3\n",
       "Cancellation Year             90.0%      10.0%   float64                   1\n",
       "Cancellation Month            90.0%      10.0%   float64                   2"
      ]
     },
     "execution_count": 43,
     "metadata": {},
     "output_type": "execute_result"
    }
   ],
   "source": [
    "## Exploramos el df de los negativos para intentar encontrar algún patrón o motivo del error: \n",
    "spt.exploracion(df_negativos)"
   ]
  },
  {
   "cell_type": "code",
   "execution_count": 44,
   "metadata": {},
   "outputs": [
    {
     "data": {
      "text/plain": [
       "[115505,\n",
       " 152016,\n",
       " 194065,\n",
       " 212128,\n",
       " 232755,\n",
       " 239955,\n",
       " 347013,\n",
       " 366599,\n",
       " 430398,\n",
       " 491242,\n",
       " 525245,\n",
       " 542976,\n",
       " 603070,\n",
       " 729561,\n",
       " 734647,\n",
       " 790475,\n",
       " 906428,\n",
       " 959977,\n",
       " 364596,\n",
       " 436087]"
      ]
     },
     "execution_count": 44,
     "metadata": {},
     "output_type": "execute_result"
    }
   ],
   "source": [
    "## Es posible que el error solo se haya producido en los unique values de loyalty customer. Pasamos esos ID a lista: \n",
    "id_negativos = list(df_negativos['Loyalty Number'].unique())\n",
    "id_negativos"
   ]
  },
  {
   "cell_type": "code",
   "execution_count": 45,
   "metadata": {},
   "outputs": [
    {
     "data": {
      "text/html": [
       "<div>\n",
       "<style scoped>\n",
       "    .dataframe tbody tr th:only-of-type {\n",
       "        vertical-align: middle;\n",
       "    }\n",
       "\n",
       "    .dataframe tbody tr th {\n",
       "        vertical-align: top;\n",
       "    }\n",
       "\n",
       "    .dataframe thead th {\n",
       "        text-align: right;\n",
       "    }\n",
       "</style>\n",
       "<table border=\"1\" class=\"dataframe\">\n",
       "  <thead>\n",
       "    <tr style=\"text-align: right;\">\n",
       "      <th></th>\n",
       "      <th>Loyalty Number</th>\n",
       "      <th>Year</th>\n",
       "      <th>Month</th>\n",
       "      <th>Flights Booked</th>\n",
       "      <th>Flights with Companions</th>\n",
       "      <th>Total Flights</th>\n",
       "      <th>Distance</th>\n",
       "      <th>Points Accumulated</th>\n",
       "      <th>Points Redeemed</th>\n",
       "      <th>Dollar Cost Points Redeemed</th>\n",
       "      <th>Country</th>\n",
       "      <th>Province</th>\n",
       "      <th>City</th>\n",
       "      <th>Postal Code</th>\n",
       "      <th>Gender</th>\n",
       "      <th>Education</th>\n",
       "      <th>Salary</th>\n",
       "      <th>Marital Status</th>\n",
       "      <th>Loyalty Card</th>\n",
       "      <th>CLV</th>\n",
       "      <th>Enrollment Type</th>\n",
       "      <th>Enrollment Year</th>\n",
       "      <th>Enrollment Month</th>\n",
       "      <th>Cancellation Year</th>\n",
       "      <th>Cancellation Month</th>\n",
       "    </tr>\n",
       "  </thead>\n",
       "  <tbody>\n",
       "    <tr>\n",
       "      <th>291</th>\n",
       "      <td>115505</td>\n",
       "      <td>2017</td>\n",
       "      <td>1</td>\n",
       "      <td>0</td>\n",
       "      <td>0</td>\n",
       "      <td>0</td>\n",
       "      <td>0</td>\n",
       "      <td>0.0</td>\n",
       "      <td>0</td>\n",
       "      <td>0</td>\n",
       "      <td>Canada</td>\n",
       "      <td>Newfoundland</td>\n",
       "      <td>St. John's</td>\n",
       "      <td>A1C 6H9</td>\n",
       "      <td>Male</td>\n",
       "      <td>Bachelor</td>\n",
       "      <td>-10605.0</td>\n",
       "      <td>Married</td>\n",
       "      <td>Nova</td>\n",
       "      <td>5860.17</td>\n",
       "      <td>2018 Promotion</td>\n",
       "      <td>2018</td>\n",
       "      <td>4</td>\n",
       "      <td>NaN</td>\n",
       "      <td>NaN</td>\n",
       "    </tr>\n",
       "    <tr>\n",
       "      <th>956</th>\n",
       "      <td>152016</td>\n",
       "      <td>2017</td>\n",
       "      <td>1</td>\n",
       "      <td>0</td>\n",
       "      <td>0</td>\n",
       "      <td>0</td>\n",
       "      <td>0</td>\n",
       "      <td>0.0</td>\n",
       "      <td>0</td>\n",
       "      <td>0</td>\n",
       "      <td>Canada</td>\n",
       "      <td>Ontario</td>\n",
       "      <td>Toronto</td>\n",
       "      <td>P1J 8T7</td>\n",
       "      <td>Female</td>\n",
       "      <td>Bachelor</td>\n",
       "      <td>-58486.0</td>\n",
       "      <td>Married</td>\n",
       "      <td>Aurora</td>\n",
       "      <td>5067.21</td>\n",
       "      <td>2018 Promotion</td>\n",
       "      <td>2018</td>\n",
       "      <td>2</td>\n",
       "      <td>NaN</td>\n",
       "      <td>NaN</td>\n",
       "    </tr>\n",
       "  </tbody>\n",
       "</table>\n",
       "</div>"
      ],
      "text/plain": [
       "     Loyalty Number  Year  Month  Flights Booked  Flights with Companions  \\\n",
       "291          115505  2017      1               0                        0   \n",
       "956          152016  2017      1               0                        0   \n",
       "\n",
       "     Total Flights  Distance  Points Accumulated  Points Redeemed  \\\n",
       "291              0         0                 0.0                0   \n",
       "956              0         0                 0.0                0   \n",
       "\n",
       "     Dollar Cost Points Redeemed Country      Province        City  \\\n",
       "291                            0  Canada  Newfoundland  St. John's   \n",
       "956                            0  Canada       Ontario     Toronto   \n",
       "\n",
       "    Postal Code  Gender Education   Salary Marital Status Loyalty Card  \\\n",
       "291     A1C 6H9    Male  Bachelor -10605.0        Married         Nova   \n",
       "956     P1J 8T7  Female  Bachelor -58486.0        Married       Aurora   \n",
       "\n",
       "         CLV Enrollment Type  Enrollment Year  Enrollment Month  \\\n",
       "291  5860.17  2018 Promotion             2018                 4   \n",
       "956  5067.21  2018 Promotion             2018                 2   \n",
       "\n",
       "     Cancellation Year  Cancellation Month  \n",
       "291                NaN                 NaN  \n",
       "956                NaN                 NaN  "
      ]
     },
     "execution_count": 45,
     "metadata": {},
     "output_type": "execute_result"
    }
   ],
   "source": [
    "## Filtramos el DF original para que solo aparezcan los loyalty customer de la lista anterior: \n",
    "df_filtrado = df_merged[df_merged['Loyalty Number'].isin(id_negativos)]\n",
    "df_filtrado.head(2)"
   ]
  },
  {
   "cell_type": "code",
   "execution_count": 46,
   "metadata": {},
   "outputs": [
    {
     "data": {
      "text/plain": [
       "(480, 25)"
      ]
     },
     "execution_count": 46,
     "metadata": {},
     "output_type": "execute_result"
    }
   ],
   "source": [
    "df_filtrado.shape"
   ]
  },
  {
   "cell_type": "code",
   "execution_count": 47,
   "metadata": {},
   "outputs": [
    {
     "data": {
      "text/html": [
       "<div>\n",
       "<style scoped>\n",
       "    .dataframe tbody tr th:only-of-type {\n",
       "        vertical-align: middle;\n",
       "    }\n",
       "\n",
       "    .dataframe tbody tr th {\n",
       "        vertical-align: top;\n",
       "    }\n",
       "\n",
       "    .dataframe thead th {\n",
       "        text-align: right;\n",
       "    }\n",
       "</style>\n",
       "<table border=\"1\" class=\"dataframe\">\n",
       "  <thead>\n",
       "    <tr style=\"text-align: right;\">\n",
       "      <th></th>\n",
       "      <th>Loyalty Number</th>\n",
       "      <th>Year</th>\n",
       "      <th>Month</th>\n",
       "      <th>Flights Booked</th>\n",
       "      <th>Flights with Companions</th>\n",
       "      <th>Total Flights</th>\n",
       "      <th>Distance</th>\n",
       "      <th>Points Accumulated</th>\n",
       "      <th>Points Redeemed</th>\n",
       "      <th>Dollar Cost Points Redeemed</th>\n",
       "      <th>Country</th>\n",
       "      <th>Province</th>\n",
       "      <th>City</th>\n",
       "      <th>Postal Code</th>\n",
       "      <th>Gender</th>\n",
       "      <th>Education</th>\n",
       "      <th>Salary</th>\n",
       "      <th>Marital Status</th>\n",
       "      <th>Loyalty Card</th>\n",
       "      <th>CLV</th>\n",
       "      <th>Enrollment Type</th>\n",
       "      <th>Enrollment Year</th>\n",
       "      <th>Enrollment Month</th>\n",
       "      <th>Cancellation Year</th>\n",
       "      <th>Cancellation Month</th>\n",
       "    </tr>\n",
       "  </thead>\n",
       "  <tbody>\n",
       "    <tr>\n",
       "      <th>291</th>\n",
       "      <td>115505</td>\n",
       "      <td>2017</td>\n",
       "      <td>1</td>\n",
       "      <td>0</td>\n",
       "      <td>0</td>\n",
       "      <td>0</td>\n",
       "      <td>0</td>\n",
       "      <td>0.0</td>\n",
       "      <td>0</td>\n",
       "      <td>0</td>\n",
       "      <td>Canada</td>\n",
       "      <td>Newfoundland</td>\n",
       "      <td>St. John's</td>\n",
       "      <td>A1C 6H9</td>\n",
       "      <td>Male</td>\n",
       "      <td>Bachelor</td>\n",
       "      <td>-10605.0</td>\n",
       "      <td>Married</td>\n",
       "      <td>Nova</td>\n",
       "      <td>5860.17</td>\n",
       "      <td>2018 Promotion</td>\n",
       "      <td>2018</td>\n",
       "      <td>4</td>\n",
       "      <td>NaN</td>\n",
       "      <td>NaN</td>\n",
       "    </tr>\n",
       "    <tr>\n",
       "      <th>956</th>\n",
       "      <td>152016</td>\n",
       "      <td>2017</td>\n",
       "      <td>1</td>\n",
       "      <td>0</td>\n",
       "      <td>0</td>\n",
       "      <td>0</td>\n",
       "      <td>0</td>\n",
       "      <td>0.0</td>\n",
       "      <td>0</td>\n",
       "      <td>0</td>\n",
       "      <td>Canada</td>\n",
       "      <td>Ontario</td>\n",
       "      <td>Toronto</td>\n",
       "      <td>P1J 8T7</td>\n",
       "      <td>Female</td>\n",
       "      <td>Bachelor</td>\n",
       "      <td>-58486.0</td>\n",
       "      <td>Married</td>\n",
       "      <td>Aurora</td>\n",
       "      <td>5067.21</td>\n",
       "      <td>2018 Promotion</td>\n",
       "      <td>2018</td>\n",
       "      <td>2</td>\n",
       "      <td>NaN</td>\n",
       "      <td>NaN</td>\n",
       "    </tr>\n",
       "  </tbody>\n",
       "</table>\n",
       "</div>"
      ],
      "text/plain": [
       "     Loyalty Number  Year  Month  Flights Booked  Flights with Companions  \\\n",
       "291          115505  2017      1               0                        0   \n",
       "956          152016  2017      1               0                        0   \n",
       "\n",
       "     Total Flights  Distance  Points Accumulated  Points Redeemed  \\\n",
       "291              0         0                 0.0                0   \n",
       "956              0         0                 0.0                0   \n",
       "\n",
       "     Dollar Cost Points Redeemed Country      Province        City  \\\n",
       "291                            0  Canada  Newfoundland  St. John's   \n",
       "956                            0  Canada       Ontario     Toronto   \n",
       "\n",
       "    Postal Code  Gender Education   Salary Marital Status Loyalty Card  \\\n",
       "291     A1C 6H9    Male  Bachelor -10605.0        Married         Nova   \n",
       "956     P1J 8T7  Female  Bachelor -58486.0        Married       Aurora   \n",
       "\n",
       "         CLV Enrollment Type  Enrollment Year  Enrollment Month  \\\n",
       "291  5860.17  2018 Promotion             2018                 4   \n",
       "956  5067.21  2018 Promotion             2018                 2   \n",
       "\n",
       "     Cancellation Year  Cancellation Month  \n",
       "291                NaN                 NaN  \n",
       "956                NaN                 NaN  "
      ]
     },
     "execution_count": 47,
     "metadata": {},
     "output_type": "execute_result"
    }
   ],
   "source": [
    "df_negativos.head(2)"
   ]
  },
  {
   "cell_type": "code",
   "execution_count": 48,
   "metadata": {},
   "outputs": [
    {
     "data": {
      "text/plain": [
       "(480, 25)"
      ]
     },
     "execution_count": 48,
     "metadata": {},
     "output_type": "execute_result"
    }
   ],
   "source": [
    "df_negativos.shape"
   ]
  },
  {
   "cell_type": "code",
   "execution_count": 49,
   "metadata": {},
   "outputs": [],
   "source": [
    "## Como los DF coinciden y los salarios negativos parecen ser debido a un error de inserción en esos Loyalty customer ID, pero las cifras parecen correctas (misma cantidad de digitos que los salarios positivos)\n",
    "## Transformamos salarios en DF original a positivo: \n",
    "df_merged['Salary'] = df_merged['Salary'].apply(spt.negativos)"
   ]
  },
  {
   "cell_type": "code",
   "execution_count": 50,
   "metadata": {},
   "outputs": [
    {
     "data": {
      "text/plain": [
       "9081.0"
      ]
     },
     "execution_count": 50,
     "metadata": {},
     "output_type": "execute_result"
    }
   ],
   "source": [
    "## Comprobamos el cambio\n",
    "df_merged['Salary'].min()"
   ]
  },
  {
   "cell_type": "markdown",
   "metadata": {},
   "source": [
    "Continuamos con gestión de nulos de la columna Salary: "
   ]
  },
  {
   "cell_type": "code",
   "execution_count": 51,
   "metadata": {},
   "outputs": [
    {
     "data": {
      "image/png": "[encoded data removed]",
      "text/plain": [
       "<Figure size 1000x600 with 1 Axes>"
      ]
     },
     "metadata": {},
     "output_type": "display_data"
    },
    {
     "data": {
      "text/plain": [
       "<Figure size 640x480 with 0 Axes>"
      ]
     },
     "metadata": {},
     "output_type": "display_data"
    }
   ],
   "source": [
    "## Verificamos si hay datos atípicos:\n",
    "\n",
    "fig, ax = plt.subplots(figsize=(10, 6))\n",
    "\n",
    "# Genera el boxplot para la columna especificada\n",
    "sns.boxplot(x='Salary', data=df_merged, ax=ax)\n",
    "\n",
    "# Muestra el gráfico\n",
    "plt.show()\n",
    "plt.tight_layout();"
   ]
  },
  {
   "cell_type": "code",
   "execution_count": 52,
   "metadata": {},
   "outputs": [
    {
     "data": {
      "text/plain": [
       "Education\n",
       "Bachelor                 72599.080913\n",
       "College                           NaN\n",
       "Doctor                  178403.675202\n",
       "High School or Below     61146.378165\n",
       "Master                  103734.523724\n",
       "Name: Salary, dtype: float64"
      ]
     },
     "execution_count": 52,
     "metadata": {},
     "output_type": "execute_result"
    }
   ],
   "source": [
    "## Calculamos promedios de Salary por cada nivel de Education\n",
    "promedios_salarios = df_merged.groupby('Education')['Salary'].mean()\n",
    "promedios_salarios "
   ]
  },
  {
   "cell_type": "code",
   "execution_count": 53,
   "metadata": {},
   "outputs": [],
   "source": [
    "## Verificamos si todos los nulos de la columna Salario tienen Education type College: "
   ]
  },
  {
   "cell_type": "code",
   "execution_count": 54,
   "metadata": {},
   "outputs": [
    {
     "data": {
      "text/plain": [
       "Education\n",
       "Bachelor                     0\n",
       "College                 102260\n",
       "Doctor                       0\n",
       "High School or Below         0\n",
       "Master                       0\n",
       "Name: Salary, dtype: int64"
      ]
     },
     "execution_count": 54,
     "metadata": {},
     "output_type": "execute_result"
    }
   ],
   "source": [
    "nulos_por_education = df_merged['Salary'].isnull().groupby(df_merged['Education']).sum()\n",
    "nulos_por_education"
   ]
  },
  {
   "cell_type": "code",
   "execution_count": 55,
   "metadata": {},
   "outputs": [
    {
     "data": {
      "text/plain": [
       "102260"
      ]
     },
     "execution_count": 55,
     "metadata": {},
     "output_type": "execute_result"
    }
   ],
   "source": [
    "df_merged['Salary'].isnull().sum()"
   ]
  },
  {
   "cell_type": "code",
   "execution_count": 56,
   "metadata": {},
   "outputs": [],
   "source": [
    "## Conclusión: los nulos de la categoria 'Salary' son todos de 'Education' = 'College'"
   ]
  },
  {
   "cell_type": "code",
   "execution_count": 57,
   "metadata": {},
   "outputs": [],
   "source": [
    "## Como hay algunos valores atipicos, comparamos con los métodos de Iterative Imputer y KNN para ver cuál es el que mejor se adecua: "
   ]
  },
  {
   "cell_type": "code",
   "execution_count": 58,
   "metadata": {},
   "outputs": [
    {
     "data": {
      "text/html": [
       "<div>\n",
       "<style scoped>\n",
       "    .dataframe tbody tr th:only-of-type {\n",
       "        vertical-align: middle;\n",
       "    }\n",
       "\n",
       "    .dataframe tbody tr th {\n",
       "        vertical-align: top;\n",
       "    }\n",
       "\n",
       "    .dataframe thead th {\n",
       "        text-align: right;\n",
       "    }\n",
       "</style>\n",
       "<table border=\"1\" class=\"dataframe\">\n",
       "  <thead>\n",
       "    <tr style=\"text-align: right;\">\n",
       "      <th></th>\n",
       "      <th>Loyalty Number</th>\n",
       "      <th>Year</th>\n",
       "      <th>Month</th>\n",
       "      <th>Flights Booked</th>\n",
       "      <th>Flights with Companions</th>\n",
       "      <th>Total Flights</th>\n",
       "      <th>Distance</th>\n",
       "      <th>Points Accumulated</th>\n",
       "      <th>Points Redeemed</th>\n",
       "      <th>Dollar Cost Points Redeemed</th>\n",
       "      <th>Country</th>\n",
       "      <th>Province</th>\n",
       "      <th>City</th>\n",
       "      <th>Postal Code</th>\n",
       "      <th>Gender</th>\n",
       "      <th>Education</th>\n",
       "      <th>Salary</th>\n",
       "      <th>Marital Status</th>\n",
       "      <th>Loyalty Card</th>\n",
       "      <th>CLV</th>\n",
       "      <th>Enrollment Type</th>\n",
       "      <th>Enrollment Year</th>\n",
       "      <th>Enrollment Month</th>\n",
       "      <th>Cancellation Year</th>\n",
       "      <th>Cancellation Month</th>\n",
       "    </tr>\n",
       "  </thead>\n",
       "  <tbody>\n",
       "    <tr>\n",
       "      <th>0</th>\n",
       "      <td>100018</td>\n",
       "      <td>2017</td>\n",
       "      <td>1</td>\n",
       "      <td>3</td>\n",
       "      <td>0</td>\n",
       "      <td>3</td>\n",
       "      <td>1521</td>\n",
       "      <td>152.0</td>\n",
       "      <td>0</td>\n",
       "      <td>0</td>\n",
       "      <td>Canada</td>\n",
       "      <td>Alberta</td>\n",
       "      <td>Edmonton</td>\n",
       "      <td>T9G 1W3</td>\n",
       "      <td>Female</td>\n",
       "      <td>Bachelor</td>\n",
       "      <td>92552.0</td>\n",
       "      <td>Married</td>\n",
       "      <td>Aurora</td>\n",
       "      <td>7919.2</td>\n",
       "      <td>Standard</td>\n",
       "      <td>2016</td>\n",
       "      <td>8</td>\n",
       "      <td>NaN</td>\n",
       "      <td>NaN</td>\n",
       "    </tr>\n",
       "  </tbody>\n",
       "</table>\n",
       "</div>"
      ],
      "text/plain": [
       "   Loyalty Number  Year  Month  Flights Booked  Flights with Companions  \\\n",
       "0          100018  2017      1               3                        0   \n",
       "\n",
       "   Total Flights  Distance  Points Accumulated  Points Redeemed  \\\n",
       "0              3      1521               152.0                0   \n",
       "\n",
       "   Dollar Cost Points Redeemed Country Province      City Postal Code  Gender  \\\n",
       "0                            0  Canada  Alberta  Edmonton     T9G 1W3  Female   \n",
       "\n",
       "  Education   Salary Marital Status Loyalty Card     CLV Enrollment Type  \\\n",
       "0  Bachelor  92552.0        Married       Aurora  7919.2        Standard   \n",
       "\n",
       "   Enrollment Year  Enrollment Month  Cancellation Year  Cancellation Month  \n",
       "0             2016                 8                NaN                 NaN  "
      ]
     },
     "execution_count": 58,
     "metadata": {},
     "output_type": "execute_result"
    }
   ],
   "source": [
    "## Creamos copy del DF para ver las nuevas columnas: \n",
    "df_copia = df_merged.copy()\n",
    "df_copia.head(1)"
   ]
  },
  {
   "cell_type": "code",
   "execution_count": 59,
   "metadata": {},
   "outputs": [
    {
     "data": {
      "text/plain": [
       "array([[92552.        ],\n",
       "       [79371.73290216],\n",
       "       [79371.73290216],\n",
       "       ...,\n",
       "       [47670.        ],\n",
       "       [79371.73290216],\n",
       "       [46594.        ]])"
      ]
     },
     "execution_count": 59,
     "metadata": {},
     "output_type": "execute_result"
    }
   ],
   "source": [
    "# Iterative: \n",
    "# instanciamos las clases\n",
    "imputer_iterative = IterativeImputer(max_iter = 20, random_state = 42)\n",
    "\n",
    "# ajustamos y tranformamos los datos\n",
    "imputer_iterative_imputado = imputer_iterative.fit_transform(df_copia[[\"Salary\"]])\n",
    "\n",
    "# comprobamos que es lo que nos devuelve, que en este caso es un array también\n",
    "imputer_iterative_imputado"
   ]
  },
  {
   "cell_type": "code",
   "execution_count": 60,
   "metadata": {},
   "outputs": [
    {
     "name": "stdout",
     "output_type": "stream",
     "text": [
      "Después del 'Iterative' tenemos: \n",
      "Salary_iterative    0\n",
      "dtype: int64 nulos\n"
     ]
    }
   ],
   "source": [
    "df_copia[[\"Salary_iterative\"]] = imputer_iterative_imputado\n",
    "\n",
    "# comprobamos los nulos\n",
    "print(f\"Después del 'Iterative' tenemos: \\n{df_copia[[\"Salary_iterative\"]].isnull().sum()} nulos\")"
   ]
  },
  {
   "cell_type": "code",
   "execution_count": 61,
   "metadata": {},
   "outputs": [
    {
     "data": {
      "text/plain": [
       "array([[92552.        ],\n",
       "       [79371.73290216],\n",
       "       [79371.73290216],\n",
       "       ...,\n",
       "       [47670.        ],\n",
       "       [79371.73290216],\n",
       "       [46594.        ]])"
      ]
     },
     "execution_count": 61,
     "metadata": {},
     "output_type": "execute_result"
    }
   ],
   "source": [
    "## KNN: \n",
    "\n",
    "# instanciamos la clase del KNNImputer\n",
    "imputer_knn = KNNImputer(n_neighbors = 5)\n",
    "\n",
    "# ajustamos y transformamos los datos\n",
    "imputer_knn_imputado = imputer_knn.fit_transform(df_copia[[\"Salary\"]])\n",
    "\n",
    "# comprobamos que es lo que nos devuelve, que sigue siendo un array\n",
    "imputer_knn_imputado"
   ]
  },
  {
   "cell_type": "code",
   "execution_count": null,
   "metadata": {},
   "outputs": [
    {
     "name": "stdout",
     "output_type": "stream",
     "text": [
      "Después del 'KNN' tenemos: \n",
      "Salary_knn    0\n",
      "dtype: int64 nulos\n"
     ]
    }
   ],
   "source": [
    "# añadimos el array al DataFrame \n",
    "df_copia[[\"Salary_knn\"]] = imputer_knn_imputado\n",
    "\n",
    "# comprobamos los nulos\n",
    "print(f\"Después del 'KNN' tenemos: \\n{df_copia[[\"Salary_knn\"]].isnull().sum()} nulos\")"
   ]
  },
  {
   "cell_type": "code",
   "execution_count": 63,
   "metadata": {},
   "outputs": [
    {
     "data": {
      "text/html": [
       "<div>\n",
       "<style scoped>\n",
       "    .dataframe tbody tr th:only-of-type {\n",
       "        vertical-align: middle;\n",
       "    }\n",
       "\n",
       "    .dataframe tbody tr th {\n",
       "        vertical-align: top;\n",
       "    }\n",
       "\n",
       "    .dataframe thead th {\n",
       "        text-align: right;\n",
       "    }\n",
       "</style>\n",
       "<table border=\"1\" class=\"dataframe\">\n",
       "  <thead>\n",
       "    <tr style=\"text-align: right;\">\n",
       "      <th></th>\n",
       "      <th>Salary</th>\n",
       "      <th>Salary_iterative</th>\n",
       "      <th>Salary_knn</th>\n",
       "    </tr>\n",
       "  </thead>\n",
       "  <tbody>\n",
       "    <tr>\n",
       "      <th>count</th>\n",
       "      <td>301500.000000</td>\n",
       "      <td>403760.000000</td>\n",
       "      <td>403760.000000</td>\n",
       "    </tr>\n",
       "    <tr>\n",
       "      <th>mean</th>\n",
       "      <td>79371.732902</td>\n",
       "      <td>79371.732902</td>\n",
       "      <td>79371.732902</td>\n",
       "    </tr>\n",
       "    <tr>\n",
       "      <th>std</th>\n",
       "      <td>34726.433958</td>\n",
       "      <td>30008.343196</td>\n",
       "      <td>30008.343196</td>\n",
       "    </tr>\n",
       "    <tr>\n",
       "      <th>min</th>\n",
       "      <td>9081.000000</td>\n",
       "      <td>9081.000000</td>\n",
       "      <td>9081.000000</td>\n",
       "    </tr>\n",
       "    <tr>\n",
       "      <th>25%</th>\n",
       "      <td>59262.000000</td>\n",
       "      <td>63901.000000</td>\n",
       "      <td>63901.000000</td>\n",
       "    </tr>\n",
       "    <tr>\n",
       "      <th>50%</th>\n",
       "      <td>73479.000000</td>\n",
       "      <td>79371.732902</td>\n",
       "      <td>79371.732902</td>\n",
       "    </tr>\n",
       "    <tr>\n",
       "      <th>75%</th>\n",
       "      <td>88606.000000</td>\n",
       "      <td>82940.000000</td>\n",
       "      <td>82940.000000</td>\n",
       "    </tr>\n",
       "    <tr>\n",
       "      <th>max</th>\n",
       "      <td>407228.000000</td>\n",
       "      <td>407228.000000</td>\n",
       "      <td>407228.000000</td>\n",
       "    </tr>\n",
       "  </tbody>\n",
       "</table>\n",
       "</div>"
      ],
      "text/plain": [
       "              Salary  Salary_iterative     Salary_knn\n",
       "count  301500.000000     403760.000000  403760.000000\n",
       "mean    79371.732902      79371.732902   79371.732902\n",
       "std     34726.433958      30008.343196   30008.343196\n",
       "min      9081.000000       9081.000000    9081.000000\n",
       "25%     59262.000000      63901.000000   63901.000000\n",
       "50%     73479.000000      79371.732902   79371.732902\n",
       "75%     88606.000000      82940.000000   82940.000000\n",
       "max    407228.000000     407228.000000  407228.000000"
      ]
     },
     "execution_count": 63,
     "metadata": {},
     "output_type": "execute_result"
    }
   ],
   "source": [
    "## Comparamos los resultados: \n",
    "\n",
    "df_copia.describe()[[\"Salary\",\"Salary_iterative\", \"Salary_knn\"]]"
   ]
  },
  {
   "cell_type": "code",
   "execution_count": 64,
   "metadata": {},
   "outputs": [],
   "source": [
    "# Como los resultados son similares, proseguimos con Iterative y eliminamos las columnas innecesarias (KNN y salario original ya que tiene nulos)\n",
    "\n",
    "df_copia.drop([\"Salary_knn\", \"Salary\" ], axis = 1, inplace = True)\n",
    "\n",
    "# ahora vamos a cambiar el nombre de la columna que de iterative para que tengan el mismo nombre de origen (salary)\n",
    "nuevo_nombre = {\"Salary_iterative\": \"Salary\"}\n",
    "df_copia.rename(columns = nuevo_nombre, inplace = True)"
   ]
  },
  {
   "cell_type": "code",
   "execution_count": 65,
   "metadata": {},
   "outputs": [
    {
     "data": {
      "text/plain": [
       "0"
      ]
     },
     "execution_count": 65,
     "metadata": {},
     "output_type": "execute_result"
    }
   ],
   "source": [
    "## Comprobamos que salary no tenga nulos: \n",
    "df_copia['Salary'].isnull().sum()"
   ]
  },
  {
   "cell_type": "code",
   "execution_count": 68,
   "metadata": {},
   "outputs": [
    {
     "data": {
      "text/plain": [
       "0    92552.000000\n",
       "1    79371.732902\n",
       "Name: Salary, dtype: float64"
      ]
     },
     "execution_count": 68,
     "metadata": {},
     "output_type": "execute_result"
    }
   ],
   "source": [
    "df_copia['Salary'].head(2)"
   ]
  },
  {
   "cell_type": "code",
   "execution_count": null,
   "metadata": {},
   "outputs": [],
   "source": [
    "## Redondear a dos decimales: \n",
    "\n",
    "df_copia['Salary'] = df_copia['Salary'].round(2)"
   ]
  },
  {
   "cell_type": "code",
   "execution_count": 72,
   "metadata": {},
   "outputs": [
    {
     "data": {
      "text/plain": [
       "0    92552.00\n",
       "1    79371.73\n",
       "Name: Salary, dtype: float64"
      ]
     },
     "execution_count": 72,
     "metadata": {},
     "output_type": "execute_result"
    }
   ],
   "source": [
    "df_copia['Salary'].head(2)"
   ]
  },
  {
   "cell_type": "code",
   "execution_count": 74,
   "metadata": {},
   "outputs": [],
   "source": [
    "## Reemplazamos espacios por guiones bajos y pasamos a minuscula para homogeneizar: \n",
    "\n",
    "df_copia = spt.espacios_guion_bajo(df_copia)"
   ]
  },
  {
   "cell_type": "code",
   "execution_count": null,
   "metadata": {},
   "outputs": [
    {
     "data": {
      "text/plain": [
       "loyalty_number                   int64\n",
       "year                             int64\n",
       "month                            int64\n",
       "flights_booked                   int64\n",
       "flights_with_companions          int64\n",
       "total_flights                    int64\n",
       "distance                         int64\n",
       "points_accumulated             float64\n",
       "points_redeemed                  int64\n",
       "dollar_cost_points_redeemed      int64\n",
       "country                         object\n",
       "province                        object\n",
       "city                            object\n",
       "postal_code                     object\n",
       "gender                          object\n",
       "education                       object\n",
       "marital_status                  object\n",
       "loyalty_card                    object\n",
       "clv                            float64\n",
       "enrollment_type                 object\n",
       "enrollment_year                  int64\n",
       "enrollment_month                 int64\n",
       "cancellation_year              float64\n",
       "cancellation_month             float64\n",
       "salary                         float64\n",
       "dtype: object"
      ]
     },
     "execution_count": 76,
     "metadata": {},
     "output_type": "execute_result"
    }
   ],
   "source": [
    "## Verificamos tipos de datos\n",
    "df_copia.dtypes"
   ]
  },
  {
   "cell_type": "code",
   "execution_count": 77,
   "metadata": {},
   "outputs": [
    {
     "name": "stdout",
     "output_type": "stream",
     "text": [
      "Columna \"cancellation_year\" convertida a enteros.\n",
      "Columna \"cancellation_month\" convertida a enteros.\n"
     ]
    }
   ],
   "source": [
    "## Cambiamos cancellation_year / cancellation_month de float a entero: \n",
    "\n",
    "df_copia = spt.entero(df_copia, 'cancellation_year')\n",
    "df_copia = spt.entero(df_copia, 'cancellation_month')\n"
   ]
  },
  {
   "cell_type": "code",
   "execution_count": 83,
   "metadata": {},
   "outputs": [],
   "source": [
    "## Guardamos DF final en CSV: \n",
    "\n",
    "df_copia.to_csv(\"df_final.csv\", index=False)"
   ]
  },
  {
   "cell_type": "markdown",
   "metadata": {},
   "source": [
    "#### "
   ]
  },
  {
   "cell_type": "markdown",
   "metadata": {},
   "source": [
    "## Fase 2: Visualización"
   ]
  },
  {
   "cell_type": "code",
   "execution_count": null,
   "metadata": {},
   "outputs": [],
   "source": [
    "## Cambiamos nombre para evitar confusión entre original / copia: \n",
    "df_final = df_copia"
   ]
  },
  {
   "cell_type": "markdown",
   "metadata": {},
   "source": [
    "#### 1) ¿Cómo se distribuye la cantidad de vuelos reservados por mes durante el año?"
   ]
  },
  {
   "cell_type": "code",
   "execution_count": 92,
   "metadata": {},
   "outputs": [],
   "source": [
    "## Verificamos los datos de las columnas: "
   ]
  },
  {
   "cell_type": "code",
   "execution_count": 99,
   "metadata": {},
   "outputs": [
    {
     "data": {
      "text/plain": [
       "array([ 3, 10,  6,  0,  8, 11,  9,  4,  7,  5,  2,  1, 12, 13, 14, 16, 15,\n",
       "       17, 18, 19, 20, 21])"
      ]
     },
     "execution_count": 99,
     "metadata": {},
     "output_type": "execute_result"
    }
   ],
   "source": [
    "df_final['flights_booked'].unique()"
   ]
  },
  {
   "cell_type": "code",
   "execution_count": 98,
   "metadata": {},
   "outputs": [
    {
     "data": {
      "text/plain": [
       "array([ 1,  9,  2,  3, 11,  4,  5,  7,  6,  8, 10, 12])"
      ]
     },
     "execution_count": 98,
     "metadata": {},
     "output_type": "execute_result"
    }
   ],
   "source": [
    "df_final['month'].unique()"
   ]
  },
  {
   "cell_type": "code",
   "execution_count": 100,
   "metadata": {},
   "outputs": [
    {
     "data": {
      "text/plain": [
       "array([2017, 2018])"
      ]
     },
     "execution_count": 100,
     "metadata": {},
     "output_type": "execute_result"
    }
   ],
   "source": [
    "df_final['year'].unique()"
   ]
  },
  {
   "cell_type": "code",
   "execution_count": 103,
   "metadata": {},
   "outputs": [
    {
     "data": {
      "text/html": [
       "<div>\n",
       "<style scoped>\n",
       "    .dataframe tbody tr th:only-of-type {\n",
       "        vertical-align: middle;\n",
       "    }\n",
       "\n",
       "    .dataframe tbody tr th {\n",
       "        vertical-align: top;\n",
       "    }\n",
       "\n",
       "    .dataframe thead th {\n",
       "        text-align: right;\n",
       "    }\n",
       "</style>\n",
       "<table border=\"1\" class=\"dataframe\">\n",
       "  <thead>\n",
       "    <tr style=\"text-align: right;\">\n",
       "      <th></th>\n",
       "      <th>year</th>\n",
       "      <th>month</th>\n",
       "      <th>flights_booked</th>\n",
       "    </tr>\n",
       "  </thead>\n",
       "  <tbody>\n",
       "    <tr>\n",
       "      <th>0</th>\n",
       "      <td>2017</td>\n",
       "      <td>1</td>\n",
       "      <td>47766</td>\n",
       "    </tr>\n",
       "    <tr>\n",
       "      <th>1</th>\n",
       "      <td>2017</td>\n",
       "      <td>2</td>\n",
       "      <td>47691</td>\n",
       "    </tr>\n",
       "    <tr>\n",
       "      <th>2</th>\n",
       "      <td>2017</td>\n",
       "      <td>3</td>\n",
       "      <td>64271</td>\n",
       "    </tr>\n",
       "    <tr>\n",
       "      <th>3</th>\n",
       "      <td>2017</td>\n",
       "      <td>4</td>\n",
       "      <td>55720</td>\n",
       "    </tr>\n",
       "    <tr>\n",
       "      <th>4</th>\n",
       "      <td>2017</td>\n",
       "      <td>5</td>\n",
       "      <td>65279</td>\n",
       "    </tr>\n",
       "    <tr>\n",
       "      <th>5</th>\n",
       "      <td>2017</td>\n",
       "      <td>6</td>\n",
       "      <td>80493</td>\n",
       "    </tr>\n",
       "    <tr>\n",
       "      <th>6</th>\n",
       "      <td>2017</td>\n",
       "      <td>7</td>\n",
       "      <td>89288</td>\n",
       "    </tr>\n",
       "    <tr>\n",
       "      <th>7</th>\n",
       "      <td>2017</td>\n",
       "      <td>8</td>\n",
       "      <td>78692</td>\n",
       "    </tr>\n",
       "    <tr>\n",
       "      <th>8</th>\n",
       "      <td>2017</td>\n",
       "      <td>9</td>\n",
       "      <td>63304</td>\n",
       "    </tr>\n",
       "    <tr>\n",
       "      <th>9</th>\n",
       "      <td>2017</td>\n",
       "      <td>10</td>\n",
       "      <td>60351</td>\n",
       "    </tr>\n",
       "    <tr>\n",
       "      <th>10</th>\n",
       "      <td>2017</td>\n",
       "      <td>11</td>\n",
       "      <td>56905</td>\n",
       "    </tr>\n",
       "    <tr>\n",
       "      <th>11</th>\n",
       "      <td>2017</td>\n",
       "      <td>12</td>\n",
       "      <td>77650</td>\n",
       "    </tr>\n",
       "    <tr>\n",
       "      <th>12</th>\n",
       "      <td>2018</td>\n",
       "      <td>1</td>\n",
       "      <td>49170</td>\n",
       "    </tr>\n",
       "    <tr>\n",
       "      <th>13</th>\n",
       "      <td>2018</td>\n",
       "      <td>2</td>\n",
       "      <td>48643</td>\n",
       "    </tr>\n",
       "    <tr>\n",
       "      <th>14</th>\n",
       "      <td>2018</td>\n",
       "      <td>3</td>\n",
       "      <td>66928</td>\n",
       "    </tr>\n",
       "    <tr>\n",
       "      <th>15</th>\n",
       "      <td>2018</td>\n",
       "      <td>4</td>\n",
       "      <td>56791</td>\n",
       "    </tr>\n",
       "    <tr>\n",
       "      <th>16</th>\n",
       "      <td>2018</td>\n",
       "      <td>5</td>\n",
       "      <td>76891</td>\n",
       "    </tr>\n",
       "    <tr>\n",
       "      <th>17</th>\n",
       "      <td>2018</td>\n",
       "      <td>6</td>\n",
       "      <td>92749</td>\n",
       "    </tr>\n",
       "    <tr>\n",
       "      <th>18</th>\n",
       "      <td>2018</td>\n",
       "      <td>7</td>\n",
       "      <td>104143</td>\n",
       "    </tr>\n",
       "    <tr>\n",
       "      <th>19</th>\n",
       "      <td>2018</td>\n",
       "      <td>8</td>\n",
       "      <td>90512</td>\n",
       "    </tr>\n",
       "    <tr>\n",
       "      <th>20</th>\n",
       "      <td>2018</td>\n",
       "      <td>9</td>\n",
       "      <td>73075</td>\n",
       "    </tr>\n",
       "    <tr>\n",
       "      <th>21</th>\n",
       "      <td>2018</td>\n",
       "      <td>10</td>\n",
       "      <td>69110</td>\n",
       "    </tr>\n",
       "    <tr>\n",
       "      <th>22</th>\n",
       "      <td>2018</td>\n",
       "      <td>11</td>\n",
       "      <td>65345</td>\n",
       "    </tr>\n",
       "    <tr>\n",
       "      <th>23</th>\n",
       "      <td>2018</td>\n",
       "      <td>12</td>\n",
       "      <td>88397</td>\n",
       "    </tr>\n",
       "  </tbody>\n",
       "</table>\n",
       "</div>"
      ],
      "text/plain": [
       "    year  month  flights_booked\n",
       "0   2017      1           47766\n",
       "1   2017      2           47691\n",
       "2   2017      3           64271\n",
       "3   2017      4           55720\n",
       "4   2017      5           65279\n",
       "5   2017      6           80493\n",
       "6   2017      7           89288\n",
       "7   2017      8           78692\n",
       "8   2017      9           63304\n",
       "9   2017     10           60351\n",
       "10  2017     11           56905\n",
       "11  2017     12           77650\n",
       "12  2018      1           49170\n",
       "13  2018      2           48643\n",
       "14  2018      3           66928\n",
       "15  2018      4           56791\n",
       "16  2018      5           76891\n",
       "17  2018      6           92749\n",
       "18  2018      7          104143\n",
       "19  2018      8           90512\n",
       "20  2018      9           73075\n",
       "21  2018     10           69110\n",
       "22  2018     11           65345\n",
       "23  2018     12           88397"
      ]
     },
     "execution_count": 103,
     "metadata": {},
     "output_type": "execute_result"
    }
   ],
   "source": [
    "## Agrupamos los datos de vuelos por año y mes, y luego calculamos la suma total de los vuelos reservados en cada combinación de año y mes.  \n",
    "vuelos_por_mes = df_final.groupby([\"year\", \"month\"])[\"flights_booked\"].sum().reset_index(name=\"flights_booked\")\n",
    "vuelos_por_mes"
   ]
  },
  {
   "cell_type": "code",
   "execution_count": 126,
   "metadata": {},
   "outputs": [
    {
     "data": {
      "image/png": "[encoded data removed]",
      "text/plain": [
       "<Figure size 1000x600 with 1 Axes>"
      ]
     },
     "metadata": {},
     "output_type": "display_data"
    }
   ],
   "source": [
    "## Gráfico de barras para representar los vuelos reservados por mes agrupados por año: \n",
    "\n",
    "plt.figure(figsize=(10, 6)) \n",
    "sns.barplot(data=vuelos_por_mes, x=\"month\", y=\"flights_booked\", hue=\"year\", palette=\"Set3\")\n",
    "plt.title(\"Vuelos reservados por mes (agrupados por año)\")\n",
    "plt.legend(title='Año', title_fontsize='10', fontsize='9', loc='upper left')\n",
    "plt.xlabel(\"Mes\")\n",
    "plt.ylabel(\"Vuelos reservados\");"
   ]
  },
  {
   "cell_type": "markdown",
   "metadata": {},
   "source": [
    "Conclusión: \n",
    "- Las reservas del año 2018 superan a las del año 2017. \n",
    "- A principios del año hay menos reservas de vuelos. \n",
    "- Los meses de verano --ya que el país es Canada-- tienen un aumento de reservas, así como también se observa un aumento en el mes de diciembre. \n",
    "\n"
   ]
  },
  {
   "cell_type": "markdown",
   "metadata": {},
   "source": [
    "#### 2) ¿Existe una relación entre la distancia de los vuelos y los puntos acumulados por los cliente?"
   ]
  },
  {
   "cell_type": "code",
   "execution_count": null,
   "metadata": {},
   "outputs": [],
   "source": [
    "## Verificamos los datos de cada columna: "
   ]
  },
  {
   "cell_type": "code",
   "execution_count": 105,
   "metadata": {},
   "outputs": [
    {
     "data": {
      "text/plain": [
       "array([1521, 2030, 1200, ..., 1217,  617, 4135])"
      ]
     },
     "execution_count": 105,
     "metadata": {},
     "output_type": "execute_result"
    }
   ],
   "source": [
    "df_final['distance'].unique()"
   ]
  },
  {
   "cell_type": "code",
   "execution_count": 107,
   "metadata": {},
   "outputs": [
    {
     "data": {
      "text/plain": [
       "array([152.  , 203.  , 120.  , ...,  18.75, 601.  , 626.  ])"
      ]
     },
     "execution_count": 107,
     "metadata": {},
     "output_type": "execute_result"
    }
   ],
   "source": [
    "df_final['points_accumulated'].unique()"
   ]
  },
  {
   "cell_type": "code",
   "execution_count": 134,
   "metadata": {},
   "outputs": [
    {
     "data": {
      "text/plain": [
       "Text(0, 0.5, 'Puntos acumulados')"
      ]
     },
     "execution_count": 134,
     "metadata": {},
     "output_type": "execute_result"
    },
    {
     "data": {
      "image/png": "[encoded data removed]",
      "text/plain": [
       "<Figure size 1000x600 with 1 Axes>"
      ]
     },
     "metadata": {},
     "output_type": "display_data"
    }
   ],
   "source": [
    "## Hacemos un scatterplot para visualizar la relación entre la distancia de vuelo y los puntos acumulados, para ver que tan dispersos están esos datos y ver si hay una relación visible. \n",
    "\n",
    "plt.figure(figsize=(10, 6)) \n",
    "sns.scatterplot(data=df_final, x='distance', y='points_accumulated', color='skyblue')\n",
    "plt.title('Relación entre distancia de vuelo y puntos acumulados')\n",
    "plt.xlabel('Distancia')\n",
    "plt.ylabel('Puntos acumulados')\n"
   ]
  },
  {
   "cell_type": "markdown",
   "metadata": {},
   "source": [
    "Conclusión: \n",
    "- El gráfico muestra que a mayor distancia del vuelo, más puntos acumulados. \n",
    "- Parece haber una relación lineal entre las variables (cuanto más largo es el vuelo, más puntos se obtienen)"
   ]
  },
  {
   "cell_type": "markdown",
   "metadata": {},
   "source": [
    "#### 3) ¿Cuál es la distribución de los clientes por provincia o estado?"
   ]
  },
  {
   "cell_type": "code",
   "execution_count": 116,
   "metadata": {},
   "outputs": [],
   "source": [
    "## Verificamos los datos únicos en la columna de provincia: "
   ]
  },
  {
   "cell_type": "code",
   "execution_count": 115,
   "metadata": {
    "notebookRunGroups": {
     "groupValue": "1"
    }
   },
   "outputs": [
    {
     "data": {
      "text/plain": [
       "array(['Alberta', 'Ontario', 'British Columbia', 'Saskatchewan', 'Quebec',\n",
       "       'Newfoundland', 'Manitoba', 'New Brunswick', 'Nova Scotia',\n",
       "       'Prince Edward Island', 'Yukon'], dtype=object)"
      ]
     },
     "execution_count": 115,
     "metadata": {},
     "output_type": "execute_result"
    }
   ],
   "source": [
    "df_final['province'].unique()"
   ]
  },
  {
   "cell_type": "code",
   "execution_count": null,
   "metadata": {},
   "outputs": [],
   "source": [
    "## Hacemos un DF agrupando a los clientes según su provincia: \n",
    "df_province = df_final.groupby('province')['loyalty_number'].count().reset_index()"
   ]
  },
  {
   "cell_type": "code",
   "execution_count": null,
   "metadata": {},
   "outputs": [],
   "source": [
    "## Creamos gráficos basándonos en el DF que hemos creado en el paso anterior:"
   ]
  },
  {
   "cell_type": "code",
   "execution_count": 150,
   "metadata": {},
   "outputs": [
    {
     "data": {
      "text/plain": [
       "Text(0.5, 1.0, 'Distribución de clientes por provincia')"
      ]
     },
     "execution_count": 150,
     "metadata": {},
     "output_type": "execute_result"
    },
    {
     "data": {
      "image/png": "[encoded data removed]",
      "text/plain": [
       "<Figure size 800x800 with 1 Axes>"
      ]
     },
     "metadata": {},
     "output_type": "display_data"
    }
   ],
   "source": [
    "## Pie chart: \n",
    "colores = sns.color_palette(\"Set3\", n_colors=12)\n",
    "\n",
    "\n",
    "plt.figure(figsize=(8,8))\n",
    "plt.pie(\"loyalty_number\", labels= \"province\",\n",
    "        data = df_province, \n",
    "        autopct=  '%1.1f%%', \n",
    "        colors = colores, \n",
    "        textprops={'fontsize': 9}, \n",
    "        startangle=45,\n",
    "        wedgeprops={'edgecolor': 'black', 'linewidth': 1}\n",
    ")\n",
    "\n",
    "plt.title('Distribución de clientes por provincia', fontsize=14)"
   ]
  },
  {
   "cell_type": "code",
   "execution_count": 151,
   "metadata": {},
   "outputs": [
    {
     "data": {
      "text/plain": [
       "([0, 1, 2, 3, 4, 5, 6, 7, 8, 9, 10],\n",
       " [Text(0, 0, 'Alberta'),\n",
       "  Text(1, 0, 'British Columbia'),\n",
       "  Text(2, 0, 'Manitoba'),\n",
       "  Text(3, 0, 'New Brunswick'),\n",
       "  Text(4, 0, 'Newfoundland'),\n",
       "  Text(5, 0, 'Nova Scotia'),\n",
       "  Text(6, 0, 'Ontario'),\n",
       "  Text(7, 0, 'Prince Edward Island'),\n",
       "  Text(8, 0, 'Quebec'),\n",
       "  Text(9, 0, 'Saskatchewan'),\n",
       "  Text(10, 0, 'Yukon')])"
      ]
     },
     "execution_count": 151,
     "metadata": {},
     "output_type": "execute_result"
    },
    {
     "data": {
      "image/png": "[encoded data removed]",
      "text/plain": [
       "<Figure size 1200x600 with 1 Axes>"
      ]
     },
     "metadata": {},
     "output_type": "display_data"
    }
   ],
   "source": [
    "## Bar chart: \n",
    "\n",
    "plt.figure(figsize=(12,6))\n",
    "sns.barplot(x='province', y='loyalty_number', data=df_province, palette='Set3')\n",
    "plt.title('Distribución de clientes por provincia', fontsize=14)\n",
    "plt.xlabel('Provincia')\n",
    "plt.ylabel('Cantidad de clientes')\n",
    "plt.xticks(rotation=45)"
   ]
  },
  {
   "cell_type": "markdown",
   "metadata": {},
   "source": [
    "Conclusión: \n",
    "- La mayoría de los clientes son de las provincias de Ontario, Quebec y British Columbia\n",
    "- La minoría de los clientes son de las provincias de Prince Edward Island, Yukon y Newfoundland "
   ]
  },
  {
   "cell_type": "markdown",
   "metadata": {},
   "source": [
    "#### 4) ¿Cómo se compara el salario promedio entre los diferentes niveles educativos de los clientes?"
   ]
  },
  {
   "cell_type": "code",
   "execution_count": 157,
   "metadata": {},
   "outputs": [
    {
     "data": {
      "text/plain": [
       "education\n",
       "Bachelor                 72599.080913\n",
       "College                  79371.730000\n",
       "Doctor                  178403.675202\n",
       "High School or Below     61146.378165\n",
       "Master                  103734.523724\n",
       "Name: salary, dtype: float64"
      ]
     },
     "execution_count": 157,
     "metadata": {},
     "output_type": "execute_result"
    }
   ],
   "source": [
    "## Verificamos los datos agrupando por el nivel educativo de los clientes y calculando el salario promedio de cada grupo.\n",
    "\n",
    "df_final.groupby('education')['salary'].mean()\n"
   ]
  },
  {
   "cell_type": "code",
   "execution_count": 160,
   "metadata": {},
   "outputs": [],
   "source": [
    "## Creamos gráficos para visualizar los datos:"
   ]
  },
  {
   "cell_type": "code",
   "execution_count": 158,
   "metadata": {},
   "outputs": [
    {
     "data": {
      "text/plain": [
       "([0, 1, 2, 3, 4],\n",
       " [Text(0, 0, 'Bachelor'),\n",
       "  Text(1, 0, 'College'),\n",
       "  Text(2, 0, 'Master'),\n",
       "  Text(3, 0, 'High School or Below'),\n",
       "  Text(4, 0, 'Doctor')])"
      ]
     },
     "execution_count": 158,
     "metadata": {},
     "output_type": "execute_result"
    },
    {
     "data": {
      "image/png": "[encoded data removed]",
      "text/plain": [
       "<Figure size 1100x600 with 1 Axes>"
      ]
     },
     "metadata": {},
     "output_type": "display_data"
    }
   ],
   "source": [
    "## Gráfico de barras: \n",
    "\n",
    "plt.figure(figsize=(11,6))\n",
    "sns.barplot(x='education', y='salary', data=df_final, palette='Set3')\n",
    "plt.title('Salarios promedio según el nivel educativo')\n",
    "plt.xlabel('Nivel educativo')\n",
    "plt.ylabel('Promedio salarial')\n",
    "plt.xticks(rotation=45)\n"
   ]
  },
  {
   "cell_type": "code",
   "execution_count": null,
   "metadata": {},
   "outputs": [
    {
     "data": {
      "image/png": "[encoded data removed]",
      "text/plain": [
       "<Figure size 640x480 with 1 Axes>"
      ]
     },
     "metadata": {},
     "output_type": "display_data"
    }
   ],
   "source": [
    "## Violin Plot: \n",
    "\n",
    "sns.violinplot(x='education', y='salary', data=df_final, palette='Set3')\n",
    "\n",
    "# Títulos y etiquetas\n",
    "plt.title('Distribución de salarios por nivel educativo')\n",
    "plt.xlabel('Nivel educativo')\n",
    "plt.ylabel('Salario')\n",
    "\n",
    "# Mostrar el gráfico\n",
    "plt.xticks(rotation=45)\n",
    "plt.show()\n"
   ]
  },
  {
   "cell_type": "markdown",
   "metadata": {},
   "source": [
    "Conclusión: \n",
    "- Para Bachelor, la distribución es compacta y parecen ser salarios no muy elevados ni muy variados. \n",
    "- En el caso de Collegue no hay dispersion (ya que los datos eran nulos). \n",
    "- En el caso de Master, la distribución parece ser más ancha-dispersa, y la mediana es un poco más alta que la de Bachelor. \n",
    "- Para el tipo high school, los salarios parecen no estar muy dispersos y se encuentran en un rango inferior. \n",
    "- Para la categoría Doctor, el violin es mas amplio, por lo que habría una mayor variedad de salarios en ese grupo. La mediana es mucho más alta que la del resto de las categorías. "
   ]
  },
  {
   "cell_type": "markdown",
   "metadata": {},
   "source": [
    "#### 5) ¿Cuál es la proporción de clientes con diferentes tipos de tarjetas de fidelidad?"
   ]
  },
  {
   "cell_type": "code",
   "execution_count": 163,
   "metadata": {},
   "outputs": [
    {
     "data": {
      "text/html": [
       "<div>\n",
       "<style scoped>\n",
       "    .dataframe tbody tr th:only-of-type {\n",
       "        vertical-align: middle;\n",
       "    }\n",
       "\n",
       "    .dataframe tbody tr th {\n",
       "        vertical-align: top;\n",
       "    }\n",
       "\n",
       "    .dataframe thead th {\n",
       "        text-align: right;\n",
       "    }\n",
       "</style>\n",
       "<table border=\"1\" class=\"dataframe\">\n",
       "  <thead>\n",
       "    <tr style=\"text-align: right;\">\n",
       "      <th></th>\n",
       "      <th>loyalty_card</th>\n",
       "      <th>loyalty_number</th>\n",
       "    </tr>\n",
       "  </thead>\n",
       "  <tbody>\n",
       "    <tr>\n",
       "      <th>0</th>\n",
       "      <td>Aurora</td>\n",
       "      <td>83132</td>\n",
       "    </tr>\n",
       "    <tr>\n",
       "      <th>1</th>\n",
       "      <td>Nova</td>\n",
       "      <td>136883</td>\n",
       "    </tr>\n",
       "    <tr>\n",
       "      <th>2</th>\n",
       "      <td>Star</td>\n",
       "      <td>183745</td>\n",
       "    </tr>\n",
       "  </tbody>\n",
       "</table>\n",
       "</div>"
      ],
      "text/plain": [
       "  loyalty_card  loyalty_number\n",
       "0       Aurora           83132\n",
       "1         Nova          136883\n",
       "2         Star          183745"
      ]
     },
     "execution_count": 163,
     "metadata": {},
     "output_type": "execute_result"
    }
   ],
   "source": [
    "## Creamos un DF para agrupar los datos de la columna de tarjeta de fidelidad y contamos cuántos clientes hay para cada tipo de tarjeta. \n",
    "\n",
    "df_fidelidad = df_final.groupby('loyalty_card')['loyalty_number'].count().reset_index()\n",
    "df_fidelidad"
   ]
  },
  {
   "cell_type": "code",
   "execution_count": 167,
   "metadata": {},
   "outputs": [
    {
     "data": {
      "text/plain": [
       "Text(0.5, 1.0, 'Proporción de clientes con diferentes tipos de tarjetas de fidelidad')"
      ]
     },
     "execution_count": 167,
     "metadata": {},
     "output_type": "execute_result"
    },
    {
     "data": {
      "image/png": "[encoded data removed]",
      "text/plain": [
       "<Figure size 800x800 with 1 Axes>"
      ]
     },
     "metadata": {},
     "output_type": "display_data"
    }
   ],
   "source": [
    "## Hacemos un gráfico para indicar el porcentaje de clientes según cada tipo de tarjeta de fidelidad: \n",
    "\n",
    "plt.figure(figsize=(8,8))\n",
    "plt.pie(\"loyalty_number\", labels= \"loyalty_card\",\n",
    "        data = df_fidelidad, \n",
    "        autopct=  '%1.1f%%', \n",
    "        colors = colores, \n",
    "        textprops={'fontsize': 10}, \n",
    "        startangle=45, \n",
    "        wedgeprops={'edgecolor': 'black', 'linewidth': 1}\n",
    ")\n",
    "\n",
    "plt.title('Proporción de clientes con diferentes tipos de tarjetas de fidelidad', fontsize=12)"
   ]
  },
  {
   "cell_type": "markdown",
   "metadata": {},
   "source": [
    "Conclusión: \n",
    "- El tipo de tarjeta de fidelidad con mayor cantidad de usuarios es 'Star' con un 45% del total. Luego le sigue el tipo 'Nova' con un 33% y finalmente 'Aurora' con un 20%. "
   ]
  },
  {
   "cell_type": "markdown",
   "metadata": {},
   "source": [
    "#### 6) . ¿Cómo se distribuyen los clientes según su estado civil y género?"
   ]
  },
  {
   "cell_type": "code",
   "execution_count": null,
   "metadata": {},
   "outputs": [],
   "source": [
    "## Verificamos los datos de las columnas: "
   ]
  },
  {
   "cell_type": "code",
   "execution_count": 172,
   "metadata": {},
   "outputs": [
    {
     "data": {
      "text/plain": [
       "marital_status\n",
       "Married     234845\n",
       "Single      108153\n",
       "Divorced     60762\n",
       "Name: count, dtype: int64"
      ]
     },
     "execution_count": 172,
     "metadata": {},
     "output_type": "execute_result"
    }
   ],
   "source": [
    "df_final['marital_status'].value_counts()"
   ]
  },
  {
   "cell_type": "code",
   "execution_count": 173,
   "metadata": {},
   "outputs": [
    {
     "data": {
      "text/plain": [
       "gender\n",
       "Female    202757\n",
       "Male      201003\n",
       "Name: count, dtype: int64"
      ]
     },
     "execution_count": 173,
     "metadata": {},
     "output_type": "execute_result"
    }
   ],
   "source": [
    "df_final['gender'].value_counts()"
   ]
  },
  {
   "cell_type": "code",
   "execution_count": null,
   "metadata": {},
   "outputs": [],
   "source": [
    "## Representamos por medio de un gráfico para contar el número de ocurrencias de un valor en una categoria (cuántos clientes hay en cada estado civil, separados por género)."
   ]
  },
  {
   "cell_type": "code",
   "execution_count": null,
   "metadata": {},
   "outputs": [
    {
     "data": {
      "text/plain": [
       "<matplotlib.legend.Legend at 0x7f47a1d35130>"
      ]
     },
     "execution_count": 175,
     "metadata": {},
     "output_type": "execute_result"
    },
    {
     "data": {
      "image/png": "[encoded data removed]",
      "text/plain": [
       "<Figure size 900x500 with 1 Axes>"
      ]
     },
     "metadata": {},
     "output_type": "display_data"
    }
   ],
   "source": [
    "## Countplot \n",
    "\n",
    "plt.figure(figsize=(9,5))\n",
    "\n",
    "sns.countplot(x=\"marital_status\", hue=\"gender\", data=df_final, dodge=True, palette=\"Set3\")\n",
    "\n",
    "# Añadir título y etiquetas\n",
    "plt.title(\"Distribución de Clientes por Estado Civil y Género\")\n",
    "plt.xlabel(\"Estado civil\")\n",
    "plt.ylabel(\"Número de Clientes\")\n",
    "plt.legend(title='Género')"
   ]
  },
  {
   "cell_type": "markdown",
   "metadata": {},
   "source": [
    "Conclusión: \n",
    "- La mayor cantidad de clientes es de estado civil casada, y tanto mujeres como hombres están representados en cantidades similares.\n",
    "- La distribución para el estado civil soltero también tiene es bastante equilibrada entre hombres y mujeres, aunque con una ligera predominancia de mujeres.\n",
    "- En el caso de la categoría divorciado, la distribución por género también es bastante equilibrada, y es la categoría con menor número de clientes. "
   ]
  }
 ],
 "metadata": {
  "kernelspec": {
   "display_name": "base",
   "language": "python",
   "name": "python3"
  },
  "language_info": {
   "codemirror_mode": {
    "name": "ipython",
    "version": 3
   },
   "file_extension": ".py",
   "mimetype": "text/x-python",
   "name": "python",
   "nbconvert_exporter": "python",
   "pygments_lexer": "ipython3",
   "version": "3.12.4"
  }
 },
 "nbformat": 4,
 "nbformat_minor": 2
}
