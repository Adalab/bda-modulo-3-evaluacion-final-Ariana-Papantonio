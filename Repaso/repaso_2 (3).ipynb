{
 "cells": [
  {
   "cell_type": "code",
   "execution_count": 1,
   "metadata": {},
   "outputs": [],
   "source": [
    "import pandas as pd\n",
    "import numpy as np\n",
    "\n",
    "# Visualización\n",
    "# ------------------------------------------------------------------------------\n",
    "import matplotlib.pyplot as plt\n",
    "import seaborn as sns\n",
    "\n",
    "# Evaluar linealidad de las relaciones entre las variables\n",
    "# y la distribución de las variables\n",
    "# ------------------------------------------------------------------------------\n",
    "#from scipy.stats import shapiro, kstest, poisson, chisquare, ttest_ind, levene, bartlett, sem, ppf\n",
    "import scipy.stats as stats\n",
    "from scipy.stats import shapiro, levene\n",
    "from scipy.stats import ttest_ind\n",
    "from scipy.stats import mannwhitneyu\n",
    "from scipy.stats import chi2_contingency\n",
    "\n",
    "# Configuración\n",
    "# -----------------------------------------------------------------------\n",
    "pd.set_option('display.max_columns', None) # para poder visualizar todas las columnas de los DataFrames\n",
    "\n",
    "# Gestión de los warnings\n",
    "# -----------------------------------------------------------------------\n",
    "import warnings\n",
    "warnings.filterwarnings(\"ignore\")"
   ]
  },
  {
   "cell_type": "code",
   "execution_count": 2,
   "metadata": {},
   "outputs": [],
   "source": [
    "from src import soporte as sp"
   ]
  },
  {
   "cell_type": "code",
   "execution_count": 3,
   "metadata": {},
   "outputs": [],
   "source": [
    "df_dia = pd.read_csv(\"files/productos_dia.csv\", index_col = 0)\n",
    "df_precios = pd.read_csv(\"files/precios_productos.csv\", index_col = 0)"
   ]
  },
  {
   "cell_type": "code",
   "execution_count": 4,
   "metadata": {},
   "outputs": [
    {
     "data": {
      "text/plain": [
       "(11494, 5)"
      ]
     },
     "execution_count": 4,
     "metadata": {},
     "output_type": "execute_result"
    }
   ],
   "source": [
    "df_dia.shape"
   ]
  },
  {
   "cell_type": "code",
   "execution_count": 5,
   "metadata": {},
   "outputs": [
    {
     "data": {
      "text/html": [
       "<div>\n",
       "<style scoped>\n",
       "    .dataframe tbody tr th:only-of-type {\n",
       "        vertical-align: middle;\n",
       "    }\n",
       "\n",
       "    .dataframe tbody tr th {\n",
       "        vertical-align: top;\n",
       "    }\n",
       "\n",
       "    .dataframe thead th {\n",
       "        text-align: right;\n",
       "    }\n",
       "</style>\n",
       "<table border=\"1\" class=\"dataframe\">\n",
       "  <thead>\n",
       "    <tr style=\"text-align: right;\">\n",
       "      <th></th>\n",
       "      <th>url</th>\n",
       "      <th>supermarket</th>\n",
       "      <th>name</th>\n",
       "      <th>description</th>\n",
       "      <th>product_id</th>\n",
       "    </tr>\n",
       "  </thead>\n",
       "  <tbody>\n",
       "    <tr>\n",
       "      <th>2362486</th>\n",
       "      <td>https://www.dia.es/compra-online/cuidado-del-h...</td>\n",
       "      <td>dia-es</td>\n",
       "      <td>MISTOL lavavajillas mano original botella 900 ml</td>\n",
       "      <td>NaN</td>\n",
       "      <td>9e2fda45e63337294f2a604178823026</td>\n",
       "    </tr>\n",
       "    <tr>\n",
       "      <th>2362487</th>\n",
       "      <td>https://www.dia.es/compra-online/cuidado-del-h...</td>\n",
       "      <td>dia-es</td>\n",
       "      <td>DIA lavavajillas máquina premium todo en uno e...</td>\n",
       "      <td>NaN</td>\n",
       "      <td>244994c762813d38881cb118742152a2</td>\n",
       "    </tr>\n",
       "    <tr>\n",
       "      <th>2362488</th>\n",
       "      <td>https://www.dia.es/compra-online/cuidado-del-h...</td>\n",
       "      <td>dia-es</td>\n",
       "      <td>FAIRY lavavajillas máquina platinum azul en cá...</td>\n",
       "      <td>NaN</td>\n",
       "      <td>8a5398b602e44b93a0c0a4a7b9d22b84</td>\n",
       "    </tr>\n",
       "    <tr>\n",
       "      <th>2362489</th>\n",
       "      <td>https://www.dia.es/compra-online/cuidado-del-h...</td>\n",
       "      <td>dia-es</td>\n",
       "      <td>FAIRY lavavajillas máquina platinum plus limón...</td>\n",
       "      <td>NaN</td>\n",
       "      <td>2cd7ea87b1963adb51d8e1295f6c14d3</td>\n",
       "    </tr>\n",
       "    <tr>\n",
       "      <th>2362501</th>\n",
       "      <td>https://www.dia.es/compra-online/cuidado-del-h...</td>\n",
       "      <td>dia-es</td>\n",
       "      <td>FAIRY lavavajillas mano concentrado aloe vera ...</td>\n",
       "      <td>NaN</td>\n",
       "      <td>4abac3d30922f81012d7ae0c2cd955f2</td>\n",
       "    </tr>\n",
       "  </tbody>\n",
       "</table>\n",
       "</div>"
      ],
      "text/plain": [
       "                                                       url supermarket  \\\n",
       "2362486  https://www.dia.es/compra-online/cuidado-del-h...      dia-es   \n",
       "2362487  https://www.dia.es/compra-online/cuidado-del-h...      dia-es   \n",
       "2362488  https://www.dia.es/compra-online/cuidado-del-h...      dia-es   \n",
       "2362489  https://www.dia.es/compra-online/cuidado-del-h...      dia-es   \n",
       "2362501  https://www.dia.es/compra-online/cuidado-del-h...      dia-es   \n",
       "\n",
       "                                                      name  description  \\\n",
       "2362486   MISTOL lavavajillas mano original botella 900 ml          NaN   \n",
       "2362487  DIA lavavajillas máquina premium todo en uno e...          NaN   \n",
       "2362488  FAIRY lavavajillas máquina platinum azul en cá...          NaN   \n",
       "2362489  FAIRY lavavajillas máquina platinum plus limón...          NaN   \n",
       "2362501  FAIRY lavavajillas mano concentrado aloe vera ...          NaN   \n",
       "\n",
       "                               product_id  \n",
       "2362486  9e2fda45e63337294f2a604178823026  \n",
       "2362487  244994c762813d38881cb118742152a2  \n",
       "2362488  8a5398b602e44b93a0c0a4a7b9d22b84  \n",
       "2362489  2cd7ea87b1963adb51d8e1295f6c14d3  \n",
       "2362501  4abac3d30922f81012d7ae0c2cd955f2  "
      ]
     },
     "execution_count": 5,
     "metadata": {},
     "output_type": "execute_result"
    }
   ],
   "source": [
    "df_dia.head()"
   ]
  },
  {
   "cell_type": "code",
   "execution_count": 6,
   "metadata": {},
   "outputs": [
    {
     "data": {
      "text/plain": [
       "np.int64(1998)"
      ]
     },
     "execution_count": 6,
     "metadata": {},
     "output_type": "execute_result"
    }
   ],
   "source": [
    "df_dia.duplicated(subset=\"product_id\").sum()"
   ]
  },
  {
   "cell_type": "code",
   "execution_count": 7,
   "metadata": {},
   "outputs": [
    {
     "data": {
      "text/plain": [
       "(1000000, 5)"
      ]
     },
     "execution_count": 7,
     "metadata": {},
     "output_type": "execute_result"
    }
   ],
   "source": [
    "df_precios.shape"
   ]
  },
  {
   "cell_type": "code",
   "execution_count": 8,
   "metadata": {},
   "outputs": [
    {
     "data": {
      "text/html": [
       "<div>\n",
       "<style scoped>\n",
       "    .dataframe tbody tr th:only-of-type {\n",
       "        vertical-align: middle;\n",
       "    }\n",
       "\n",
       "    .dataframe tbody tr th {\n",
       "        vertical-align: top;\n",
       "    }\n",
       "\n",
       "    .dataframe thead th {\n",
       "        text-align: right;\n",
       "    }\n",
       "</style>\n",
       "<table border=\"1\" class=\"dataframe\">\n",
       "  <thead>\n",
       "    <tr style=\"text-align: right;\">\n",
       "      <th></th>\n",
       "      <th>price</th>\n",
       "      <th>reference_price</th>\n",
       "      <th>product_id</th>\n",
       "      <th>reference_unit</th>\n",
       "      <th>insert_date</th>\n",
       "    </tr>\n",
       "  </thead>\n",
       "  <tbody>\n",
       "    <tr>\n",
       "      <th>6220095</th>\n",
       "      <td>3,49</td>\n",
       "      <td>7,35</td>\n",
       "      <td>0008afbaae96e6003d71de151a2ec67b</td>\n",
       "      <td>kg</td>\n",
       "      <td>2022-04-26 00:00:00</td>\n",
       "    </tr>\n",
       "    <tr>\n",
       "      <th>5041956</th>\n",
       "      <td>3,49</td>\n",
       "      <td>7,35</td>\n",
       "      <td>0008afbaae96e6003d71de151a2ec67b</td>\n",
       "      <td>kg</td>\n",
       "      <td>2022-02-04 00:00:00</td>\n",
       "    </tr>\n",
       "    <tr>\n",
       "      <th>3163372</th>\n",
       "      <td>3,39</td>\n",
       "      <td>7,14</td>\n",
       "      <td>0008afbaae96e6003d71de151a2ec67b</td>\n",
       "      <td>kg</td>\n",
       "      <td>2021-09-28 00:00:00</td>\n",
       "    </tr>\n",
       "    <tr>\n",
       "      <th>5445272</th>\n",
       "      <td>3,49</td>\n",
       "      <td>7,35</td>\n",
       "      <td>0008afbaae96e6003d71de151a2ec67b</td>\n",
       "      <td>kg</td>\n",
       "      <td>2022-03-03 00:00:00</td>\n",
       "    </tr>\n",
       "    <tr>\n",
       "      <th>6943538</th>\n",
       "      <td>3,49</td>\n",
       "      <td>7,35</td>\n",
       "      <td>0008afbaae96e6003d71de151a2ec67b</td>\n",
       "      <td>kg</td>\n",
       "      <td>2022-06-15 00:00:00</td>\n",
       "    </tr>\n",
       "    <tr>\n",
       "      <th>...</th>\n",
       "      <td>...</td>\n",
       "      <td>...</td>\n",
       "      <td>...</td>\n",
       "      <td>...</td>\n",
       "      <td>...</td>\n",
       "    </tr>\n",
       "    <tr>\n",
       "      <th>5293128</th>\n",
       "      <td>4,95</td>\n",
       "      <td>0,33</td>\n",
       "      <td>fff3bcc496c06619a23befd1cd9003c9</td>\n",
       "      <td>ud</td>\n",
       "      <td>2022-02-21 00:00:00</td>\n",
       "    </tr>\n",
       "    <tr>\n",
       "      <th>7325546</th>\n",
       "      <td>5,25</td>\n",
       "      <td>0,35</td>\n",
       "      <td>fff3bcc496c06619a23befd1cd9003c9</td>\n",
       "      <td>ud</td>\n",
       "      <td>2022-07-13 00:00:00</td>\n",
       "    </tr>\n",
       "    <tr>\n",
       "      <th>4268815</th>\n",
       "      <td>4,95</td>\n",
       "      <td>0,33</td>\n",
       "      <td>fff3bcc496c06619a23befd1cd9003c9</td>\n",
       "      <td>ud</td>\n",
       "      <td>2021-12-13 00:00:00</td>\n",
       "    </tr>\n",
       "    <tr>\n",
       "      <th>2814416</th>\n",
       "      <td>4,95</td>\n",
       "      <td>0,33</td>\n",
       "      <td>fff3bcc496c06619a23befd1cd9003c9</td>\n",
       "      <td>ud</td>\n",
       "      <td>2021-09-03 00:00:00</td>\n",
       "    </tr>\n",
       "    <tr>\n",
       "      <th>4172645</th>\n",
       "      <td>4,95</td>\n",
       "      <td>0,33</td>\n",
       "      <td>fff3bcc496c06619a23befd1cd9003c9</td>\n",
       "      <td>ud</td>\n",
       "      <td>2021-12-07 00:00:00</td>\n",
       "    </tr>\n",
       "  </tbody>\n",
       "</table>\n",
       "<p>999949 rows × 5 columns</p>\n",
       "</div>"
      ],
      "text/plain": [
       "        price reference_price                        product_id  \\\n",
       "6220095  3,49            7,35  0008afbaae96e6003d71de151a2ec67b   \n",
       "5041956  3,49            7,35  0008afbaae96e6003d71de151a2ec67b   \n",
       "3163372  3,39            7,14  0008afbaae96e6003d71de151a2ec67b   \n",
       "5445272  3,49            7,35  0008afbaae96e6003d71de151a2ec67b   \n",
       "6943538  3,49            7,35  0008afbaae96e6003d71de151a2ec67b   \n",
       "...       ...             ...                               ...   \n",
       "5293128  4,95            0,33  fff3bcc496c06619a23befd1cd9003c9   \n",
       "7325546  5,25            0,35  fff3bcc496c06619a23befd1cd9003c9   \n",
       "4268815  4,95            0,33  fff3bcc496c06619a23befd1cd9003c9   \n",
       "2814416  4,95            0,33  fff3bcc496c06619a23befd1cd9003c9   \n",
       "4172645  4,95            0,33  fff3bcc496c06619a23befd1cd9003c9   \n",
       "\n",
       "        reference_unit          insert_date  \n",
       "6220095             kg  2022-04-26 00:00:00  \n",
       "5041956             kg  2022-02-04 00:00:00  \n",
       "3163372             kg  2021-09-28 00:00:00  \n",
       "5445272             kg  2022-03-03 00:00:00  \n",
       "6943538             kg  2022-06-15 00:00:00  \n",
       "...                ...                  ...  \n",
       "5293128             ud  2022-02-21 00:00:00  \n",
       "7325546             ud  2022-07-13 00:00:00  \n",
       "4268815             ud  2021-12-13 00:00:00  \n",
       "2814416             ud  2021-09-03 00:00:00  \n",
       "4172645             ud  2021-12-07 00:00:00  \n",
       "\n",
       "[999949 rows x 5 columns]"
      ]
     },
     "execution_count": 8,
     "metadata": {},
     "output_type": "execute_result"
    }
   ],
   "source": [
    "df_precios[df_precios.duplicated(subset=\"product_id\", keep=False)].sort_values(by=\"product_id\")"
   ]
  },
  {
   "cell_type": "code",
   "execution_count": 9,
   "metadata": {},
   "outputs": [
    {
     "data": {
      "text/html": [
       "<div>\n",
       "<style scoped>\n",
       "    .dataframe tbody tr th:only-of-type {\n",
       "        vertical-align: middle;\n",
       "    }\n",
       "\n",
       "    .dataframe tbody tr th {\n",
       "        vertical-align: top;\n",
       "    }\n",
       "\n",
       "    .dataframe thead th {\n",
       "        text-align: right;\n",
       "    }\n",
       "</style>\n",
       "<table border=\"1\" class=\"dataframe\">\n",
       "  <thead>\n",
       "    <tr style=\"text-align: right;\">\n",
       "      <th></th>\n",
       "      <th>price</th>\n",
       "      <th>reference_price</th>\n",
       "      <th>product_id</th>\n",
       "      <th>reference_unit</th>\n",
       "      <th>insert_date</th>\n",
       "      <th>url</th>\n",
       "      <th>supermarket</th>\n",
       "      <th>name</th>\n",
       "      <th>description</th>\n",
       "    </tr>\n",
       "  </thead>\n",
       "  <tbody>\n",
       "    <tr>\n",
       "      <th>316716</th>\n",
       "      <td>1,35</td>\n",
       "      <td>45,0</td>\n",
       "      <td>5bfb7f83d904198604a60ed822b8a61b</td>\n",
       "      <td>kg</td>\n",
       "      <td>2022-08-06 00:00:00</td>\n",
       "      <td>https://www.dia.es/compra-online/despensa/sal-...</td>\n",
       "      <td>dia-es</td>\n",
       "      <td>DANI clavo en grano frasco 30 gr</td>\n",
       "      <td>NaN</td>\n",
       "    </tr>\n",
       "    <tr>\n",
       "      <th>721521</th>\n",
       "      <td>5,79</td>\n",
       "      <td>7,72</td>\n",
       "      <td>74445ae08f5b23bb5b503b703513a5d9</td>\n",
       "      <td>l</td>\n",
       "      <td>2021-09-14 00:00:00</td>\n",
       "      <td>https://www.dia.es/compra-online/bodega/vino/t...</td>\n",
       "      <td>dia-es</td>\n",
       "      <td>ALTOS DE TAMARON vino tinto crianza DO Ribera ...</td>\n",
       "      <td>NaN</td>\n",
       "    </tr>\n",
       "    <tr>\n",
       "      <th>270720</th>\n",
       "      <td>3,39</td>\n",
       "      <td>4,52</td>\n",
       "      <td>a1d3f468b1f4c975e0d7e96170a01ddf</td>\n",
       "      <td>l</td>\n",
       "      <td>2022-02-21 00:00:00</td>\n",
       "      <td>https://www.dia.es/compra-online/cuidado-del-h...</td>\n",
       "      <td>dia-es</td>\n",
       "      <td>MAYORDOMO limpia mopas spray 750 ml</td>\n",
       "      <td>NaN</td>\n",
       "    </tr>\n",
       "    <tr>\n",
       "      <th>782817</th>\n",
       "      <td>3,69</td>\n",
       "      <td>3,08</td>\n",
       "      <td>ac1de38711594ced8918287e5edc9a5a</td>\n",
       "      <td>kg</td>\n",
       "      <td>2022-08-10 00:00:00</td>\n",
       "      <td>https://www.dia.es/compra-online/mascotas/gato...</td>\n",
       "      <td>dia-es</td>\n",
       "      <td>AS bocaditos en gelatina para gatos adultos 12...</td>\n",
       "      <td>NaN</td>\n",
       "    </tr>\n",
       "    <tr>\n",
       "      <th>954563</th>\n",
       "      <td>0,59</td>\n",
       "      <td>2,36</td>\n",
       "      <td>6ae43a4bf7eb2b3d980614c911fae24c</td>\n",
       "      <td>kg</td>\n",
       "      <td>2021-12-18 00:00:00</td>\n",
       "      <td>https://www.dia.es/compra-online/al-dia/verdur...</td>\n",
       "      <td>dia-es</td>\n",
       "      <td>DIA ensalada 4 estaciones bolsa 250 gr</td>\n",
       "      <td>NaN</td>\n",
       "    </tr>\n",
       "  </tbody>\n",
       "</table>\n",
       "</div>"
      ],
      "text/plain": [
       "       price reference_price                        product_id reference_unit  \\\n",
       "316716  1,35            45,0  5bfb7f83d904198604a60ed822b8a61b             kg   \n",
       "721521  5,79            7,72  74445ae08f5b23bb5b503b703513a5d9              l   \n",
       "270720  3,39            4,52  a1d3f468b1f4c975e0d7e96170a01ddf              l   \n",
       "782817  3,69            3,08  ac1de38711594ced8918287e5edc9a5a             kg   \n",
       "954563  0,59            2,36  6ae43a4bf7eb2b3d980614c911fae24c             kg   \n",
       "\n",
       "                insert_date  \\\n",
       "316716  2022-08-06 00:00:00   \n",
       "721521  2021-09-14 00:00:00   \n",
       "270720  2022-02-21 00:00:00   \n",
       "782817  2022-08-10 00:00:00   \n",
       "954563  2021-12-18 00:00:00   \n",
       "\n",
       "                                                      url supermarket  \\\n",
       "316716  https://www.dia.es/compra-online/despensa/sal-...      dia-es   \n",
       "721521  https://www.dia.es/compra-online/bodega/vino/t...      dia-es   \n",
       "270720  https://www.dia.es/compra-online/cuidado-del-h...      dia-es   \n",
       "782817  https://www.dia.es/compra-online/mascotas/gato...      dia-es   \n",
       "954563  https://www.dia.es/compra-online/al-dia/verdur...      dia-es   \n",
       "\n",
       "                                                     name  description  \n",
       "316716                   DANI clavo en grano frasco 30 gr          NaN  \n",
       "721521  ALTOS DE TAMARON vino tinto crianza DO Ribera ...          NaN  \n",
       "270720                MAYORDOMO limpia mopas spray 750 ml          NaN  \n",
       "782817  AS bocaditos en gelatina para gatos adultos 12...          NaN  \n",
       "954563             DIA ensalada 4 estaciones bolsa 250 gr          NaN  "
      ]
     },
     "execution_count": 9,
     "metadata": {},
     "output_type": "execute_result"
    }
   ],
   "source": [
    "df_final2 = df_precios.merge(df_dia, on =[\"product_id\"])\n",
    "df_final2.sample(5)"
   ]
  },
  {
   "cell_type": "code",
   "execution_count": 10,
   "metadata": {},
   "outputs": [
    {
     "data": {
      "text/plain": [
       "(1264512, 9)"
      ]
     },
     "execution_count": 10,
     "metadata": {},
     "output_type": "execute_result"
    }
   ],
   "source": [
    "df_final2.shape"
   ]
  },
  {
   "cell_type": "code",
   "execution_count": 11,
   "metadata": {},
   "outputs": [],
   "source": [
    "columnas = [\"price\", \"reference_price\"]\n",
    "\n",
    "for i in columnas: \n",
    "    df_final2[i] = df_final2[i].str.replace(\",\", \".\")"
   ]
  },
  {
   "cell_type": "code",
   "execution_count": 12,
   "metadata": {},
   "outputs": [],
   "source": [
    "for i in columnas: \n",
    "    df_final2[i] = df_final2[i].astype(float)"
   ]
  },
  {
   "cell_type": "code",
   "execution_count": 13,
   "metadata": {},
   "outputs": [
    {
     "data": {
      "text/plain": [
       "price              float64\n",
       "reference_price    float64\n",
       "product_id          object\n",
       "reference_unit      object\n",
       "insert_date         object\n",
       "url                 object\n",
       "supermarket         object\n",
       "name                object\n",
       "description        float64\n",
       "dtype: object"
      ]
     },
     "execution_count": 13,
     "metadata": {},
     "output_type": "execute_result"
    }
   ],
   "source": [
    "df_final2.dtypes"
   ]
  },
  {
   "cell_type": "code",
   "execution_count": 14,
   "metadata": {},
   "outputs": [],
   "source": [
    "df_muestra = df_final2.sample(2500)"
   ]
  },
  {
   "cell_type": "code",
   "execution_count": 15,
   "metadata": {},
   "outputs": [
    {
     "name": "stdout",
     "output_type": "stream",
     "text": [
      "El intervalo del 0.95 para la columna price es 3.22 -> 3.6\n"
     ]
    }
   ],
   "source": [
    "sp.intervalo(df_muestra, \"price\")"
   ]
  },
  {
   "cell_type": "code",
   "execution_count": 16,
   "metadata": {},
   "outputs": [
    {
     "data": {
      "text/plain": [
       "np.float64(3.213986666666667)"
      ]
     },
     "execution_count": 16,
     "metadata": {},
     "output_type": "execute_result"
    }
   ],
   "source": [
    "df_final2.sample(1500)[\"price\"].mean()"
   ]
  },
  {
   "cell_type": "code",
   "execution_count": 17,
   "metadata": {},
   "outputs": [
    {
     "data": {
      "text/html": [
       "<div>\n",
       "<style scoped>\n",
       "    .dataframe tbody tr th:only-of-type {\n",
       "        vertical-align: middle;\n",
       "    }\n",
       "\n",
       "    .dataframe tbody tr th {\n",
       "        vertical-align: top;\n",
       "    }\n",
       "\n",
       "    .dataframe thead th {\n",
       "        text-align: right;\n",
       "    }\n",
       "</style>\n",
       "<table border=\"1\" class=\"dataframe\">\n",
       "  <thead>\n",
       "    <tr style=\"text-align: right;\">\n",
       "      <th></th>\n",
       "      <th>price</th>\n",
       "      <th>reference_price</th>\n",
       "      <th>product_id</th>\n",
       "      <th>reference_unit</th>\n",
       "      <th>insert_date</th>\n",
       "      <th>url</th>\n",
       "      <th>supermarket</th>\n",
       "      <th>name</th>\n",
       "      <th>description</th>\n",
       "      <th>date</th>\n",
       "    </tr>\n",
       "  </thead>\n",
       "  <tbody>\n",
       "    <tr>\n",
       "      <th>0</th>\n",
       "      <td>0.70</td>\n",
       "      <td>0.70</td>\n",
       "      <td>9b1d806ddaed2a3b4c842c361e9171a8</td>\n",
       "      <td>ud</td>\n",
       "      <td>2022-06-08 00:00:00</td>\n",
       "      <td>https://www.dia.es/compra-online/cuidado-del-h...</td>\n",
       "      <td>dia-es</td>\n",
       "      <td>DIA SUPER PACO guantes satinados talla S bolsa...</td>\n",
       "      <td>NaN</td>\n",
       "      <td>2022-06-08</td>\n",
       "    </tr>\n",
       "    <tr>\n",
       "      <th>1</th>\n",
       "      <td>3.19</td>\n",
       "      <td>10.63</td>\n",
       "      <td>baf038a3f001812899adb8beaf4e0ec7</td>\n",
       "      <td>kg</td>\n",
       "      <td>2022-02-10 00:00:00</td>\n",
       "      <td>https://www.dia.es/compra-online/despensa/desa...</td>\n",
       "      <td>dia-es</td>\n",
       "      <td>KELLOGGS cereales special k con frutas rojas c...</td>\n",
       "      <td>NaN</td>\n",
       "      <td>2022-02-10</td>\n",
       "    </tr>\n",
       "    <tr>\n",
       "      <th>2</th>\n",
       "      <td>3.99</td>\n",
       "      <td>15.96</td>\n",
       "      <td>ca2fc753e5ea44e8c95888983c1dafe1</td>\n",
       "      <td>l</td>\n",
       "      <td>2022-04-11 00:00:00</td>\n",
       "      <td>https://www.dia.es/compra-online/cuidado-perso...</td>\n",
       "      <td>dia-es</td>\n",
       "      <td>DIA IMAQE leche solar infantil spf 50+ tubo 25...</td>\n",
       "      <td>NaN</td>\n",
       "      <td>2022-04-11</td>\n",
       "    </tr>\n",
       "    <tr>\n",
       "      <th>3</th>\n",
       "      <td>3.39</td>\n",
       "      <td>5.22</td>\n",
       "      <td>48c959cc94d6d82d1151189b2abe9e83</td>\n",
       "      <td>l</td>\n",
       "      <td>2022-06-19 00:00:00</td>\n",
       "      <td>https://www.dia.es/compra-online/cuidado-perso...</td>\n",
       "      <td>dia-es</td>\n",
       "      <td>SANEX gel de ducha dermo protector piel normal...</td>\n",
       "      <td>NaN</td>\n",
       "      <td>2022-06-19</td>\n",
       "    </tr>\n",
       "    <tr>\n",
       "      <th>4</th>\n",
       "      <td>3.39</td>\n",
       "      <td>5.22</td>\n",
       "      <td>48c959cc94d6d82d1151189b2abe9e83</td>\n",
       "      <td>l</td>\n",
       "      <td>2022-06-19 00:00:00</td>\n",
       "      <td>https://www.dia.es/compra-online/cuidado-perso...</td>\n",
       "      <td>dia-es</td>\n",
       "      <td>SANEX gel de ducha biome protect piel normal b...</td>\n",
       "      <td>NaN</td>\n",
       "      <td>2022-06-19</td>\n",
       "    </tr>\n",
       "  </tbody>\n",
       "</table>\n",
       "</div>"
      ],
      "text/plain": [
       "   price  reference_price                        product_id reference_unit  \\\n",
       "0   0.70             0.70  9b1d806ddaed2a3b4c842c361e9171a8             ud   \n",
       "1   3.19            10.63  baf038a3f001812899adb8beaf4e0ec7             kg   \n",
       "2   3.99            15.96  ca2fc753e5ea44e8c95888983c1dafe1              l   \n",
       "3   3.39             5.22  48c959cc94d6d82d1151189b2abe9e83              l   \n",
       "4   3.39             5.22  48c959cc94d6d82d1151189b2abe9e83              l   \n",
       "\n",
       "           insert_date                                                url  \\\n",
       "0  2022-06-08 00:00:00  https://www.dia.es/compra-online/cuidado-del-h...   \n",
       "1  2022-02-10 00:00:00  https://www.dia.es/compra-online/despensa/desa...   \n",
       "2  2022-04-11 00:00:00  https://www.dia.es/compra-online/cuidado-perso...   \n",
       "3  2022-06-19 00:00:00  https://www.dia.es/compra-online/cuidado-perso...   \n",
       "4  2022-06-19 00:00:00  https://www.dia.es/compra-online/cuidado-perso...   \n",
       "\n",
       "  supermarket                                               name  description  \\\n",
       "0      dia-es  DIA SUPER PACO guantes satinados talla S bolsa...          NaN   \n",
       "1      dia-es  KELLOGGS cereales special k con frutas rojas c...          NaN   \n",
       "2      dia-es  DIA IMAQE leche solar infantil spf 50+ tubo 25...          NaN   \n",
       "3      dia-es  SANEX gel de ducha dermo protector piel normal...          NaN   \n",
       "4      dia-es  SANEX gel de ducha biome protect piel normal b...          NaN   \n",
       "\n",
       "         date  \n",
       "0  2022-06-08  \n",
       "1  2022-02-10  \n",
       "2  2022-04-11  \n",
       "3  2022-06-19  \n",
       "4  2022-06-19  "
      ]
     },
     "execution_count": 17,
     "metadata": {},
     "output_type": "execute_result"
    }
   ],
   "source": [
    "df_final2[\"date\"] = df_final2[\"insert_date\"].str.split(\" \").str[0]\n",
    "df_final2.head()"
   ]
  },
  {
   "cell_type": "code",
   "execution_count": 18,
   "metadata": {},
   "outputs": [],
   "source": [
    "df_final2[\"date\"] = pd.to_datetime(df_final2[\"date\"])"
   ]
  },
  {
   "cell_type": "code",
   "execution_count": 19,
   "metadata": {},
   "outputs": [
    {
     "data": {
      "text/html": [
       "<div>\n",
       "<style scoped>\n",
       "    .dataframe tbody tr th:only-of-type {\n",
       "        vertical-align: middle;\n",
       "    }\n",
       "\n",
       "    .dataframe tbody tr th {\n",
       "        vertical-align: top;\n",
       "    }\n",
       "\n",
       "    .dataframe thead th {\n",
       "        text-align: right;\n",
       "    }\n",
       "</style>\n",
       "<table border=\"1\" class=\"dataframe\">\n",
       "  <thead>\n",
       "    <tr style=\"text-align: right;\">\n",
       "      <th></th>\n",
       "      <th>price</th>\n",
       "      <th>reference_price</th>\n",
       "      <th>product_id</th>\n",
       "      <th>reference_unit</th>\n",
       "      <th>insert_date</th>\n",
       "      <th>url</th>\n",
       "      <th>supermarket</th>\n",
       "      <th>name</th>\n",
       "      <th>description</th>\n",
       "      <th>date</th>\n",
       "    </tr>\n",
       "  </thead>\n",
       "  <tbody>\n",
       "    <tr>\n",
       "      <th>0</th>\n",
       "      <td>0.70</td>\n",
       "      <td>0.70</td>\n",
       "      <td>9b1d806ddaed2a3b4c842c361e9171a8</td>\n",
       "      <td>ud</td>\n",
       "      <td>2022-06-08 00:00:00</td>\n",
       "      <td>https://www.dia.es/compra-online/cuidado-del-h...</td>\n",
       "      <td>dia-es</td>\n",
       "      <td>DIA SUPER PACO guantes satinados talla S bolsa...</td>\n",
       "      <td>NaN</td>\n",
       "      <td>2022-06-08</td>\n",
       "    </tr>\n",
       "    <tr>\n",
       "      <th>1</th>\n",
       "      <td>3.19</td>\n",
       "      <td>10.63</td>\n",
       "      <td>baf038a3f001812899adb8beaf4e0ec7</td>\n",
       "      <td>kg</td>\n",
       "      <td>2022-02-10 00:00:00</td>\n",
       "      <td>https://www.dia.es/compra-online/despensa/desa...</td>\n",
       "      <td>dia-es</td>\n",
       "      <td>KELLOGGS cereales special k con frutas rojas c...</td>\n",
       "      <td>NaN</td>\n",
       "      <td>2022-02-10</td>\n",
       "    </tr>\n",
       "    <tr>\n",
       "      <th>2</th>\n",
       "      <td>3.99</td>\n",
       "      <td>15.96</td>\n",
       "      <td>ca2fc753e5ea44e8c95888983c1dafe1</td>\n",
       "      <td>l</td>\n",
       "      <td>2022-04-11 00:00:00</td>\n",
       "      <td>https://www.dia.es/compra-online/cuidado-perso...</td>\n",
       "      <td>dia-es</td>\n",
       "      <td>DIA IMAQE leche solar infantil spf 50+ tubo 25...</td>\n",
       "      <td>NaN</td>\n",
       "      <td>2022-04-11</td>\n",
       "    </tr>\n",
       "    <tr>\n",
       "      <th>3</th>\n",
       "      <td>3.39</td>\n",
       "      <td>5.22</td>\n",
       "      <td>48c959cc94d6d82d1151189b2abe9e83</td>\n",
       "      <td>l</td>\n",
       "      <td>2022-06-19 00:00:00</td>\n",
       "      <td>https://www.dia.es/compra-online/cuidado-perso...</td>\n",
       "      <td>dia-es</td>\n",
       "      <td>SANEX gel de ducha dermo protector piel normal...</td>\n",
       "      <td>NaN</td>\n",
       "      <td>2022-06-19</td>\n",
       "    </tr>\n",
       "    <tr>\n",
       "      <th>4</th>\n",
       "      <td>3.39</td>\n",
       "      <td>5.22</td>\n",
       "      <td>48c959cc94d6d82d1151189b2abe9e83</td>\n",
       "      <td>l</td>\n",
       "      <td>2022-06-19 00:00:00</td>\n",
       "      <td>https://www.dia.es/compra-online/cuidado-perso...</td>\n",
       "      <td>dia-es</td>\n",
       "      <td>SANEX gel de ducha biome protect piel normal b...</td>\n",
       "      <td>NaN</td>\n",
       "      <td>2022-06-19</td>\n",
       "    </tr>\n",
       "  </tbody>\n",
       "</table>\n",
       "</div>"
      ],
      "text/plain": [
       "   price  reference_price                        product_id reference_unit  \\\n",
       "0   0.70             0.70  9b1d806ddaed2a3b4c842c361e9171a8             ud   \n",
       "1   3.19            10.63  baf038a3f001812899adb8beaf4e0ec7             kg   \n",
       "2   3.99            15.96  ca2fc753e5ea44e8c95888983c1dafe1              l   \n",
       "3   3.39             5.22  48c959cc94d6d82d1151189b2abe9e83              l   \n",
       "4   3.39             5.22  48c959cc94d6d82d1151189b2abe9e83              l   \n",
       "\n",
       "           insert_date                                                url  \\\n",
       "0  2022-06-08 00:00:00  https://www.dia.es/compra-online/cuidado-del-h...   \n",
       "1  2022-02-10 00:00:00  https://www.dia.es/compra-online/despensa/desa...   \n",
       "2  2022-04-11 00:00:00  https://www.dia.es/compra-online/cuidado-perso...   \n",
       "3  2022-06-19 00:00:00  https://www.dia.es/compra-online/cuidado-perso...   \n",
       "4  2022-06-19 00:00:00  https://www.dia.es/compra-online/cuidado-perso...   \n",
       "\n",
       "  supermarket                                               name  description  \\\n",
       "0      dia-es  DIA SUPER PACO guantes satinados talla S bolsa...          NaN   \n",
       "1      dia-es  KELLOGGS cereales special k con frutas rojas c...          NaN   \n",
       "2      dia-es  DIA IMAQE leche solar infantil spf 50+ tubo 25...          NaN   \n",
       "3      dia-es  SANEX gel de ducha dermo protector piel normal...          NaN   \n",
       "4      dia-es  SANEX gel de ducha biome protect piel normal b...          NaN   \n",
       "\n",
       "        date  \n",
       "0 2022-06-08  \n",
       "1 2022-02-10  \n",
       "2 2022-04-11  \n",
       "3 2022-06-19  \n",
       "4 2022-06-19  "
      ]
     },
     "execution_count": 19,
     "metadata": {},
     "output_type": "execute_result"
    }
   ],
   "source": [
    "df_final2.head()"
   ]
  },
  {
   "cell_type": "code",
   "execution_count": 20,
   "metadata": {},
   "outputs": [
    {
     "data": {
      "text/plain": [
       "price                     float64\n",
       "reference_price           float64\n",
       "product_id                 object\n",
       "reference_unit             object\n",
       "insert_date                object\n",
       "url                        object\n",
       "supermarket                object\n",
       "name                       object\n",
       "description               float64\n",
       "date               datetime64[ns]\n",
       "dtype: object"
      ]
     },
     "execution_count": 20,
     "metadata": {},
     "output_type": "execute_result"
    }
   ],
   "source": [
    "df_final2.dtypes"
   ]
  },
  {
   "cell_type": "code",
   "execution_count": 21,
   "metadata": {},
   "outputs": [],
   "source": [
    "df_final2[\"diferencia\"] = df_final2[\"reference_price\"] - df_final2[\"price\"]"
   ]
  },
  {
   "cell_type": "code",
   "execution_count": 22,
   "metadata": {},
   "outputs": [
    {
     "data": {
      "text/html": [
       "<div>\n",
       "<style scoped>\n",
       "    .dataframe tbody tr th:only-of-type {\n",
       "        vertical-align: middle;\n",
       "    }\n",
       "\n",
       "    .dataframe tbody tr th {\n",
       "        vertical-align: top;\n",
       "    }\n",
       "\n",
       "    .dataframe thead th {\n",
       "        text-align: right;\n",
       "    }\n",
       "</style>\n",
       "<table border=\"1\" class=\"dataframe\">\n",
       "  <thead>\n",
       "    <tr style=\"text-align: right;\">\n",
       "      <th></th>\n",
       "      <th>price</th>\n",
       "      <th>reference_price</th>\n",
       "      <th>product_id</th>\n",
       "      <th>reference_unit</th>\n",
       "      <th>insert_date</th>\n",
       "      <th>url</th>\n",
       "      <th>supermarket</th>\n",
       "      <th>name</th>\n",
       "      <th>description</th>\n",
       "      <th>date</th>\n",
       "      <th>diferencia</th>\n",
       "    </tr>\n",
       "  </thead>\n",
       "  <tbody>\n",
       "    <tr>\n",
       "      <th>0</th>\n",
       "      <td>0.70</td>\n",
       "      <td>0.70</td>\n",
       "      <td>9b1d806ddaed2a3b4c842c361e9171a8</td>\n",
       "      <td>ud</td>\n",
       "      <td>2022-06-08 00:00:00</td>\n",
       "      <td>https://www.dia.es/compra-online/cuidado-del-h...</td>\n",
       "      <td>dia-es</td>\n",
       "      <td>DIA SUPER PACO guantes satinados talla S bolsa...</td>\n",
       "      <td>NaN</td>\n",
       "      <td>2022-06-08</td>\n",
       "      <td>0.00</td>\n",
       "    </tr>\n",
       "    <tr>\n",
       "      <th>1</th>\n",
       "      <td>3.19</td>\n",
       "      <td>10.63</td>\n",
       "      <td>baf038a3f001812899adb8beaf4e0ec7</td>\n",
       "      <td>kg</td>\n",
       "      <td>2022-02-10 00:00:00</td>\n",
       "      <td>https://www.dia.es/compra-online/despensa/desa...</td>\n",
       "      <td>dia-es</td>\n",
       "      <td>KELLOGGS cereales special k con frutas rojas c...</td>\n",
       "      <td>NaN</td>\n",
       "      <td>2022-02-10</td>\n",
       "      <td>7.44</td>\n",
       "    </tr>\n",
       "  </tbody>\n",
       "</table>\n",
       "</div>"
      ],
      "text/plain": [
       "   price  reference_price                        product_id reference_unit  \\\n",
       "0   0.70             0.70  9b1d806ddaed2a3b4c842c361e9171a8             ud   \n",
       "1   3.19            10.63  baf038a3f001812899adb8beaf4e0ec7             kg   \n",
       "\n",
       "           insert_date                                                url  \\\n",
       "0  2022-06-08 00:00:00  https://www.dia.es/compra-online/cuidado-del-h...   \n",
       "1  2022-02-10 00:00:00  https://www.dia.es/compra-online/despensa/desa...   \n",
       "\n",
       "  supermarket                                               name  description  \\\n",
       "0      dia-es  DIA SUPER PACO guantes satinados talla S bolsa...          NaN   \n",
       "1      dia-es  KELLOGGS cereales special k con frutas rojas c...          NaN   \n",
       "\n",
       "        date  diferencia  \n",
       "0 2022-06-08        0.00  \n",
       "1 2022-02-10        7.44  "
      ]
     },
     "execution_count": 22,
     "metadata": {},
     "output_type": "execute_result"
    }
   ],
   "source": [
    "df_final2.head(2)"
   ]
  },
  {
   "cell_type": "code",
   "execution_count": 23,
   "metadata": {},
   "outputs": [],
   "source": [
    "def obtener_diferencia(precio_referencia, precio):\n",
    "\n",
    "    return precio_referencia - precio"
   ]
  },
  {
   "cell_type": "code",
   "execution_count": 24,
   "metadata": {},
   "outputs": [
    {
     "data": {
      "text/plain": [
       "3"
      ]
     },
     "execution_count": 24,
     "metadata": {},
     "output_type": "execute_result"
    }
   ],
   "source": [
    "obtener_diferencia(10, 7)"
   ]
  },
  {
   "cell_type": "code",
   "execution_count": null,
   "metadata": {},
   "outputs": [],
   "source": [
    "# df_final2[\"diferencia_2\"] = df_final2.apply(lambda fila: obtener_diferencia(fila[\"reference_price\"], fila[\"price\"]), axis = 1)"
   ]
  },
  {
   "cell_type": "code",
   "execution_count": 26,
   "metadata": {},
   "outputs": [
    {
     "data": {
      "text/html": [
       "<div>\n",
       "<style scoped>\n",
       "    .dataframe tbody tr th:only-of-type {\n",
       "        vertical-align: middle;\n",
       "    }\n",
       "\n",
       "    .dataframe tbody tr th {\n",
       "        vertical-align: top;\n",
       "    }\n",
       "\n",
       "    .dataframe thead th {\n",
       "        text-align: right;\n",
       "    }\n",
       "</style>\n",
       "<table border=\"1\" class=\"dataframe\">\n",
       "  <thead>\n",
       "    <tr style=\"text-align: right;\">\n",
       "      <th></th>\n",
       "      <th>price</th>\n",
       "      <th>reference_price</th>\n",
       "      <th>product_id</th>\n",
       "      <th>reference_unit</th>\n",
       "      <th>insert_date</th>\n",
       "      <th>url</th>\n",
       "      <th>supermarket</th>\n",
       "      <th>name</th>\n",
       "      <th>description</th>\n",
       "      <th>date</th>\n",
       "      <th>diferencia</th>\n",
       "    </tr>\n",
       "  </thead>\n",
       "  <tbody>\n",
       "    <tr>\n",
       "      <th>0</th>\n",
       "      <td>0.70</td>\n",
       "      <td>0.70</td>\n",
       "      <td>9b1d806ddaed2a3b4c842c361e9171a8</td>\n",
       "      <td>ud</td>\n",
       "      <td>2022-06-08 00:00:00</td>\n",
       "      <td>https://www.dia.es/compra-online/cuidado-del-h...</td>\n",
       "      <td>dia-es</td>\n",
       "      <td>DIA SUPER PACO guantes satinados talla S bolsa...</td>\n",
       "      <td>NaN</td>\n",
       "      <td>2022-06-08</td>\n",
       "      <td>0.00</td>\n",
       "    </tr>\n",
       "    <tr>\n",
       "      <th>1</th>\n",
       "      <td>3.19</td>\n",
       "      <td>10.63</td>\n",
       "      <td>baf038a3f001812899adb8beaf4e0ec7</td>\n",
       "      <td>kg</td>\n",
       "      <td>2022-02-10 00:00:00</td>\n",
       "      <td>https://www.dia.es/compra-online/despensa/desa...</td>\n",
       "      <td>dia-es</td>\n",
       "      <td>KELLOGGS cereales special k con frutas rojas c...</td>\n",
       "      <td>NaN</td>\n",
       "      <td>2022-02-10</td>\n",
       "      <td>7.44</td>\n",
       "    </tr>\n",
       "  </tbody>\n",
       "</table>\n",
       "</div>"
      ],
      "text/plain": [
       "   price  reference_price                        product_id reference_unit  \\\n",
       "0   0.70             0.70  9b1d806ddaed2a3b4c842c361e9171a8             ud   \n",
       "1   3.19            10.63  baf038a3f001812899adb8beaf4e0ec7             kg   \n",
       "\n",
       "           insert_date                                                url  \\\n",
       "0  2022-06-08 00:00:00  https://www.dia.es/compra-online/cuidado-del-h...   \n",
       "1  2022-02-10 00:00:00  https://www.dia.es/compra-online/despensa/desa...   \n",
       "\n",
       "  supermarket                                               name  description  \\\n",
       "0      dia-es  DIA SUPER PACO guantes satinados talla S bolsa...          NaN   \n",
       "1      dia-es  KELLOGGS cereales special k con frutas rojas c...          NaN   \n",
       "\n",
       "        date  diferencia  \n",
       "0 2022-06-08        0.00  \n",
       "1 2022-02-10        7.44  "
      ]
     },
     "execution_count": 26,
     "metadata": {},
     "output_type": "execute_result"
    }
   ],
   "source": [
    "df_final2.head(2)"
   ]
  },
  {
   "cell_type": "code",
   "execution_count": 27,
   "metadata": {},
   "outputs": [
    {
     "data": {
      "text/plain": [
       "'https://www.dia.es/compra-online/cuidado-del-hogar/utensilios-de-limpieza/p/270115'"
      ]
     },
     "execution_count": 27,
     "metadata": {},
     "output_type": "execute_result"
    }
   ],
   "source": [
    "df_final2[\"url\"][0]"
   ]
  },
  {
   "cell_type": "code",
   "execution_count": 28,
   "metadata": {},
   "outputs": [
    {
     "data": {
      "text/plain": [
       "'https://www.dia.es/compra-online/despensa/desayunos-y-dulces/chocolates-y-bombones/p/148474'"
      ]
     },
     "execution_count": 28,
     "metadata": {},
     "output_type": "execute_result"
    }
   ],
   "source": [
    "df_final2[\"url\"][127]"
   ]
  },
  {
   "cell_type": "code",
   "execution_count": 29,
   "metadata": {},
   "outputs": [
    {
     "data": {
      "text/plain": [
       "'https://www.dia.es/compra-online/platos-preparados/ensaladas/p/278588'"
      ]
     },
     "execution_count": 29,
     "metadata": {},
     "output_type": "execute_result"
    }
   ],
   "source": [
    "df_final2[\"url\"][42]"
   ]
  },
  {
   "cell_type": "code",
   "execution_count": 30,
   "metadata": {},
   "outputs": [],
   "source": [
    "def sacar_info(x):\n",
    "    if \"al-dia\" in x:\n",
    "        return \"frescos\", x.split(\"/\")[5]\n",
    "\n",
    "    elif \"bulto-mixto\" in x or \"peso\" in x or \"caducidad\" in x or \"clasificacion-de-categorias\" in x:\n",
    "        return x.split(\"/\")[5], x.split(\"/\")[6]\n",
    "        \n",
    "    else:\n",
    "        return x.split(\"/\")[4], x.split(\"/\")[5]"
   ]
  },
  {
   "cell_type": "code",
   "execution_count": 31,
   "metadata": {},
   "outputs": [
    {
     "data": {
      "text/plain": [
       "('platos-preparados', 'ensaladas')"
      ]
     },
     "execution_count": 31,
     "metadata": {},
     "output_type": "execute_result"
    }
   ],
   "source": [
    "sacar_info('https://www.dia.es/compra-online/platos-preparados/ensaladas/p/278588')"
   ]
  },
  {
   "cell_type": "code",
   "execution_count": 32,
   "metadata": {},
   "outputs": [
    {
     "data": {
      "text/plain": [
       "'platos-preparados'"
      ]
     },
     "execution_count": 32,
     "metadata": {},
     "output_type": "execute_result"
    }
   ],
   "source": [
    "sacar_info('https://www.dia.es/compra-online/platos-preparados/ensaladas/p/278588')[0]"
   ]
  },
  {
   "cell_type": "code",
   "execution_count": 33,
   "metadata": {},
   "outputs": [
    {
     "data": {
      "text/plain": [
       "'ensaladas'"
      ]
     },
     "execution_count": 33,
     "metadata": {},
     "output_type": "execute_result"
    }
   ],
   "source": [
    "sacar_info('https://www.dia.es/compra-online/platos-preparados/ensaladas/p/278588')[1]"
   ]
  },
  {
   "cell_type": "code",
   "execution_count": 36,
   "metadata": {},
   "outputs": [
    {
     "ename": "ValueError",
     "evalue": "Length of values (2) does not match length of index (1264512)",
     "output_type": "error",
     "traceback": [
      "\u001b[0;31m---------------------------------------------------------------------------\u001b[0m",
      "\u001b[0;31mValueError\u001b[0m                                Traceback (most recent call last)",
      "Cell \u001b[0;32mIn[36], line 1\u001b[0m\n\u001b[0;32m----> 1\u001b[0m \u001b[43mdf_final2\u001b[49m\u001b[43m[\u001b[49m\u001b[38;5;124;43m\"\u001b[39;49m\u001b[38;5;124;43mcategoria\u001b[39;49m\u001b[38;5;124;43m\"\u001b[39;49m\u001b[43m]\u001b[49m \u001b[38;5;241m=\u001b[39m df_final2[\u001b[38;5;124m\"\u001b[39m\u001b[38;5;124murl\u001b[39m\u001b[38;5;124m\"\u001b[39m]\u001b[38;5;241m.\u001b[39mapply(sacar_info)[\u001b[38;5;241m0\u001b[39m]\n",
      "File \u001b[0;32m~/anaconda3/envs/promo-i/lib/python3.11/site-packages/pandas/core/frame.py:4311\u001b[0m, in \u001b[0;36mDataFrame.__setitem__\u001b[0;34m(self, key, value)\u001b[0m\n\u001b[1;32m   4308\u001b[0m     \u001b[38;5;28mself\u001b[39m\u001b[38;5;241m.\u001b[39m_setitem_array([key], value)\n\u001b[1;32m   4309\u001b[0m \u001b[38;5;28;01melse\u001b[39;00m:\n\u001b[1;32m   4310\u001b[0m     \u001b[38;5;66;03m# set column\u001b[39;00m\n\u001b[0;32m-> 4311\u001b[0m     \u001b[38;5;28;43mself\u001b[39;49m\u001b[38;5;241;43m.\u001b[39;49m\u001b[43m_set_item\u001b[49m\u001b[43m(\u001b[49m\u001b[43mkey\u001b[49m\u001b[43m,\u001b[49m\u001b[43m \u001b[49m\u001b[43mvalue\u001b[49m\u001b[43m)\u001b[49m\n",
      "File \u001b[0;32m~/anaconda3/envs/promo-i/lib/python3.11/site-packages/pandas/core/frame.py:4524\u001b[0m, in \u001b[0;36mDataFrame._set_item\u001b[0;34m(self, key, value)\u001b[0m\n\u001b[1;32m   4514\u001b[0m \u001b[38;5;28;01mdef\u001b[39;00m \u001b[38;5;21m_set_item\u001b[39m(\u001b[38;5;28mself\u001b[39m, key, value) \u001b[38;5;241m-\u001b[39m\u001b[38;5;241m>\u001b[39m \u001b[38;5;28;01mNone\u001b[39;00m:\n\u001b[1;32m   4515\u001b[0m \u001b[38;5;250m    \u001b[39m\u001b[38;5;124;03m\"\"\"\u001b[39;00m\n\u001b[1;32m   4516\u001b[0m \u001b[38;5;124;03m    Add series to DataFrame in specified column.\u001b[39;00m\n\u001b[1;32m   4517\u001b[0m \n\u001b[0;32m   (...)\u001b[0m\n\u001b[1;32m   4522\u001b[0m \u001b[38;5;124;03m    ensure homogeneity.\u001b[39;00m\n\u001b[1;32m   4523\u001b[0m \u001b[38;5;124;03m    \"\"\"\u001b[39;00m\n\u001b[0;32m-> 4524\u001b[0m     value, refs \u001b[38;5;241m=\u001b[39m \u001b[38;5;28;43mself\u001b[39;49m\u001b[38;5;241;43m.\u001b[39;49m\u001b[43m_sanitize_column\u001b[49m\u001b[43m(\u001b[49m\u001b[43mvalue\u001b[49m\u001b[43m)\u001b[49m\n\u001b[1;32m   4526\u001b[0m     \u001b[38;5;28;01mif\u001b[39;00m (\n\u001b[1;32m   4527\u001b[0m         key \u001b[38;5;129;01min\u001b[39;00m \u001b[38;5;28mself\u001b[39m\u001b[38;5;241m.\u001b[39mcolumns\n\u001b[1;32m   4528\u001b[0m         \u001b[38;5;129;01mand\u001b[39;00m value\u001b[38;5;241m.\u001b[39mndim \u001b[38;5;241m==\u001b[39m \u001b[38;5;241m1\u001b[39m\n\u001b[1;32m   4529\u001b[0m         \u001b[38;5;129;01mand\u001b[39;00m \u001b[38;5;129;01mnot\u001b[39;00m \u001b[38;5;28misinstance\u001b[39m(value\u001b[38;5;241m.\u001b[39mdtype, ExtensionDtype)\n\u001b[1;32m   4530\u001b[0m     ):\n\u001b[1;32m   4531\u001b[0m         \u001b[38;5;66;03m# broadcast across multiple columns if necessary\u001b[39;00m\n\u001b[1;32m   4532\u001b[0m         \u001b[38;5;28;01mif\u001b[39;00m \u001b[38;5;129;01mnot\u001b[39;00m \u001b[38;5;28mself\u001b[39m\u001b[38;5;241m.\u001b[39mcolumns\u001b[38;5;241m.\u001b[39mis_unique \u001b[38;5;129;01mor\u001b[39;00m \u001b[38;5;28misinstance\u001b[39m(\u001b[38;5;28mself\u001b[39m\u001b[38;5;241m.\u001b[39mcolumns, MultiIndex):\n",
      "File \u001b[0;32m~/anaconda3/envs/promo-i/lib/python3.11/site-packages/pandas/core/frame.py:5266\u001b[0m, in \u001b[0;36mDataFrame._sanitize_column\u001b[0;34m(self, value)\u001b[0m\n\u001b[1;32m   5263\u001b[0m     \u001b[38;5;28;01mreturn\u001b[39;00m _reindex_for_setitem(value, \u001b[38;5;28mself\u001b[39m\u001b[38;5;241m.\u001b[39mindex)\n\u001b[1;32m   5265\u001b[0m \u001b[38;5;28;01mif\u001b[39;00m is_list_like(value):\n\u001b[0;32m-> 5266\u001b[0m     \u001b[43mcom\u001b[49m\u001b[38;5;241;43m.\u001b[39;49m\u001b[43mrequire_length_match\u001b[49m\u001b[43m(\u001b[49m\u001b[43mvalue\u001b[49m\u001b[43m,\u001b[49m\u001b[43m \u001b[49m\u001b[38;5;28;43mself\u001b[39;49m\u001b[38;5;241;43m.\u001b[39;49m\u001b[43mindex\u001b[49m\u001b[43m)\u001b[49m\n\u001b[1;32m   5267\u001b[0m arr \u001b[38;5;241m=\u001b[39m sanitize_array(value, \u001b[38;5;28mself\u001b[39m\u001b[38;5;241m.\u001b[39mindex, copy\u001b[38;5;241m=\u001b[39m\u001b[38;5;28;01mTrue\u001b[39;00m, allow_2d\u001b[38;5;241m=\u001b[39m\u001b[38;5;28;01mTrue\u001b[39;00m)\n\u001b[1;32m   5268\u001b[0m \u001b[38;5;28;01mif\u001b[39;00m (\n\u001b[1;32m   5269\u001b[0m     \u001b[38;5;28misinstance\u001b[39m(value, Index)\n\u001b[1;32m   5270\u001b[0m     \u001b[38;5;129;01mand\u001b[39;00m value\u001b[38;5;241m.\u001b[39mdtype \u001b[38;5;241m==\u001b[39m \u001b[38;5;124m\"\u001b[39m\u001b[38;5;124mobject\u001b[39m\u001b[38;5;124m\"\u001b[39m\n\u001b[0;32m   (...)\u001b[0m\n\u001b[1;32m   5273\u001b[0m     \u001b[38;5;66;03m# TODO: Remove kludge in sanitize_array for string mode when enforcing\u001b[39;00m\n\u001b[1;32m   5274\u001b[0m     \u001b[38;5;66;03m# this deprecation\u001b[39;00m\n",
      "File \u001b[0;32m~/anaconda3/envs/promo-i/lib/python3.11/site-packages/pandas/core/common.py:573\u001b[0m, in \u001b[0;36mrequire_length_match\u001b[0;34m(data, index)\u001b[0m\n\u001b[1;32m    569\u001b[0m \u001b[38;5;250m\u001b[39m\u001b[38;5;124;03m\"\"\"\u001b[39;00m\n\u001b[1;32m    570\u001b[0m \u001b[38;5;124;03mCheck the length of data matches the length of the index.\u001b[39;00m\n\u001b[1;32m    571\u001b[0m \u001b[38;5;124;03m\"\"\"\u001b[39;00m\n\u001b[1;32m    572\u001b[0m \u001b[38;5;28;01mif\u001b[39;00m \u001b[38;5;28mlen\u001b[39m(data) \u001b[38;5;241m!=\u001b[39m \u001b[38;5;28mlen\u001b[39m(index):\n\u001b[0;32m--> 573\u001b[0m     \u001b[38;5;28;01mraise\u001b[39;00m \u001b[38;5;167;01mValueError\u001b[39;00m(\n\u001b[1;32m    574\u001b[0m         \u001b[38;5;124m\"\u001b[39m\u001b[38;5;124mLength of values \u001b[39m\u001b[38;5;124m\"\u001b[39m\n\u001b[1;32m    575\u001b[0m         \u001b[38;5;124mf\u001b[39m\u001b[38;5;124m\"\u001b[39m\u001b[38;5;124m(\u001b[39m\u001b[38;5;132;01m{\u001b[39;00m\u001b[38;5;28mlen\u001b[39m(data)\u001b[38;5;132;01m}\u001b[39;00m\u001b[38;5;124m) \u001b[39m\u001b[38;5;124m\"\u001b[39m\n\u001b[1;32m    576\u001b[0m         \u001b[38;5;124m\"\u001b[39m\u001b[38;5;124mdoes not match length of index \u001b[39m\u001b[38;5;124m\"\u001b[39m\n\u001b[1;32m    577\u001b[0m         \u001b[38;5;124mf\u001b[39m\u001b[38;5;124m\"\u001b[39m\u001b[38;5;124m(\u001b[39m\u001b[38;5;132;01m{\u001b[39;00m\u001b[38;5;28mlen\u001b[39m(index)\u001b[38;5;132;01m}\u001b[39;00m\u001b[38;5;124m)\u001b[39m\u001b[38;5;124m\"\u001b[39m\n\u001b[1;32m    578\u001b[0m     )\n",
      "\u001b[0;31mValueError\u001b[0m: Length of values (2) does not match length of index (1264512)"
     ]
    }
   ],
   "source": [
    "df_final2[\"categoria\"] = df_final2[\"url\"].apply(sacar_info)[0]"
   ]
  },
  {
   "cell_type": "code",
   "execution_count": 37,
   "metadata": {},
   "outputs": [],
   "source": [
    "df_final2[[\"categoria2\",\"subcategoria\"]] = df_final2.apply(lambda x: sacar_info(x[\"url\"]), axis=1, result_type=\"expand\")"
   ]
  },
  {
   "cell_type": "code",
   "execution_count": 38,
   "metadata": {},
   "outputs": [
    {
     "data": {
      "text/html": [
       "<div>\n",
       "<style scoped>\n",
       "    .dataframe tbody tr th:only-of-type {\n",
       "        vertical-align: middle;\n",
       "    }\n",
       "\n",
       "    .dataframe tbody tr th {\n",
       "        vertical-align: top;\n",
       "    }\n",
       "\n",
       "    .dataframe thead th {\n",
       "        text-align: right;\n",
       "    }\n",
       "</style>\n",
       "<table border=\"1\" class=\"dataframe\">\n",
       "  <thead>\n",
       "    <tr style=\"text-align: right;\">\n",
       "      <th></th>\n",
       "      <th>price</th>\n",
       "      <th>reference_price</th>\n",
       "      <th>product_id</th>\n",
       "      <th>reference_unit</th>\n",
       "      <th>insert_date</th>\n",
       "      <th>url</th>\n",
       "      <th>supermarket</th>\n",
       "      <th>name</th>\n",
       "      <th>description</th>\n",
       "      <th>date</th>\n",
       "      <th>diferencia</th>\n",
       "      <th>categoria</th>\n",
       "      <th>categoria2</th>\n",
       "      <th>subcategoria</th>\n",
       "    </tr>\n",
       "  </thead>\n",
       "  <tbody>\n",
       "    <tr>\n",
       "      <th>0</th>\n",
       "      <td>0.70</td>\n",
       "      <td>0.70</td>\n",
       "      <td>9b1d806ddaed2a3b4c842c361e9171a8</td>\n",
       "      <td>ud</td>\n",
       "      <td>2022-06-08 00:00:00</td>\n",
       "      <td>https://www.dia.es/compra-online/cuidado-del-h...</td>\n",
       "      <td>dia-es</td>\n",
       "      <td>DIA SUPER PACO guantes satinados talla S bolsa...</td>\n",
       "      <td>NaN</td>\n",
       "      <td>2022-06-08</td>\n",
       "      <td>0.00</td>\n",
       "      <td>(cuidado-del-hogar, utensilios-de-limpieza)</td>\n",
       "      <td>cuidado-del-hogar</td>\n",
       "      <td>utensilios-de-limpieza</td>\n",
       "    </tr>\n",
       "    <tr>\n",
       "      <th>1</th>\n",
       "      <td>3.19</td>\n",
       "      <td>10.63</td>\n",
       "      <td>baf038a3f001812899adb8beaf4e0ec7</td>\n",
       "      <td>kg</td>\n",
       "      <td>2022-02-10 00:00:00</td>\n",
       "      <td>https://www.dia.es/compra-online/despensa/desa...</td>\n",
       "      <td>dia-es</td>\n",
       "      <td>KELLOGGS cereales special k con frutas rojas c...</td>\n",
       "      <td>NaN</td>\n",
       "      <td>2022-02-10</td>\n",
       "      <td>7.44</td>\n",
       "      <td>(despensa, desayunos-y-dulces)</td>\n",
       "      <td>despensa</td>\n",
       "      <td>desayunos-y-dulces</td>\n",
       "    </tr>\n",
       "  </tbody>\n",
       "</table>\n",
       "</div>"
      ],
      "text/plain": [
       "   price  reference_price                        product_id reference_unit  \\\n",
       "0   0.70             0.70  9b1d806ddaed2a3b4c842c361e9171a8             ud   \n",
       "1   3.19            10.63  baf038a3f001812899adb8beaf4e0ec7             kg   \n",
       "\n",
       "           insert_date                                                url  \\\n",
       "0  2022-06-08 00:00:00  https://www.dia.es/compra-online/cuidado-del-h...   \n",
       "1  2022-02-10 00:00:00  https://www.dia.es/compra-online/despensa/desa...   \n",
       "\n",
       "  supermarket                                               name  description  \\\n",
       "0      dia-es  DIA SUPER PACO guantes satinados talla S bolsa...          NaN   \n",
       "1      dia-es  KELLOGGS cereales special k con frutas rojas c...          NaN   \n",
       "\n",
       "        date  diferencia                                    categoria  \\\n",
       "0 2022-06-08        0.00  (cuidado-del-hogar, utensilios-de-limpieza)   \n",
       "1 2022-02-10        7.44               (despensa, desayunos-y-dulces)   \n",
       "\n",
       "          categoria2            subcategoria  \n",
       "0  cuidado-del-hogar  utensilios-de-limpieza  \n",
       "1           despensa      desayunos-y-dulces  "
      ]
     },
     "execution_count": 38,
     "metadata": {},
     "output_type": "execute_result"
    }
   ],
   "source": [
    "df_final2.head(2)"
   ]
  },
  {
   "cell_type": "code",
   "execution_count": 39,
   "metadata": {},
   "outputs": [
    {
     "data": {
      "text/plain": [
       "price\n",
       "1.99     43466\n",
       "2.99     33913\n",
       "1.89     23453\n",
       "0.99     22479\n",
       "1.00     21433\n",
       "         ...  \n",
       "14.89        2\n",
       "19.59        1\n",
       "16.00        1\n",
       "12.35        1\n",
       "2.84         1\n",
       "Name: count, Length: 1026, dtype: int64"
      ]
     },
     "execution_count": 39,
     "metadata": {},
     "output_type": "execute_result"
    }
   ],
   "source": [
    "df_final2[\"price\"].value_counts()"
   ]
  },
  {
   "cell_type": "code",
   "execution_count": 40,
   "metadata": {},
   "outputs": [
    {
     "data": {
      "text/plain": [
       "np.float64(3.4070820317751553)"
      ]
     },
     "execution_count": 40,
     "metadata": {},
     "output_type": "execute_result"
    }
   ],
   "source": [
    "df_final2[\"price\"].mean()"
   ]
  },
  {
   "cell_type": "code",
   "execution_count": 41,
   "metadata": {},
   "outputs": [
    {
     "data": {
      "text/plain": [
       "reference_unit\n",
       "kg        697263\n",
       "l         401337\n",
       "ud        150232\n",
       "lavado     12811\n",
       "m           1253\n",
       "Name: count, dtype: int64"
      ]
     },
     "execution_count": 41,
     "metadata": {},
     "output_type": "execute_result"
    }
   ],
   "source": [
    "df_final2[\"reference_unit\"].value_counts()"
   ]
  }
 ],
 "metadata": {
  "kernelspec": {
   "display_name": "promo-i",
   "language": "python",
   "name": "python3"
  },
  "language_info": {
   "codemirror_mode": {
    "name": "ipython",
    "version": 3
   },
   "file_extension": ".py",
   "mimetype": "text/x-python",
   "name": "python",
   "nbconvert_exporter": "python",
   "pygments_lexer": "ipython3",
   "version": "3.11.7"
  }
 },
 "nbformat": 4,
 "nbformat_minor": 2
}
